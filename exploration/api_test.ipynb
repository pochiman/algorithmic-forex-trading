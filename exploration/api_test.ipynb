{
 "cells": [
  {
   "cell_type": "code",
   "execution_count": 55,
   "id": "d68ff9bd-3839-4c50-b4de-146adb3c6d27",
   "metadata": {},
   "outputs": [],
   "source": [
    "import requests\n",
    "import pandas as pd\n",
    "import json\n",
    "from dateutil import parser"
   ]
  },
  {
   "cell_type": "code",
   "execution_count": 56,
   "id": "a37bbde8-3190-4d1d-a0c6-d5588e8c0583",
   "metadata": {},
   "outputs": [],
   "source": [
    "API_KEY = \"67939bb0d275fb01694c238a5f6f7da5-3e9ae23411b17b20ead1a6ca001b5680\"\n",
    "ACCOUNT_ID = \"101-002-27691953-001\"\n",
    "OANDA_URL = \"https://api-fxpractice.oanda.com/v3\""
   ]
  },
  {
   "cell_type": "code",
   "execution_count": 57,
   "id": "e5d18890-ff42-4ff9-80e1-ee81372a080d",
   "metadata": {},
   "outputs": [],
   "source": [
    "session = requests.Session()"
   ]
  },
  {
   "cell_type": "code",
   "execution_count": 58,
   "id": "4b54c355-148a-4c5c-895c-935a3fb1c440",
   "metadata": {},
   "outputs": [],
   "source": [
    "session.headers.update({\n",
    "    \"Authorization\": f\"Bearer {API_KEY}\",\n",
    "    \"Content-Type\": \"application/json\"\n",
    "})"
   ]
  },
  {
   "cell_type": "code",
   "execution_count": 59,
   "id": "1924ee11-ab0d-42c9-82c2-5e74be6a69d2",
   "metadata": {},
   "outputs": [],
   "source": [
    "params = dict(\n",
    "    count = 10,\n",
    "    granularity = \"H1\",\n",
    "    price = \"MBA\"\n",
    ")"
   ]
  },
  {
   "cell_type": "code",
   "execution_count": 60,
   "id": "46ebde6a-dc68-4ca1-97b3-a59588d6872c",
   "metadata": {},
   "outputs": [],
   "source": [
    "url = f\"{OANDA_URL}/accounts/{ACCOUNT_ID}/instruments\""
   ]
  },
  {
   "cell_type": "code",
   "execution_count": 61,
   "id": "da4d4cf8-836d-493e-8cee-e40df5db58ab",
   "metadata": {},
   "outputs": [],
   "source": [
    "response = session.get(url, params=None, data=None, headers=None)"
   ]
  },
  {
   "cell_type": "code",
   "execution_count": 62,
   "id": "c39fe361-769c-4e85-829b-1a852e8c44ce",
   "metadata": {},
   "outputs": [
    {
     "data": {
      "text/plain": [
       "200"
      ]
     },
     "execution_count": 62,
     "metadata": {},
     "output_type": "execute_result"
    }
   ],
   "source": [
    "response.status_code"
   ]
  },
  {
   "cell_type": "code",
   "execution_count": 63,
   "id": "e73c86dc-c4bc-4f02-b602-80532c0d6ba4",
   "metadata": {},
   "outputs": [],
   "source": [
    "data = response.json()"
   ]
  },
  {
   "cell_type": "code",
   "execution_count": 64,
   "id": "3e6868bc-7a28-43b6-bcbd-0d0dbf4b2fa7",
   "metadata": {},
   "outputs": [],
   "source": [
    "instruments_list = data['instruments']"
   ]
  },
  {
   "cell_type": "code",
   "execution_count": 65,
   "id": "ca8fdee4-2ee8-4ef3-adae-9a6f9f65dd39",
   "metadata": {},
   "outputs": [
    {
     "data": {
      "text/plain": [
       "123"
      ]
     },
     "execution_count": 65,
     "metadata": {},
     "output_type": "execute_result"
    }
   ],
   "source": [
    "len(instruments_list)"
   ]
  },
  {
   "cell_type": "code",
   "execution_count": 66,
   "id": "c40f285c-1241-4f5e-9fa2-e1d921fd29a6",
   "metadata": {},
   "outputs": [
    {
     "data": {
      "text/plain": [
       "dict_keys(['name', 'type', 'displayName', 'pipLocation', 'displayPrecision', 'tradeUnitsPrecision', 'minimumTradeSize', 'maximumTrailingStopDistance', 'minimumTrailingStopDistance', 'maximumPositionSize', 'maximumOrderUnits', 'marginRate', 'guaranteedStopLossOrderMode', 'tags', 'financing'])"
      ]
     },
     "execution_count": 66,
     "metadata": {},
     "output_type": "execute_result"
    }
   ],
   "source": [
    "instruments_list[0].keys()"
   ]
  },
  {
   "cell_type": "code",
   "execution_count": 67,
   "id": "279de917-0115-4e20-ad9e-7b085b62dda3",
   "metadata": {},
   "outputs": [],
   "source": [
    "key_i = ['name', 'type', 'displayName', 'pipLocation', \n",
    "         'displayPrecision', 'tradeUnitsPrecision', 'marginRate']"
   ]
  },
  {
   "cell_type": "code",
   "execution_count": 68,
   "id": "d0e580fb-e3b2-4ae5-a1f7-8c3ab1c9c66d",
   "metadata": {},
   "outputs": [],
   "source": [
    "instruments_dict = {}\n",
    "for i in instruments_list:\n",
    "    key = i['name']\n",
    "    instruments_dict[key] = { k: i[k] for k in key_i }"
   ]
  },
  {
   "cell_type": "code",
   "execution_count": 69,
   "id": "34321773-da21-4f00-af43-5bcaf5f06be8",
   "metadata": {},
   "outputs": [
    {
     "data": {
      "text/plain": [
       "{'name': 'USD_CAD',\n",
       " 'type': 'CURRENCY',\n",
       " 'displayName': 'USD/CAD',\n",
       " 'pipLocation': -4,\n",
       " 'displayPrecision': 5,\n",
       " 'tradeUnitsPrecision': 0,\n",
       " 'marginRate': '0.02'}"
      ]
     },
     "execution_count": 69,
     "metadata": {},
     "output_type": "execute_result"
    }
   ],
   "source": [
    "instruments_dict['USD_CAD']"
   ]
  },
  {
   "cell_type": "code",
   "execution_count": 1,
   "id": "f9a88b4d-4bda-42ec-8a3d-30f10d8ba862",
   "metadata": {},
   "outputs": [
    {
     "data": {
      "text/plain": [
       "0.0001"
      ]
     },
     "execution_count": 1,
     "metadata": {},
     "output_type": "execute_result"
    }
   ],
   "source": [
    "# -4 -> 0.0001\n",
    "pow(10, -4)"
   ]
  },
  {
   "cell_type": "code",
   "execution_count": 70,
   "id": "da1a4d82-2bed-4592-96ed-2a51634fcc67",
   "metadata": {},
   "outputs": [],
   "source": [
    "with open(\"../data/instruments.json\", \"w\") as f:\n",
    "    f.write(json.dumps(instruments_dict, indent=2))"
   ]
  },
  {
   "cell_type": "code",
   "execution_count": 75,
   "id": "75c0cb76-0c49-4c4a-be49-03def1bcb3d4",
   "metadata": {},
   "outputs": [],
   "source": [
    "def fetch_candles(pair_name, count=10, granularity=\"H1\"):\n",
    "    url = f\"{OANDA_URL}/instruments/{pair_name}/candles\"\n",
    "    params = dict(\n",
    "        count = count,\n",
    "        granularity = granularity,\n",
    "        price = \"MBA\"\n",
    "    )\n",
    "    response = session.get(url, params=params, data=None, headers=None)\n",
    "    data = response.json()\n",
    "\n",
    "    if response.status_code == 200:\n",
    "        if 'candles' not in data:\n",
    "            data = []\n",
    "        else:\n",
    "            data = data['candles']\n",
    "    return response.status_code, data\n",
    "\n",
    "def get_candles_df(data):\n",
    "    if len(data) == 0:\n",
    "        return pd.DataFrame()\n",
    "    \n",
    "    prices = ['mid', 'bid', 'ask']\n",
    "    ohlc = ['o', 'h', 'l', 'c']\n",
    "    \n",
    "    final_data = []\n",
    "    for candle in data:\n",
    "        if candle['complete'] == False:\n",
    "            continue\n",
    "        new_dict = {}\n",
    "        new_dict['time'] = parser.parse(candle['time'])\n",
    "        new_dict['volume'] = candle['volume']\n",
    "        for p in prices:\n",
    "            for o in ohlc:\n",
    "                new_dict[f\"{p}_{o}\"] = float(candle[p][o])\n",
    "        final_data.append(new_dict)\n",
    "    df = pd.DataFrame.from_dict(final_data)\n",
    "    return df\n",
    "\n",
    "def create_data_file(pair_name, count=10, granularity=\"H1\"):\n",
    "    code, data = fetch_candles(pair_name, count, granularity)\n",
    "    if code != 200:\n",
    "        print(\"Failed\", pair_name, data)\n",
    "        return\n",
    "    if len(data) == 0:\n",
    "        print(\"No candles\", pair_name)\n",
    "    candles_df = get_candles_df(data)\n",
    "    candles_df.to_pickle(f\"../data/{pair_name}_{granularity}.pkl\")\n",
    "    print(f\"{pair_name} {granularity} {candles_df.shape[0]} candles, {candles_df.time.min()} {candles_df.time.max()}\")"
   ]
  },
  {
   "cell_type": "code",
   "execution_count": 77,
   "id": "0c6034ca-3420-40ec-a32c-59bc516cc9df",
   "metadata": {},
   "outputs": [],
   "source": [
    "code, data = fetch_candles(\"EUR_USD\", count=10, granularity=\"H4\")\n",
    "candles_df = get_candles_df(data)"
   ]
  },
  {
   "cell_type": "code",
   "execution_count": 78,
   "id": "14ef55b9-fc94-4e3f-be2d-6adacbb4b8b0",
   "metadata": {},
   "outputs": [
    {
     "name": "stdout",
     "output_type": "stream",
     "text": [
      "EUR_USD H4 9 candles, 2023-12-12 10:00:00+00:00 2023-12-13 18:00:00+00:00\n"
     ]
    }
   ],
   "source": [
    "create_data_file(\"EUR_USD\", count=10, granularity=\"H4\")"
   ]
  },
  {
   "cell_type": "code",
   "execution_count": 79,
   "id": "6b520dd3-a06c-4781-89a1-dfcc728046fc",
   "metadata": {},
   "outputs": [],
   "source": [
    "our_curr = ['EUR', 'USD', 'GBP', 'JPY', 'CHF', 'NZD', 'CAD', 'AUD']"
   ]
  },
  {
   "cell_type": "code",
   "execution_count": 85,
   "id": "f3331af6-b6a0-4c42-aa90-75f605e5fc72",
   "metadata": {},
   "outputs": [
    {
     "name": "stdout",
     "output_type": "stream",
     "text": [
      "EUR_USD H1 4000 candles, 2023-04-25 09:00:00+00:00 2023-12-14 01:00:00+00:00\n",
      "EUR_USD H4 4000 candles, 2021-05-24 09:00:00+00:00 2023-12-13 22:00:00+00:00\n",
      "EUR_GBP H1 4000 candles, 2023-04-25 09:00:00+00:00 2023-12-14 01:00:00+00:00\n",
      "EUR_GBP H4 4000 candles, 2021-05-24 09:00:00+00:00 2023-12-13 22:00:00+00:00\n",
      "EUR_JPY H1 4000 candles, 2023-04-25 09:00:00+00:00 2023-12-14 01:00:00+00:00\n",
      "EUR_JPY H4 4000 candles, 2021-05-24 01:00:00+00:00 2023-12-13 22:00:00+00:00\n",
      "EUR_CHF H1 4000 candles, 2023-04-25 09:00:00+00:00 2023-12-14 01:00:00+00:00\n",
      "EUR_CHF H4 4000 candles, 2021-05-24 09:00:00+00:00 2023-12-13 22:00:00+00:00\n",
      "EUR_NZD H1 4000 candles, 2023-04-25 08:00:00+00:00 2023-12-14 01:00:00+00:00\n",
      "EUR_NZD H4 4000 candles, 2021-05-24 09:00:00+00:00 2023-12-13 22:00:00+00:00\n",
      "EUR_CAD H1 4000 candles, 2023-04-25 09:00:00+00:00 2023-12-14 01:00:00+00:00\n",
      "EUR_CAD H4 4000 candles, 2021-05-24 09:00:00+00:00 2023-12-13 22:00:00+00:00\n",
      "EUR_AUD H1 4000 candles, 2023-04-25 09:00:00+00:00 2023-12-14 01:00:00+00:00\n",
      "EUR_AUD H4 4000 candles, 2021-05-24 09:00:00+00:00 2023-12-13 22:00:00+00:00\n",
      "USD_JPY H1 4000 candles, 2023-04-25 09:00:00+00:00 2023-12-14 01:00:00+00:00\n",
      "USD_JPY H4 4000 candles, 2021-05-24 09:00:00+00:00 2023-12-13 22:00:00+00:00\n",
      "USD_CHF H1 4000 candles, 2023-04-25 09:00:00+00:00 2023-12-14 01:00:00+00:00\n",
      "USD_CHF H4 4000 candles, 2021-05-24 09:00:00+00:00 2023-12-13 22:00:00+00:00\n",
      "USD_CAD H1 4000 candles, 2023-04-25 09:00:00+00:00 2023-12-14 01:00:00+00:00\n",
      "USD_CAD H4 4000 candles, 2021-05-24 09:00:00+00:00 2023-12-13 22:00:00+00:00\n",
      "GBP_USD H1 4000 candles, 2023-04-25 09:00:00+00:00 2023-12-14 01:00:00+00:00\n",
      "GBP_USD H4 4000 candles, 2021-05-24 09:00:00+00:00 2023-12-13 22:00:00+00:00\n",
      "GBP_JPY H1 4000 candles, 2023-04-25 09:00:00+00:00 2023-12-14 01:00:00+00:00\n",
      "GBP_JPY H4 4000 candles, 2021-05-24 09:00:00+00:00 2023-12-13 22:00:00+00:00\n",
      "GBP_CHF H1 4000 candles, 2023-04-25 09:00:00+00:00 2023-12-14 01:00:00+00:00\n",
      "GBP_CHF H4 4000 candles, 2021-05-24 09:00:00+00:00 2023-12-13 22:00:00+00:00\n",
      "GBP_NZD H1 4000 candles, 2023-04-25 08:00:00+00:00 2023-12-14 01:00:00+00:00\n",
      "GBP_NZD H4 4000 candles, 2021-05-24 09:00:00+00:00 2023-12-13 22:00:00+00:00\n",
      "GBP_CAD H1 4000 candles, 2023-04-25 09:00:00+00:00 2023-12-14 01:00:00+00:00\n",
      "GBP_CAD H4 4000 candles, 2021-05-24 09:00:00+00:00 2023-12-13 22:00:00+00:00\n",
      "GBP_AUD H1 4000 candles, 2023-04-25 06:00:00+00:00 2023-12-14 01:00:00+00:00\n",
      "GBP_AUD H4 4000 candles, 2021-05-24 09:00:00+00:00 2023-12-13 22:00:00+00:00\n",
      "CHF_JPY H1 4000 candles, 2023-04-25 09:00:00+00:00 2023-12-14 01:00:00+00:00\n",
      "CHF_JPY H4 4000 candles, 2021-05-24 09:00:00+00:00 2023-12-13 22:00:00+00:00\n",
      "NZD_USD H1 4000 candles, 2023-04-25 09:00:00+00:00 2023-12-14 01:00:00+00:00\n",
      "NZD_USD H4 4000 candles, 2021-05-24 17:00:00+00:00 2023-12-13 22:00:00+00:00\n",
      "NZD_JPY H1 4000 candles, 2023-04-25 09:00:00+00:00 2023-12-14 01:00:00+00:00\n",
      "NZD_JPY H4 4000 candles, 2021-05-24 09:00:00+00:00 2023-12-13 22:00:00+00:00\n",
      "NZD_CHF H1 4000 candles, 2023-04-25 02:00:00+00:00 2023-12-14 01:00:00+00:00\n",
      "NZD_CHF H4 4000 candles, 2021-05-24 05:00:00+00:00 2023-12-13 22:00:00+00:00\n",
      "NZD_CAD H1 4000 candles, 2023-04-25 08:00:00+00:00 2023-12-14 01:00:00+00:00\n",
      "NZD_CAD H4 4000 candles, 2021-05-24 09:00:00+00:00 2023-12-13 22:00:00+00:00\n",
      "CAD_JPY H1 4000 candles, 2023-04-25 09:00:00+00:00 2023-12-14 01:00:00+00:00\n",
      "CAD_JPY H4 4000 candles, 2021-05-24 09:00:00+00:00 2023-12-13 22:00:00+00:00\n",
      "CAD_CHF H1 4000 candles, 2023-04-25 07:00:00+00:00 2023-12-14 01:00:00+00:00\n",
      "CAD_CHF H4 4000 candles, 2021-05-24 09:00:00+00:00 2023-12-13 22:00:00+00:00\n",
      "AUD_USD H1 4000 candles, 2023-04-25 09:00:00+00:00 2023-12-14 01:00:00+00:00\n",
      "AUD_USD H4 4000 candles, 2021-05-24 09:00:00+00:00 2023-12-13 22:00:00+00:00\n",
      "AUD_JPY H1 4000 candles, 2023-04-25 09:00:00+00:00 2023-12-14 01:00:00+00:00\n",
      "AUD_JPY H4 4000 candles, 2021-05-25 09:00:00+00:00 2023-12-13 22:00:00+00:00\n",
      "AUD_CHF H1 4000 candles, 2023-04-25 08:00:00+00:00 2023-12-14 01:00:00+00:00\n",
      "AUD_CHF H4 4000 candles, 2021-05-24 05:00:00+00:00 2023-12-13 22:00:00+00:00\n",
      "AUD_NZD H1 4000 candles, 2023-04-25 09:00:00+00:00 2023-12-14 01:00:00+00:00\n",
      "AUD_NZD H4 4000 candles, 2021-05-24 05:00:00+00:00 2023-12-13 22:00:00+00:00\n",
      "AUD_CAD H1 4000 candles, 2023-04-25 09:00:00+00:00 2023-12-14 01:00:00+00:00\n",
      "AUD_CAD H4 4000 candles, 2021-05-24 09:00:00+00:00 2023-12-13 22:00:00+00:00\n"
     ]
    }
   ],
   "source": [
    "for p1 in our_curr:\n",
    "    for p2 in our_curr:\n",
    "        pr = f\"{p1}_{p2}\"\n",
    "        if pr in instruments_dict:\n",
    "            for g in [\"H1\", \"H4\"]:\n",
    "                create_data_file(pr, count=4001, granularity=g)"
   ]
  },
  {
   "cell_type": "code",
   "execution_count": null,
   "id": "50d8899f-2951-4ab3-8b0d-5058d768abab",
   "metadata": {},
   "outputs": [],
   "source": []
  },
  {
   "cell_type": "code",
   "execution_count": null,
   "id": "42ed269d-318e-4911-83f1-75a7f9de1392",
   "metadata": {},
   "outputs": [],
   "source": []
  },
  {
   "cell_type": "code",
   "execution_count": null,
   "id": "b9b515b7-80a4-434c-8f00-47e85e35cd58",
   "metadata": {},
   "outputs": [],
   "source": []
  },
  {
   "cell_type": "code",
   "execution_count": null,
   "id": "3c291938-eed8-412b-8f46-f6c1106afef9",
   "metadata": {},
   "outputs": [],
   "source": []
  }
 ],
 "metadata": {
  "kernelspec": {
   "display_name": "Python 3 (ipykernel)",
   "language": "python",
   "name": "python3"
  },
  "language_info": {
   "codemirror_mode": {
    "name": "ipython",
    "version": 3
   },
   "file_extension": ".py",
   "mimetype": "text/x-python",
   "name": "python",
   "nbconvert_exporter": "python",
   "pygments_lexer": "ipython3",
   "version": "3.11.6"
  }
 },
 "nbformat": 4,
 "nbformat_minor": 5
}
