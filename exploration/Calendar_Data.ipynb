{
 "cells": [
  {
   "cell_type": "code",
   "execution_count": 1,
   "id": "da1775f2-ea81-4613-a6d3-69fc19f35204",
   "metadata": {},
   "outputs": [],
   "source": [
    "import sys\n",
    "sys.path.append(\"../\")\n",
    "\n",
    "import pandas as pd\n",
    "import plotly.graph_objects as go\n",
    "from dateutil import parser\n",
    "import datetime as dt\n",
    "\n",
    "from api.oanda_api import OandaApi\n",
    "from infrastructure.instrument_collection import instrumentCollection as ic\n",
    "from db.db import DataDB"
   ]
  },
  {
   "cell_type": "code",
   "execution_count": 2,
   "id": "ef4e716f-1fa2-41bb-ba09-c5f6f9387310",
   "metadata": {},
   "outputs": [],
   "source": [
    "database = DataDB()"
   ]
  },
  {
   "cell_type": "code",
   "execution_count": 3,
   "id": "a2a1a506-e05d-48fa-8dd7-061a73611be8",
   "metadata": {},
   "outputs": [],
   "source": [
    "ic.LoadInstrumentsDB()"
   ]
  },
  {
   "cell_type": "code",
   "execution_count": 4,
   "id": "8d278fd7-d91a-4041-a8a6-a730acbd3cd4",
   "metadata": {},
   "outputs": [],
   "source": [
    "pairs = []\n",
    "for pair, val in ic.instruments_dict.items():\n",
    "    if val.ins_type == \"CURRENCY\" and \"GBP\" in pair:\n",
    "        pairs.append(pair)"
   ]
  },
  {
   "cell_type": "code",
   "execution_count": null,
   "id": "4be9e46f-dcb6-41fb-b93d-2d161d444ad8",
   "metadata": {},
   "outputs": [],
   "source": [
    "pairs"
   ]
  },
  {
   "cell_type": "code",
   "execution_count": null,
   "id": "ee6b1be3-8184-4e51-82ea-42f1eaf6a035",
   "metadata": {},
   "outputs": [],
   "source": [
    "data = []\n",
    "api = OandaApi()\n",
    "for p in pairs:\n",
    "    d_temp = api.get_candles_df(pair_name=p, granularity=\"D\", count=400)\n",
    "    d_temp['gain'] = ((d_temp.mid_c - d_temp.mid_o) / d_temp.mid_c) * 100\n",
    "    d_temp['pair'] = p\n",
    "    if '_GBP' in p:\n",
    "        d_temp['gain'] = d_temp['gain'] * -1\n",
    "    data.append(d_temp)\n",
    "candles_df = pd.concat(data)\n",
    "candles_df.reset_index(drop=True, inplace=True)\n",
    "candles_df.time = candles_df.time.dt.date"
   ]
  },
  {
   "cell_type": "code",
   "execution_count": null,
   "id": "77846374-dfd3-4190-bd8a-6f81e028af25",
   "metadata": {},
   "outputs": [],
   "source": [
    "candles_df.tail()"
   ]
  },
  {
   "cell_type": "code",
   "execution_count": 24,
   "id": "f769a11e-0466-403e-98c1-c8a2d0bc4106",
   "metadata": {},
   "outputs": [],
   "source": [
    "calendar_data = database.query_all(DataDB.CALENDAR_COLL)"
   ]
  },
  {
   "cell_type": "code",
   "execution_count": 26,
   "id": "2a645828-05a6-4cfb-b925-47b970bc9911",
   "metadata": {},
   "outputs": [],
   "source": [
    "calendar_data_df = pd.DataFrame.from_dict(calendar_data)"
   ]
  },
  {
   "cell_type": "code",
   "execution_count": null,
   "id": "29d8db45-4574-4372-a1e1-8ed66c09c743",
   "metadata": {},
   "outputs": [],
   "source": [
    "calendar_data_df.date = calendar_data_df.date.dt.date"
   ]
  },
  {
   "cell_type": "code",
   "execution_count": null,
   "id": "e88f9114-3eee-460f-a069-a7b5510e76f5",
   "metadata": {},
   "outputs": [],
   "source": [
    "calendar_data_df_uk = calendar_data_df[calendar_data_df.country == \"united kingdom\"].copy()"
   ]
  },
  {
   "cell_type": "code",
   "execution_count": null,
   "id": "5fc62d1f-5572-4423-91a9-5decef39baad",
   "metadata": {},
   "outputs": [],
   "source": [
    "calendar_data_df_uk"
   ]
  },
  {
   "cell_type": "code",
   "execution_count": null,
   "id": "06c42601-5a67-4c84-b470-c9de77ba52db",
   "metadata": {},
   "outputs": [],
   "source": [
    "calendar_data_df_uk.info()"
   ]
  },
  {
   "cell_type": "code",
   "execution_count": null,
   "id": "066c1667-5ca1-42e6-a115-d655f015049c",
   "metadata": {},
   "outputs": [],
   "source": [
    "for col in ['actual', 'previous', 'forecast']:\n",
    "    for sy in ['£', '%', 'B', 'K']:\n",
    "        calendar_data_df_uk[col] = calendar_data_df_uk[col].str.replace(sy, \"\")\n",
    "    calendar_data_df_uk[col].replace('', 0, inplace=True)\n",
    "    calendar_data_df_uk[col] = calendar_data_df_uk[col].astype(float)"
   ]
  }
 ],
 "metadata": {
  "kernelspec": {
   "display_name": "Python 3 (ipykernel)",
   "language": "python",
   "name": "python3"
  },
  "language_info": {
   "codemirror_mode": {
    "name": "ipython",
    "version": 3
   },
   "file_extension": ".py",
   "mimetype": "text/x-python",
   "name": "python",
   "nbconvert_exporter": "python",
   "pygments_lexer": "ipython3",
   "version": "3.11.6"
  }
 },
 "nbformat": 4,
 "nbformat_minor": 5
}
