{
 "cells": [
  {
   "cell_type": "code",
   "execution_count": 1,
   "id": "1a9b65b7-d8a1-44d3-b54a-631dd87f5c9b",
   "metadata": {},
   "outputs": [],
   "source": [
    "import pandas as pd\n",
    "import plotly.graph_objects as go\n",
    "import datetime as dt"
   ]
  },
  {
   "cell_type": "code",
   "execution_count": 2,
   "id": "add770b8-7ea4-4b7e-b853-b22d4041f0b0",
   "metadata": {},
   "outputs": [],
   "source": [
    "pair = \"EUR_USD\"\n",
    "granularity = \"H4\"\n",
    "df = pd.read_pickle(f\"../data/{pair}_{granularity}.pkl\")"
   ]
  },
  {
   "cell_type": "code",
   "execution_count": 5,
   "id": "d4fe751a-7c5a-4899-83a5-488ad048e279",
   "metadata": {},
   "outputs": [
    {
     "data": {
      "text/html": [
       "<div>\n",
       "<style scoped>\n",
       "    .dataframe tbody tr th:only-of-type {\n",
       "        vertical-align: middle;\n",
       "    }\n",
       "\n",
       "    .dataframe tbody tr th {\n",
       "        vertical-align: top;\n",
       "    }\n",
       "\n",
       "    .dataframe thead th {\n",
       "        text-align: right;\n",
       "    }\n",
       "</style>\n",
       "<table border=\"1\" class=\"dataframe\">\n",
       "  <thead>\n",
       "    <tr style=\"text-align: right;\">\n",
       "      <th></th>\n",
       "      <th>time</th>\n",
       "      <th>volume</th>\n",
       "      <th>mid_o</th>\n",
       "      <th>mid_h</th>\n",
       "      <th>mid_l</th>\n",
       "      <th>mid_c</th>\n",
       "      <th>bid_o</th>\n",
       "      <th>bid_h</th>\n",
       "      <th>bid_l</th>\n",
       "      <th>bid_c</th>\n",
       "      <th>ask_o</th>\n",
       "      <th>ask_h</th>\n",
       "      <th>ask_l</th>\n",
       "      <th>ask_c</th>\n",
       "    </tr>\n",
       "  </thead>\n",
       "  <tbody>\n",
       "    <tr>\n",
       "      <th>3995</th>\n",
       "      <td>2023-12-13 06:00:00+00:00</td>\n",
       "      <td>15038</td>\n",
       "      <td>1.07900</td>\n",
       "      <td>1.07929</td>\n",
       "      <td>1.07802</td>\n",
       "      <td>1.07875</td>\n",
       "      <td>1.07892</td>\n",
       "      <td>1.07922</td>\n",
       "      <td>1.07794</td>\n",
       "      <td>1.07868</td>\n",
       "      <td>1.07909</td>\n",
       "      <td>1.07936</td>\n",
       "      <td>1.07811</td>\n",
       "      <td>1.07882</td>\n",
       "    </tr>\n",
       "    <tr>\n",
       "      <th>3996</th>\n",
       "      <td>2023-12-13 10:00:00+00:00</td>\n",
       "      <td>17403</td>\n",
       "      <td>1.07876</td>\n",
       "      <td>1.08038</td>\n",
       "      <td>1.07732</td>\n",
       "      <td>1.08006</td>\n",
       "      <td>1.07869</td>\n",
       "      <td>1.08031</td>\n",
       "      <td>1.07724</td>\n",
       "      <td>1.07999</td>\n",
       "      <td>1.07883</td>\n",
       "      <td>1.08046</td>\n",
       "      <td>1.07739</td>\n",
       "      <td>1.08014</td>\n",
       "    </tr>\n",
       "    <tr>\n",
       "      <th>3997</th>\n",
       "      <td>2023-12-13 14:00:00+00:00</td>\n",
       "      <td>19568</td>\n",
       "      <td>1.08006</td>\n",
       "      <td>1.08095</td>\n",
       "      <td>1.07826</td>\n",
       "      <td>1.07844</td>\n",
       "      <td>1.07999</td>\n",
       "      <td>1.08088</td>\n",
       "      <td>1.07819</td>\n",
       "      <td>1.07836</td>\n",
       "      <td>1.08013</td>\n",
       "      <td>1.08102</td>\n",
       "      <td>1.07834</td>\n",
       "      <td>1.07851</td>\n",
       "    </tr>\n",
       "    <tr>\n",
       "      <th>3998</th>\n",
       "      <td>2023-12-13 18:00:00+00:00</td>\n",
       "      <td>39604</td>\n",
       "      <td>1.07843</td>\n",
       "      <td>1.08966</td>\n",
       "      <td>1.07800</td>\n",
       "      <td>1.08751</td>\n",
       "      <td>1.07836</td>\n",
       "      <td>1.08959</td>\n",
       "      <td>1.07793</td>\n",
       "      <td>1.08744</td>\n",
       "      <td>1.07850</td>\n",
       "      <td>1.08975</td>\n",
       "      <td>1.07808</td>\n",
       "      <td>1.08758</td>\n",
       "    </tr>\n",
       "    <tr>\n",
       "      <th>3999</th>\n",
       "      <td>2023-12-13 22:00:00+00:00</td>\n",
       "      <td>11740</td>\n",
       "      <td>1.08772</td>\n",
       "      <td>1.08981</td>\n",
       "      <td>1.08736</td>\n",
       "      <td>1.08966</td>\n",
       "      <td>1.08722</td>\n",
       "      <td>1.08974</td>\n",
       "      <td>1.08717</td>\n",
       "      <td>1.08958</td>\n",
       "      <td>1.08822</td>\n",
       "      <td>1.08989</td>\n",
       "      <td>1.08747</td>\n",
       "      <td>1.08974</td>\n",
       "    </tr>\n",
       "  </tbody>\n",
       "</table>\n",
       "</div>"
      ],
      "text/plain": [
       "                          time  volume    mid_o    mid_h    mid_l    mid_c  \\\n",
       "3995 2023-12-13 06:00:00+00:00   15038  1.07900  1.07929  1.07802  1.07875   \n",
       "3996 2023-12-13 10:00:00+00:00   17403  1.07876  1.08038  1.07732  1.08006   \n",
       "3997 2023-12-13 14:00:00+00:00   19568  1.08006  1.08095  1.07826  1.07844   \n",
       "3998 2023-12-13 18:00:00+00:00   39604  1.07843  1.08966  1.07800  1.08751   \n",
       "3999 2023-12-13 22:00:00+00:00   11740  1.08772  1.08981  1.08736  1.08966   \n",
       "\n",
       "        bid_o    bid_h    bid_l    bid_c    ask_o    ask_h    ask_l    ask_c  \n",
       "3995  1.07892  1.07922  1.07794  1.07868  1.07909  1.07936  1.07811  1.07882  \n",
       "3996  1.07869  1.08031  1.07724  1.07999  1.07883  1.08046  1.07739  1.08014  \n",
       "3997  1.07999  1.08088  1.07819  1.07836  1.08013  1.08102  1.07834  1.07851  \n",
       "3998  1.07836  1.08959  1.07793  1.08744  1.07850  1.08975  1.07808  1.08758  \n",
       "3999  1.08722  1.08974  1.08717  1.08958  1.08822  1.08989  1.08747  1.08974  "
      ]
     },
     "execution_count": 5,
     "metadata": {},
     "output_type": "execute_result"
    }
   ],
   "source": [
    "df.tail()"
   ]
  },
  {
   "cell_type": "code",
   "execution_count": 25,
   "id": "3049b5aa-69e6-42a5-b7fd-0118eabdee92",
   "metadata": {},
   "outputs": [],
   "source": [
    "df['sTime'] = [dt.datetime.strftime(x, \"s%y-%m-%d %H:%M\") for x in df.time]"
   ]
  },
  {
   "cell_type": "code",
   "execution_count": 26,
   "id": "8c6db931-f518-40d0-bc69-5a9be76a3ae4",
   "metadata": {},
   "outputs": [],
   "source": [
    "df_plot = df.iloc[:100]"
   ]
  },
  {
   "cell_type": "code",
   "execution_count": 28,
   "id": "16af99ce-d1bf-40a0-af37-0c23d19db77a",
   "metadata": {},
   "outputs": [
    {
     "data": {
      "application/vnd.plotly.v1+json": {
       "config": {
        "plotlyServerURL": "https://plot.ly"
       },
       "data": [
        {
         "close": [
          1.22104,
          1.22153,
          1.22166,
          1.22218,
          1.22294,
          1.2259,
          1.22536,
          1.22399,
          1.22522,
          1.22452,
          1.22596,
          1.22409,
          1.222,
          1.21999,
          1.21929,
          1.21883,
          1.21936,
          1.21826,
          1.21862,
          1.21878,
          1.21941,
          1.21842,
          1.21876,
          1.21975,
          1.2135,
          1.22007,
          1.21921,
          1.21918,
          1.21981,
          1.22006,
          1.21987,
          1.22284,
          1.22258,
          1.22296,
          1.22225,
          1.22298,
          1.22247,
          1.22328,
          1.22138,
          1.22204,
          1.22172,
          1.21814,
          1.21858,
          1.22121,
          1.22104,
          1.22125,
          1.22015,
          1.21878,
          1.21586,
          1.21204,
          1.21271,
          1.21276,
          1.21138,
          1.2112,
          1.21678,
          1.21614,
          1.21668,
          1.21673,
          1.2168,
          1.21619,
          1.21634,
          1.21948,
          1.21894,
          1.21857,
          1.21794,
          1.21767,
          1.21758,
          1.21782,
          1.2173,
          1.2175,
          1.21796,
          1.21884,
          1.21946,
          1.2176,
          1.21794,
          1.21731,
          1.21642,
          1.21666,
          1.21862,
          1.21768,
          1.2176,
          1.21783,
          1.21871,
          1.21658,
          1.21288,
          1.20965,
          1.2109,
          1.21004,
          1.21044,
          1.21089,
          1.21198,
          1.21222,
          1.21202,
          1.212,
          1.2126,
          1.21306,
          1.21116,
          1.2124,
          1.2126,
          1.21228
         ],
         "decreasing": {
          "fillcolor": "#CC2E3C",
          "line": {
           "color": "#FF3A4C"
          }
         },
         "high": [
          1.22194,
          1.223,
          1.22182,
          1.2222,
          1.22316,
          1.22623,
          1.22664,
          1.22571,
          1.22571,
          1.22574,
          1.22612,
          1.2263,
          1.22471,
          1.224,
          1.22022,
          1.21972,
          1.21956,
          1.22152,
          1.22109,
          1.22117,
          1.22048,
          1.21962,
          1.21903,
          1.22006,
          1.2198,
          1.22043,
          1.2205,
          1.2201,
          1.22045,
          1.22038,
          1.2202,
          1.22314,
          1.22294,
          1.22346,
          1.22365,
          1.22415,
          1.22386,
          1.22545,
          1.22342,
          1.22262,
          1.22266,
          1.22199,
          1.2192,
          1.22184,
          1.22155,
          1.22142,
          1.22135,
          1.2204,
          1.22086,
          1.21624,
          1.21338,
          1.21322,
          1.21305,
          1.21181,
          1.21746,
          1.21856,
          1.21703,
          1.21728,
          1.21708,
          1.21682,
          1.21761,
          1.22018,
          1.21992,
          1.21944,
          1.2191,
          1.21854,
          1.21884,
          1.2193,
          1.2182,
          1.21782,
          1.21856,
          1.21928,
          1.21978,
          1.22181,
          1.21838,
          1.21809,
          1.21758,
          1.2174,
          1.21949,
          1.21934,
          1.21788,
          1.21789,
          1.21916,
          1.2193,
          1.21672,
          1.21304,
          1.21109,
          1.2112,
          1.2105,
          1.21208,
          1.21248,
          1.21306,
          1.21231,
          1.21236,
          1.2126,
          1.21474,
          1.21306,
          1.2131,
          1.21299,
          1.21288
         ],
         "increasing": {
          "fillcolor": "#24A06B",
          "line": {
           "color": "#2EC886"
          }
         },
         "line": {
          "width": 1
         },
         "low": [
          1.2193,
          1.22036,
          1.22057,
          1.22116,
          1.22212,
          1.22204,
          1.22462,
          1.22263,
          1.22378,
          1.22447,
          1.2242,
          1.22326,
          1.2217,
          1.21956,
          1.21819,
          1.21798,
          1.21752,
          1.218,
          1.21822,
          1.21797,
          1.21873,
          1.21826,
          1.21816,
          1.21716,
          1.21328,
          1.21326,
          1.21894,
          1.21846,
          1.21887,
          1.21834,
          1.21851,
          1.21941,
          1.2225,
          1.22238,
          1.22224,
          1.22134,
          1.2217,
          1.2216,
          1.22116,
          1.22123,
          1.22169,
          1.21796,
          1.2164,
          1.21844,
          1.22057,
          1.22082,
          1.2201,
          1.21788,
          1.21565,
          1.21182,
          1.21188,
          1.21145,
          1.21122,
          1.21042,
          1.2104,
          1.21609,
          1.21602,
          1.21613,
          1.216,
          1.21449,
          1.21506,
          1.21614,
          1.21894,
          1.21826,
          1.21775,
          1.21642,
          1.21682,
          1.21708,
          1.21712,
          1.21712,
          1.21739,
          1.21756,
          1.2184,
          1.21741,
          1.21744,
          1.21721,
          1.21628,
          1.21534,
          1.21512,
          1.21433,
          1.21699,
          1.21691,
          1.21759,
          1.21639,
          1.21224,
          1.20929,
          1.20926,
          1.20988,
          1.20947,
          1.20944,
          1.21085,
          1.2117,
          1.21166,
          1.21142,
          1.21148,
          1.21242,
          1.21014,
          1.21089,
          1.21219,
          1.21225
         ],
         "opacity": 1,
         "open": [
          1.21969,
          1.22102,
          1.22152,
          1.22174,
          1.2222,
          1.22296,
          1.22591,
          1.22538,
          1.22398,
          1.22542,
          1.22453,
          1.22598,
          1.2241,
          1.22201,
          1.21998,
          1.2192,
          1.21884,
          1.21936,
          1.21827,
          1.21864,
          1.21878,
          1.2195,
          1.21843,
          1.21878,
          1.21974,
          1.21351,
          1.22008,
          1.2201,
          1.21916,
          1.2198,
          1.22004,
          1.21988,
          1.22286,
          1.22258,
          1.22298,
          1.22227,
          1.223,
          1.22246,
          1.2233,
          1.22134,
          1.22202,
          1.2217,
          1.21816,
          1.2186,
          1.22122,
          1.22104,
          1.22126,
          1.22013,
          1.21876,
          1.21586,
          1.21205,
          1.21273,
          1.21274,
          1.2114,
          1.21118,
          1.21676,
          1.21615,
          1.21671,
          1.21674,
          1.21679,
          1.21621,
          1.21633,
          1.2195,
          1.21897,
          1.21856,
          1.21793,
          1.21764,
          1.21756,
          1.21781,
          1.21728,
          1.21752,
          1.21794,
          1.21885,
          1.21948,
          1.21759,
          1.21804,
          1.21729,
          1.2164,
          1.21668,
          1.21864,
          1.21766,
          1.21707,
          1.21784,
          1.21872,
          1.21658,
          1.2129,
          1.20966,
          1.21088,
          1.21002,
          1.21042,
          1.2109,
          1.21196,
          1.21223,
          1.21194,
          1.21202,
          1.21258,
          1.21304,
          1.21116,
          1.21242,
          1.21266
         ],
         "type": "candlestick",
         "x": [
          "s21-05-24 09:00",
          "s21-05-24 13:00",
          "s21-05-24 17:00",
          "s21-05-24 21:00",
          "s21-05-25 01:00",
          "s21-05-25 05:00",
          "s21-05-25 09:00",
          "s21-05-25 13:00",
          "s21-05-25 17:00",
          "s21-05-25 21:00",
          "s21-05-26 01:00",
          "s21-05-26 05:00",
          "s21-05-26 09:00",
          "s21-05-26 13:00",
          "s21-05-26 17:00",
          "s21-05-26 21:00",
          "s21-05-27 01:00",
          "s21-05-27 05:00",
          "s21-05-27 09:00",
          "s21-05-27 13:00",
          "s21-05-27 17:00",
          "s21-05-27 21:00",
          "s21-05-28 01:00",
          "s21-05-28 05:00",
          "s21-05-28 09:00",
          "s21-05-28 13:00",
          "s21-05-28 17:00",
          "s21-05-30 21:00",
          "s21-05-31 01:00",
          "s21-05-31 05:00",
          "s21-05-31 09:00",
          "s21-05-31 13:00",
          "s21-05-31 17:00",
          "s21-05-31 21:00",
          "s21-06-01 01:00",
          "s21-06-01 05:00",
          "s21-06-01 09:00",
          "s21-06-01 13:00",
          "s21-06-01 17:00",
          "s21-06-01 21:00",
          "s21-06-02 01:00",
          "s21-06-02 05:00",
          "s21-06-02 09:00",
          "s21-06-02 13:00",
          "s21-06-02 17:00",
          "s21-06-02 21:00",
          "s21-06-03 01:00",
          "s21-06-03 05:00",
          "s21-06-03 09:00",
          "s21-06-03 13:00",
          "s21-06-03 17:00",
          "s21-06-03 21:00",
          "s21-06-04 01:00",
          "s21-06-04 05:00",
          "s21-06-04 09:00",
          "s21-06-04 13:00",
          "s21-06-04 17:00",
          "s21-06-06 21:00",
          "s21-06-07 01:00",
          "s21-06-07 05:00",
          "s21-06-07 09:00",
          "s21-06-07 13:00",
          "s21-06-07 17:00",
          "s21-06-07 21:00",
          "s21-06-08 01:00",
          "s21-06-08 05:00",
          "s21-06-08 09:00",
          "s21-06-08 13:00",
          "s21-06-08 17:00",
          "s21-06-08 21:00",
          "s21-06-09 01:00",
          "s21-06-09 05:00",
          "s21-06-09 09:00",
          "s21-06-09 13:00",
          "s21-06-09 17:00",
          "s21-06-09 21:00",
          "s21-06-10 01:00",
          "s21-06-10 05:00",
          "s21-06-10 09:00",
          "s21-06-10 13:00",
          "s21-06-10 17:00",
          "s21-06-10 21:00",
          "s21-06-11 01:00",
          "s21-06-11 05:00",
          "s21-06-11 09:00",
          "s21-06-11 13:00",
          "s21-06-11 17:00",
          "s21-06-13 21:00",
          "s21-06-14 01:00",
          "s21-06-14 05:00",
          "s21-06-14 09:00",
          "s21-06-14 13:00",
          "s21-06-14 17:00",
          "s21-06-14 21:00",
          "s21-06-15 01:00",
          "s21-06-15 05:00",
          "s21-06-15 09:00",
          "s21-06-15 13:00",
          "s21-06-15 17:00",
          "s21-06-15 21:00"
         ]
        }
       ],
       "layout": {
        "font": {
         "color": "#e1e1e1",
         "size": 8
        },
        "height": 400,
        "margin": {
         "b": 10,
         "l": 10,
         "r": 10,
         "t": 10
        },
        "paper_bgcolor": "#2c303c",
        "plot_bgcolor": "#2c303c",
        "template": {
         "data": {
          "bar": [
           {
            "error_x": {
             "color": "#2a3f5f"
            },
            "error_y": {
             "color": "#2a3f5f"
            },
            "marker": {
             "line": {
              "color": "#E5ECF6",
              "width": 0.5
             },
             "pattern": {
              "fillmode": "overlay",
              "size": 10,
              "solidity": 0.2
             }
            },
            "type": "bar"
           }
          ],
          "barpolar": [
           {
            "marker": {
             "line": {
              "color": "#E5ECF6",
              "width": 0.5
             },
             "pattern": {
              "fillmode": "overlay",
              "size": 10,
              "solidity": 0.2
             }
            },
            "type": "barpolar"
           }
          ],
          "carpet": [
           {
            "aaxis": {
             "endlinecolor": "#2a3f5f",
             "gridcolor": "white",
             "linecolor": "white",
             "minorgridcolor": "white",
             "startlinecolor": "#2a3f5f"
            },
            "baxis": {
             "endlinecolor": "#2a3f5f",
             "gridcolor": "white",
             "linecolor": "white",
             "minorgridcolor": "white",
             "startlinecolor": "#2a3f5f"
            },
            "type": "carpet"
           }
          ],
          "choropleth": [
           {
            "colorbar": {
             "outlinewidth": 0,
             "ticks": ""
            },
            "type": "choropleth"
           }
          ],
          "contour": [
           {
            "colorbar": {
             "outlinewidth": 0,
             "ticks": ""
            },
            "colorscale": [
             [
              0,
              "#0d0887"
             ],
             [
              0.1111111111111111,
              "#46039f"
             ],
             [
              0.2222222222222222,
              "#7201a8"
             ],
             [
              0.3333333333333333,
              "#9c179e"
             ],
             [
              0.4444444444444444,
              "#bd3786"
             ],
             [
              0.5555555555555556,
              "#d8576b"
             ],
             [
              0.6666666666666666,
              "#ed7953"
             ],
             [
              0.7777777777777778,
              "#fb9f3a"
             ],
             [
              0.8888888888888888,
              "#fdca26"
             ],
             [
              1,
              "#f0f921"
             ]
            ],
            "type": "contour"
           }
          ],
          "contourcarpet": [
           {
            "colorbar": {
             "outlinewidth": 0,
             "ticks": ""
            },
            "type": "contourcarpet"
           }
          ],
          "heatmap": [
           {
            "colorbar": {
             "outlinewidth": 0,
             "ticks": ""
            },
            "colorscale": [
             [
              0,
              "#0d0887"
             ],
             [
              0.1111111111111111,
              "#46039f"
             ],
             [
              0.2222222222222222,
              "#7201a8"
             ],
             [
              0.3333333333333333,
              "#9c179e"
             ],
             [
              0.4444444444444444,
              "#bd3786"
             ],
             [
              0.5555555555555556,
              "#d8576b"
             ],
             [
              0.6666666666666666,
              "#ed7953"
             ],
             [
              0.7777777777777778,
              "#fb9f3a"
             ],
             [
              0.8888888888888888,
              "#fdca26"
             ],
             [
              1,
              "#f0f921"
             ]
            ],
            "type": "heatmap"
           }
          ],
          "heatmapgl": [
           {
            "colorbar": {
             "outlinewidth": 0,
             "ticks": ""
            },
            "colorscale": [
             [
              0,
              "#0d0887"
             ],
             [
              0.1111111111111111,
              "#46039f"
             ],
             [
              0.2222222222222222,
              "#7201a8"
             ],
             [
              0.3333333333333333,
              "#9c179e"
             ],
             [
              0.4444444444444444,
              "#bd3786"
             ],
             [
              0.5555555555555556,
              "#d8576b"
             ],
             [
              0.6666666666666666,
              "#ed7953"
             ],
             [
              0.7777777777777778,
              "#fb9f3a"
             ],
             [
              0.8888888888888888,
              "#fdca26"
             ],
             [
              1,
              "#f0f921"
             ]
            ],
            "type": "heatmapgl"
           }
          ],
          "histogram": [
           {
            "marker": {
             "pattern": {
              "fillmode": "overlay",
              "size": 10,
              "solidity": 0.2
             }
            },
            "type": "histogram"
           }
          ],
          "histogram2d": [
           {
            "colorbar": {
             "outlinewidth": 0,
             "ticks": ""
            },
            "colorscale": [
             [
              0,
              "#0d0887"
             ],
             [
              0.1111111111111111,
              "#46039f"
             ],
             [
              0.2222222222222222,
              "#7201a8"
             ],
             [
              0.3333333333333333,
              "#9c179e"
             ],
             [
              0.4444444444444444,
              "#bd3786"
             ],
             [
              0.5555555555555556,
              "#d8576b"
             ],
             [
              0.6666666666666666,
              "#ed7953"
             ],
             [
              0.7777777777777778,
              "#fb9f3a"
             ],
             [
              0.8888888888888888,
              "#fdca26"
             ],
             [
              1,
              "#f0f921"
             ]
            ],
            "type": "histogram2d"
           }
          ],
          "histogram2dcontour": [
           {
            "colorbar": {
             "outlinewidth": 0,
             "ticks": ""
            },
            "colorscale": [
             [
              0,
              "#0d0887"
             ],
             [
              0.1111111111111111,
              "#46039f"
             ],
             [
              0.2222222222222222,
              "#7201a8"
             ],
             [
              0.3333333333333333,
              "#9c179e"
             ],
             [
              0.4444444444444444,
              "#bd3786"
             ],
             [
              0.5555555555555556,
              "#d8576b"
             ],
             [
              0.6666666666666666,
              "#ed7953"
             ],
             [
              0.7777777777777778,
              "#fb9f3a"
             ],
             [
              0.8888888888888888,
              "#fdca26"
             ],
             [
              1,
              "#f0f921"
             ]
            ],
            "type": "histogram2dcontour"
           }
          ],
          "mesh3d": [
           {
            "colorbar": {
             "outlinewidth": 0,
             "ticks": ""
            },
            "type": "mesh3d"
           }
          ],
          "parcoords": [
           {
            "line": {
             "colorbar": {
              "outlinewidth": 0,
              "ticks": ""
             }
            },
            "type": "parcoords"
           }
          ],
          "pie": [
           {
            "automargin": true,
            "type": "pie"
           }
          ],
          "scatter": [
           {
            "fillpattern": {
             "fillmode": "overlay",
             "size": 10,
             "solidity": 0.2
            },
            "type": "scatter"
           }
          ],
          "scatter3d": [
           {
            "line": {
             "colorbar": {
              "outlinewidth": 0,
              "ticks": ""
             }
            },
            "marker": {
             "colorbar": {
              "outlinewidth": 0,
              "ticks": ""
             }
            },
            "type": "scatter3d"
           }
          ],
          "scattercarpet": [
           {
            "marker": {
             "colorbar": {
              "outlinewidth": 0,
              "ticks": ""
             }
            },
            "type": "scattercarpet"
           }
          ],
          "scattergeo": [
           {
            "marker": {
             "colorbar": {
              "outlinewidth": 0,
              "ticks": ""
             }
            },
            "type": "scattergeo"
           }
          ],
          "scattergl": [
           {
            "marker": {
             "colorbar": {
              "outlinewidth": 0,
              "ticks": ""
             }
            },
            "type": "scattergl"
           }
          ],
          "scattermapbox": [
           {
            "marker": {
             "colorbar": {
              "outlinewidth": 0,
              "ticks": ""
             }
            },
            "type": "scattermapbox"
           }
          ],
          "scatterpolar": [
           {
            "marker": {
             "colorbar": {
              "outlinewidth": 0,
              "ticks": ""
             }
            },
            "type": "scatterpolar"
           }
          ],
          "scatterpolargl": [
           {
            "marker": {
             "colorbar": {
              "outlinewidth": 0,
              "ticks": ""
             }
            },
            "type": "scatterpolargl"
           }
          ],
          "scatterternary": [
           {
            "marker": {
             "colorbar": {
              "outlinewidth": 0,
              "ticks": ""
             }
            },
            "type": "scatterternary"
           }
          ],
          "surface": [
           {
            "colorbar": {
             "outlinewidth": 0,
             "ticks": ""
            },
            "colorscale": [
             [
              0,
              "#0d0887"
             ],
             [
              0.1111111111111111,
              "#46039f"
             ],
             [
              0.2222222222222222,
              "#7201a8"
             ],
             [
              0.3333333333333333,
              "#9c179e"
             ],
             [
              0.4444444444444444,
              "#bd3786"
             ],
             [
              0.5555555555555556,
              "#d8576b"
             ],
             [
              0.6666666666666666,
              "#ed7953"
             ],
             [
              0.7777777777777778,
              "#fb9f3a"
             ],
             [
              0.8888888888888888,
              "#fdca26"
             ],
             [
              1,
              "#f0f921"
             ]
            ],
            "type": "surface"
           }
          ],
          "table": [
           {
            "cells": {
             "fill": {
              "color": "#EBF0F8"
             },
             "line": {
              "color": "white"
             }
            },
            "header": {
             "fill": {
              "color": "#C8D4E3"
             },
             "line": {
              "color": "white"
             }
            },
            "type": "table"
           }
          ]
         },
         "layout": {
          "annotationdefaults": {
           "arrowcolor": "#2a3f5f",
           "arrowhead": 0,
           "arrowwidth": 1
          },
          "autotypenumbers": "strict",
          "coloraxis": {
           "colorbar": {
            "outlinewidth": 0,
            "ticks": ""
           }
          },
          "colorscale": {
           "diverging": [
            [
             0,
             "#8e0152"
            ],
            [
             0.1,
             "#c51b7d"
            ],
            [
             0.2,
             "#de77ae"
            ],
            [
             0.3,
             "#f1b6da"
            ],
            [
             0.4,
             "#fde0ef"
            ],
            [
             0.5,
             "#f7f7f7"
            ],
            [
             0.6,
             "#e6f5d0"
            ],
            [
             0.7,
             "#b8e186"
            ],
            [
             0.8,
             "#7fbc41"
            ],
            [
             0.9,
             "#4d9221"
            ],
            [
             1,
             "#276419"
            ]
           ],
           "sequential": [
            [
             0,
             "#0d0887"
            ],
            [
             0.1111111111111111,
             "#46039f"
            ],
            [
             0.2222222222222222,
             "#7201a8"
            ],
            [
             0.3333333333333333,
             "#9c179e"
            ],
            [
             0.4444444444444444,
             "#bd3786"
            ],
            [
             0.5555555555555556,
             "#d8576b"
            ],
            [
             0.6666666666666666,
             "#ed7953"
            ],
            [
             0.7777777777777778,
             "#fb9f3a"
            ],
            [
             0.8888888888888888,
             "#fdca26"
            ],
            [
             1,
             "#f0f921"
            ]
           ],
           "sequentialminus": [
            [
             0,
             "#0d0887"
            ],
            [
             0.1111111111111111,
             "#46039f"
            ],
            [
             0.2222222222222222,
             "#7201a8"
            ],
            [
             0.3333333333333333,
             "#9c179e"
            ],
            [
             0.4444444444444444,
             "#bd3786"
            ],
            [
             0.5555555555555556,
             "#d8576b"
            ],
            [
             0.6666666666666666,
             "#ed7953"
            ],
            [
             0.7777777777777778,
             "#fb9f3a"
            ],
            [
             0.8888888888888888,
             "#fdca26"
            ],
            [
             1,
             "#f0f921"
            ]
           ]
          },
          "colorway": [
           "#636efa",
           "#EF553B",
           "#00cc96",
           "#ab63fa",
           "#FFA15A",
           "#19d3f3",
           "#FF6692",
           "#B6E880",
           "#FF97FF",
           "#FECB52"
          ],
          "font": {
           "color": "#2a3f5f"
          },
          "geo": {
           "bgcolor": "white",
           "lakecolor": "white",
           "landcolor": "#E5ECF6",
           "showlakes": true,
           "showland": true,
           "subunitcolor": "white"
          },
          "hoverlabel": {
           "align": "left"
          },
          "hovermode": "closest",
          "mapbox": {
           "style": "light"
          },
          "paper_bgcolor": "white",
          "plot_bgcolor": "#E5ECF6",
          "polar": {
           "angularaxis": {
            "gridcolor": "white",
            "linecolor": "white",
            "ticks": ""
           },
           "bgcolor": "#E5ECF6",
           "radialaxis": {
            "gridcolor": "white",
            "linecolor": "white",
            "ticks": ""
           }
          },
          "scene": {
           "xaxis": {
            "backgroundcolor": "#E5ECF6",
            "gridcolor": "white",
            "gridwidth": 2,
            "linecolor": "white",
            "showbackground": true,
            "ticks": "",
            "zerolinecolor": "white"
           },
           "yaxis": {
            "backgroundcolor": "#E5ECF6",
            "gridcolor": "white",
            "gridwidth": 2,
            "linecolor": "white",
            "showbackground": true,
            "ticks": "",
            "zerolinecolor": "white"
           },
           "zaxis": {
            "backgroundcolor": "#E5ECF6",
            "gridcolor": "white",
            "gridwidth": 2,
            "linecolor": "white",
            "showbackground": true,
            "ticks": "",
            "zerolinecolor": "white"
           }
          },
          "shapedefaults": {
           "line": {
            "color": "#2a3f5f"
           }
          },
          "ternary": {
           "aaxis": {
            "gridcolor": "white",
            "linecolor": "white",
            "ticks": ""
           },
           "baxis": {
            "gridcolor": "white",
            "linecolor": "white",
            "ticks": ""
           },
           "bgcolor": "#E5ECF6",
           "caxis": {
            "gridcolor": "white",
            "linecolor": "white",
            "ticks": ""
           }
          },
          "title": {
           "x": 0.05
          },
          "xaxis": {
           "automargin": true,
           "gridcolor": "white",
           "linecolor": "white",
           "ticks": "",
           "title": {
            "standoff": 15
           },
           "zerolinecolor": "white",
           "zerolinewidth": 2
          },
          "yaxis": {
           "automargin": true,
           "gridcolor": "white",
           "linecolor": "white",
           "ticks": "",
           "title": {
            "standoff": 15
           },
           "zerolinecolor": "white",
           "zerolinewidth": 2
          }
         }
        },
        "width": 900,
        "xaxis": {
         "autorange": true,
         "gridcolor": "#1f292f",
         "nticks": 5,
         "range": [
          -0.5,
          99.5
         ],
         "rangeslider": {
          "visible": false,
          "yaxis": {}
         },
         "type": "category"
        },
        "yaxis": {
         "autorange": true,
         "gridcolor": "#1f292f",
         "range": [
          1.2082944444444446,
          1.2276055555555554
         ]
        }
       }
      },
      "image/png": "[encoded data removed]",
      "text/html": [
       "<div>                            <div id=\"9a42bbf1-2b3a-4f0c-91f7-748561319781\" class=\"plotly-graph-div\" style=\"height:400px; width:900px;\"></div>            <script type=\"text/javascript\">                require([\"plotly\"], function(Plotly) {                    window.PLOTLYENV=window.PLOTLYENV || {};                                    if (document.getElementById(\"9a42bbf1-2b3a-4f0c-91f7-748561319781\")) {                    Plotly.newPlot(                        \"9a42bbf1-2b3a-4f0c-91f7-748561319781\",                        [{\"close\":[1.22104,1.22153,1.22166,1.22218,1.22294,1.2259,1.22536,1.22399,1.22522,1.22452,1.22596,1.22409,1.222,1.21999,1.21929,1.21883,1.21936,1.21826,1.21862,1.21878,1.21941,1.21842,1.21876,1.21975,1.2135,1.22007,1.21921,1.21918,1.21981,1.22006,1.21987,1.22284,1.22258,1.22296,1.22225,1.22298,1.22247,1.22328,1.22138,1.22204,1.22172,1.21814,1.21858,1.22121,1.22104,1.22125,1.22015,1.21878,1.21586,1.21204,1.21271,1.21276,1.21138,1.2112,1.21678,1.21614,1.21668,1.21673,1.2168,1.21619,1.21634,1.21948,1.21894,1.21857,1.21794,1.21767,1.21758,1.21782,1.2173,1.2175,1.21796,1.21884,1.21946,1.2176,1.21794,1.21731,1.21642,1.21666,1.21862,1.21768,1.2176,1.21783,1.21871,1.21658,1.21288,1.20965,1.2109,1.21004,1.21044,1.21089,1.21198,1.21222,1.21202,1.212,1.2126,1.21306,1.21116,1.2124,1.2126,1.21228],\"decreasing\":{\"fillcolor\":\"#CC2E3C\",\"line\":{\"color\":\"#FF3A4C\"}},\"high\":[1.22194,1.223,1.22182,1.2222,1.22316,1.22623,1.22664,1.22571,1.22571,1.22574,1.22612,1.2263,1.22471,1.224,1.22022,1.21972,1.21956,1.22152,1.22109,1.22117,1.22048,1.21962,1.21903,1.22006,1.2198,1.22043,1.2205,1.2201,1.22045,1.22038,1.2202,1.22314,1.22294,1.22346,1.22365,1.22415,1.22386,1.22545,1.22342,1.22262,1.22266,1.22199,1.2192,1.22184,1.22155,1.22142,1.22135,1.2204,1.22086,1.21624,1.21338,1.21322,1.21305,1.21181,1.21746,1.21856,1.21703,1.21728,1.21708,1.21682,1.21761,1.22018,1.21992,1.21944,1.2191,1.21854,1.21884,1.2193,1.2182,1.21782,1.21856,1.21928,1.21978,1.22181,1.21838,1.21809,1.21758,1.2174,1.21949,1.21934,1.21788,1.21789,1.21916,1.2193,1.21672,1.21304,1.21109,1.2112,1.2105,1.21208,1.21248,1.21306,1.21231,1.21236,1.2126,1.21474,1.21306,1.2131,1.21299,1.21288],\"increasing\":{\"fillcolor\":\"#24A06B\",\"line\":{\"color\":\"#2EC886\"}},\"line\":{\"width\":1},\"low\":[1.2193,1.22036,1.22057,1.22116,1.22212,1.22204,1.22462,1.22263,1.22378,1.22447,1.2242,1.22326,1.2217,1.21956,1.21819,1.21798,1.21752,1.218,1.21822,1.21797,1.21873,1.21826,1.21816,1.21716,1.21328,1.21326,1.21894,1.21846,1.21887,1.21834,1.21851,1.21941,1.2225,1.22238,1.22224,1.22134,1.2217,1.2216,1.22116,1.22123,1.22169,1.21796,1.2164,1.21844,1.22057,1.22082,1.2201,1.21788,1.21565,1.21182,1.21188,1.21145,1.21122,1.21042,1.2104,1.21609,1.21602,1.21613,1.216,1.21449,1.21506,1.21614,1.21894,1.21826,1.21775,1.21642,1.21682,1.21708,1.21712,1.21712,1.21739,1.21756,1.2184,1.21741,1.21744,1.21721,1.21628,1.21534,1.21512,1.21433,1.21699,1.21691,1.21759,1.21639,1.21224,1.20929,1.20926,1.20988,1.20947,1.20944,1.21085,1.2117,1.21166,1.21142,1.21148,1.21242,1.21014,1.21089,1.21219,1.21225],\"opacity\":1,\"open\":[1.21969,1.22102,1.22152,1.22174,1.2222,1.22296,1.22591,1.22538,1.22398,1.22542,1.22453,1.22598,1.2241,1.22201,1.21998,1.2192,1.21884,1.21936,1.21827,1.21864,1.21878,1.2195,1.21843,1.21878,1.21974,1.21351,1.22008,1.2201,1.21916,1.2198,1.22004,1.21988,1.22286,1.22258,1.22298,1.22227,1.223,1.22246,1.2233,1.22134,1.22202,1.2217,1.21816,1.2186,1.22122,1.22104,1.22126,1.22013,1.21876,1.21586,1.21205,1.21273,1.21274,1.2114,1.21118,1.21676,1.21615,1.21671,1.21674,1.21679,1.21621,1.21633,1.2195,1.21897,1.21856,1.21793,1.21764,1.21756,1.21781,1.21728,1.21752,1.21794,1.21885,1.21948,1.21759,1.21804,1.21729,1.2164,1.21668,1.21864,1.21766,1.21707,1.21784,1.21872,1.21658,1.2129,1.20966,1.21088,1.21002,1.21042,1.2109,1.21196,1.21223,1.21194,1.21202,1.21258,1.21304,1.21116,1.21242,1.21266],\"x\":[\"s21-05-24 09:00\",\"s21-05-24 13:00\",\"s21-05-24 17:00\",\"s21-05-24 21:00\",\"s21-05-25 01:00\",\"s21-05-25 05:00\",\"s21-05-25 09:00\",\"s21-05-25 13:00\",\"s21-05-25 17:00\",\"s21-05-25 21:00\",\"s21-05-26 01:00\",\"s21-05-26 05:00\",\"s21-05-26 09:00\",\"s21-05-26 13:00\",\"s21-05-26 17:00\",\"s21-05-26 21:00\",\"s21-05-27 01:00\",\"s21-05-27 05:00\",\"s21-05-27 09:00\",\"s21-05-27 13:00\",\"s21-05-27 17:00\",\"s21-05-27 21:00\",\"s21-05-28 01:00\",\"s21-05-28 05:00\",\"s21-05-28 09:00\",\"s21-05-28 13:00\",\"s21-05-28 17:00\",\"s21-05-30 21:00\",\"s21-05-31 01:00\",\"s21-05-31 05:00\",\"s21-05-31 09:00\",\"s21-05-31 13:00\",\"s21-05-31 17:00\",\"s21-05-31 21:00\",\"s21-06-01 01:00\",\"s21-06-01 05:00\",\"s21-06-01 09:00\",\"s21-06-01 13:00\",\"s21-06-01 17:00\",\"s21-06-01 21:00\",\"s21-06-02 01:00\",\"s21-06-02 05:00\",\"s21-06-02 09:00\",\"s21-06-02 13:00\",\"s21-06-02 17:00\",\"s21-06-02 21:00\",\"s21-06-03 01:00\",\"s21-06-03 05:00\",\"s21-06-03 09:00\",\"s21-06-03 13:00\",\"s21-06-03 17:00\",\"s21-06-03 21:00\",\"s21-06-04 01:00\",\"s21-06-04 05:00\",\"s21-06-04 09:00\",\"s21-06-04 13:00\",\"s21-06-04 17:00\",\"s21-06-06 21:00\",\"s21-06-07 01:00\",\"s21-06-07 05:00\",\"s21-06-07 09:00\",\"s21-06-07 13:00\",\"s21-06-07 17:00\",\"s21-06-07 21:00\",\"s21-06-08 01:00\",\"s21-06-08 05:00\",\"s21-06-08 09:00\",\"s21-06-08 13:00\",\"s21-06-08 17:00\",\"s21-06-08 21:00\",\"s21-06-09 01:00\",\"s21-06-09 05:00\",\"s21-06-09 09:00\",\"s21-06-09 13:00\",\"s21-06-09 17:00\",\"s21-06-09 21:00\",\"s21-06-10 01:00\",\"s21-06-10 05:00\",\"s21-06-10 09:00\",\"s21-06-10 13:00\",\"s21-06-10 17:00\",\"s21-06-10 21:00\",\"s21-06-11 01:00\",\"s21-06-11 05:00\",\"s21-06-11 09:00\",\"s21-06-11 13:00\",\"s21-06-11 17:00\",\"s21-06-13 21:00\",\"s21-06-14 01:00\",\"s21-06-14 05:00\",\"s21-06-14 09:00\",\"s21-06-14 13:00\",\"s21-06-14 17:00\",\"s21-06-14 21:00\",\"s21-06-15 01:00\",\"s21-06-15 05:00\",\"s21-06-15 09:00\",\"s21-06-15 13:00\",\"s21-06-15 17:00\",\"s21-06-15 21:00\"],\"type\":\"candlestick\"}],                        {\"template\":{\"data\":{\"histogram2dcontour\":[{\"type\":\"histogram2dcontour\",\"colorbar\":{\"outlinewidth\":0,\"ticks\":\"\"},\"colorscale\":[[0.0,\"#0d0887\"],[0.1111111111111111,\"#46039f\"],[0.2222222222222222,\"#7201a8\"],[0.3333333333333333,\"#9c179e\"],[0.4444444444444444,\"#bd3786\"],[0.5555555555555556,\"#d8576b\"],[0.6666666666666666,\"#ed7953\"],[0.7777777777777778,\"#fb9f3a\"],[0.8888888888888888,\"#fdca26\"],[1.0,\"#f0f921\"]]}],\"choropleth\":[{\"type\":\"choropleth\",\"colorbar\":{\"outlinewidth\":0,\"ticks\":\"\"}}],\"histogram2d\":[{\"type\":\"histogram2d\",\"colorbar\":{\"outlinewidth\":0,\"ticks\":\"\"},\"colorscale\":[[0.0,\"#0d0887\"],[0.1111111111111111,\"#46039f\"],[0.2222222222222222,\"#7201a8\"],[0.3333333333333333,\"#9c179e\"],[0.4444444444444444,\"#bd3786\"],[0.5555555555555556,\"#d8576b\"],[0.6666666666666666,\"#ed7953\"],[0.7777777777777778,\"#fb9f3a\"],[0.8888888888888888,\"#fdca26\"],[1.0,\"#f0f921\"]]}],\"heatmap\":[{\"type\":\"heatmap\",\"colorbar\":{\"outlinewidth\":0,\"ticks\":\"\"},\"colorscale\":[[0.0,\"#0d0887\"],[0.1111111111111111,\"#46039f\"],[0.2222222222222222,\"#7201a8\"],[0.3333333333333333,\"#9c179e\"],[0.4444444444444444,\"#bd3786\"],[0.5555555555555556,\"#d8576b\"],[0.6666666666666666,\"#ed7953\"],[0.7777777777777778,\"#fb9f3a\"],[0.8888888888888888,\"#fdca26\"],[1.0,\"#f0f921\"]]}],\"heatmapgl\":[{\"type\":\"heatmapgl\",\"colorbar\":{\"outlinewidth\":0,\"ticks\":\"\"},\"colorscale\":[[0.0,\"#0d0887\"],[0.1111111111111111,\"#46039f\"],[0.2222222222222222,\"#7201a8\"],[0.3333333333333333,\"#9c179e\"],[0.4444444444444444,\"#bd3786\"],[0.5555555555555556,\"#d8576b\"],[0.6666666666666666,\"#ed7953\"],[0.7777777777777778,\"#fb9f3a\"],[0.8888888888888888,\"#fdca26\"],[1.0,\"#f0f921\"]]}],\"contourcarpet\":[{\"type\":\"contourcarpet\",\"colorbar\":{\"outlinewidth\":0,\"ticks\":\"\"}}],\"contour\":[{\"type\":\"contour\",\"colorbar\":{\"outlinewidth\":0,\"ticks\":\"\"},\"colorscale\":[[0.0,\"#0d0887\"],[0.1111111111111111,\"#46039f\"],[0.2222222222222222,\"#7201a8\"],[0.3333333333333333,\"#9c179e\"],[0.4444444444444444,\"#bd3786\"],[0.5555555555555556,\"#d8576b\"],[0.6666666666666666,\"#ed7953\"],[0.7777777777777778,\"#fb9f3a\"],[0.8888888888888888,\"#fdca26\"],[1.0,\"#f0f921\"]]}],\"surface\":[{\"type\":\"surface\",\"colorbar\":{\"outlinewidth\":0,\"ticks\":\"\"},\"colorscale\":[[0.0,\"#0d0887\"],[0.1111111111111111,\"#46039f\"],[0.2222222222222222,\"#7201a8\"],[0.3333333333333333,\"#9c179e\"],[0.4444444444444444,\"#bd3786\"],[0.5555555555555556,\"#d8576b\"],[0.6666666666666666,\"#ed7953\"],[0.7777777777777778,\"#fb9f3a\"],[0.8888888888888888,\"#fdca26\"],[1.0,\"#f0f921\"]]}],\"mesh3d\":[{\"type\":\"mesh3d\",\"colorbar\":{\"outlinewidth\":0,\"ticks\":\"\"}}],\"scatter\":[{\"fillpattern\":{\"fillmode\":\"overlay\",\"size\":10,\"solidity\":0.2},\"type\":\"scatter\"}],\"parcoords\":[{\"type\":\"parcoords\",\"line\":{\"colorbar\":{\"outlinewidth\":0,\"ticks\":\"\"}}}],\"scatterpolargl\":[{\"type\":\"scatterpolargl\",\"marker\":{\"colorbar\":{\"outlinewidth\":0,\"ticks\":\"\"}}}],\"bar\":[{\"error_x\":{\"color\":\"#2a3f5f\"},\"error_y\":{\"color\":\"#2a3f5f\"},\"marker\":{\"line\":{\"color\":\"#E5ECF6\",\"width\":0.5},\"pattern\":{\"fillmode\":\"overlay\",\"size\":10,\"solidity\":0.2}},\"type\":\"bar\"}],\"scattergeo\":[{\"type\":\"scattergeo\",\"marker\":{\"colorbar\":{\"outlinewidth\":0,\"ticks\":\"\"}}}],\"scatterpolar\":[{\"type\":\"scatterpolar\",\"marker\":{\"colorbar\":{\"outlinewidth\":0,\"ticks\":\"\"}}}],\"histogram\":[{\"marker\":{\"pattern\":{\"fillmode\":\"overlay\",\"size\":10,\"solidity\":0.2}},\"type\":\"histogram\"}],\"scattergl\":[{\"type\":\"scattergl\",\"marker\":{\"colorbar\":{\"outlinewidth\":0,\"ticks\":\"\"}}}],\"scatter3d\":[{\"type\":\"scatter3d\",\"line\":{\"colorbar\":{\"outlinewidth\":0,\"ticks\":\"\"}},\"marker\":{\"colorbar\":{\"outlinewidth\":0,\"ticks\":\"\"}}}],\"scattermapbox\":[{\"type\":\"scattermapbox\",\"marker\":{\"colorbar\":{\"outlinewidth\":0,\"ticks\":\"\"}}}],\"scatterternary\":[{\"type\":\"scatterternary\",\"marker\":{\"colorbar\":{\"outlinewidth\":0,\"ticks\":\"\"}}}],\"scattercarpet\":[{\"type\":\"scattercarpet\",\"marker\":{\"colorbar\":{\"outlinewidth\":0,\"ticks\":\"\"}}}],\"carpet\":[{\"aaxis\":{\"endlinecolor\":\"#2a3f5f\",\"gridcolor\":\"white\",\"linecolor\":\"white\",\"minorgridcolor\":\"white\",\"startlinecolor\":\"#2a3f5f\"},\"baxis\":{\"endlinecolor\":\"#2a3f5f\",\"gridcolor\":\"white\",\"linecolor\":\"white\",\"minorgridcolor\":\"white\",\"startlinecolor\":\"#2a3f5f\"},\"type\":\"carpet\"}],\"table\":[{\"cells\":{\"fill\":{\"color\":\"#EBF0F8\"},\"line\":{\"color\":\"white\"}},\"header\":{\"fill\":{\"color\":\"#C8D4E3\"},\"line\":{\"color\":\"white\"}},\"type\":\"table\"}],\"barpolar\":[{\"marker\":{\"line\":{\"color\":\"#E5ECF6\",\"width\":0.5},\"pattern\":{\"fillmode\":\"overlay\",\"size\":10,\"solidity\":0.2}},\"type\":\"barpolar\"}],\"pie\":[{\"automargin\":true,\"type\":\"pie\"}]},\"layout\":{\"autotypenumbers\":\"strict\",\"colorway\":[\"#636efa\",\"#EF553B\",\"#00cc96\",\"#ab63fa\",\"#FFA15A\",\"#19d3f3\",\"#FF6692\",\"#B6E880\",\"#FF97FF\",\"#FECB52\"],\"font\":{\"color\":\"#2a3f5f\"},\"hovermode\":\"closest\",\"hoverlabel\":{\"align\":\"left\"},\"paper_bgcolor\":\"white\",\"plot_bgcolor\":\"#E5ECF6\",\"polar\":{\"bgcolor\":\"#E5ECF6\",\"angularaxis\":{\"gridcolor\":\"white\",\"linecolor\":\"white\",\"ticks\":\"\"},\"radialaxis\":{\"gridcolor\":\"white\",\"linecolor\":\"white\",\"ticks\":\"\"}},\"ternary\":{\"bgcolor\":\"#E5ECF6\",\"aaxis\":{\"gridcolor\":\"white\",\"linecolor\":\"white\",\"ticks\":\"\"},\"baxis\":{\"gridcolor\":\"white\",\"linecolor\":\"white\",\"ticks\":\"\"},\"caxis\":{\"gridcolor\":\"white\",\"linecolor\":\"white\",\"ticks\":\"\"}},\"coloraxis\":{\"colorbar\":{\"outlinewidth\":0,\"ticks\":\"\"}},\"colorscale\":{\"sequential\":[[0.0,\"#0d0887\"],[0.1111111111111111,\"#46039f\"],[0.2222222222222222,\"#7201a8\"],[0.3333333333333333,\"#9c179e\"],[0.4444444444444444,\"#bd3786\"],[0.5555555555555556,\"#d8576b\"],[0.6666666666666666,\"#ed7953\"],[0.7777777777777778,\"#fb9f3a\"],[0.8888888888888888,\"#fdca26\"],[1.0,\"#f0f921\"]],\"sequentialminus\":[[0.0,\"#0d0887\"],[0.1111111111111111,\"#46039f\"],[0.2222222222222222,\"#7201a8\"],[0.3333333333333333,\"#9c179e\"],[0.4444444444444444,\"#bd3786\"],[0.5555555555555556,\"#d8576b\"],[0.6666666666666666,\"#ed7953\"],[0.7777777777777778,\"#fb9f3a\"],[0.8888888888888888,\"#fdca26\"],[1.0,\"#f0f921\"]],\"diverging\":[[0,\"#8e0152\"],[0.1,\"#c51b7d\"],[0.2,\"#de77ae\"],[0.3,\"#f1b6da\"],[0.4,\"#fde0ef\"],[0.5,\"#f7f7f7\"],[0.6,\"#e6f5d0\"],[0.7,\"#b8e186\"],[0.8,\"#7fbc41\"],[0.9,\"#4d9221\"],[1,\"#276419\"]]},\"xaxis\":{\"gridcolor\":\"white\",\"linecolor\":\"white\",\"ticks\":\"\",\"title\":{\"standoff\":15},\"zerolinecolor\":\"white\",\"automargin\":true,\"zerolinewidth\":2},\"yaxis\":{\"gridcolor\":\"white\",\"linecolor\":\"white\",\"ticks\":\"\",\"title\":{\"standoff\":15},\"zerolinecolor\":\"white\",\"automargin\":true,\"zerolinewidth\":2},\"scene\":{\"xaxis\":{\"backgroundcolor\":\"#E5ECF6\",\"gridcolor\":\"white\",\"linecolor\":\"white\",\"showbackground\":true,\"ticks\":\"\",\"zerolinecolor\":\"white\",\"gridwidth\":2},\"yaxis\":{\"backgroundcolor\":\"#E5ECF6\",\"gridcolor\":\"white\",\"linecolor\":\"white\",\"showbackground\":true,\"ticks\":\"\",\"zerolinecolor\":\"white\",\"gridwidth\":2},\"zaxis\":{\"backgroundcolor\":\"#E5ECF6\",\"gridcolor\":\"white\",\"linecolor\":\"white\",\"showbackground\":true,\"ticks\":\"\",\"zerolinecolor\":\"white\",\"gridwidth\":2}},\"shapedefaults\":{\"line\":{\"color\":\"#2a3f5f\"}},\"annotationdefaults\":{\"arrowcolor\":\"#2a3f5f\",\"arrowhead\":0,\"arrowwidth\":1},\"geo\":{\"bgcolor\":\"white\",\"landcolor\":\"#E5ECF6\",\"subunitcolor\":\"white\",\"showland\":true,\"showlakes\":true,\"lakecolor\":\"white\"},\"title\":{\"x\":0.05},\"mapbox\":{\"style\":\"light\"}}},\"yaxis\":{\"gridcolor\":\"#1f292f\"},\"xaxis\":{\"rangeslider\":{\"visible\":false},\"gridcolor\":\"#1f292f\",\"nticks\":5},\"margin\":{\"l\":10,\"r\":10,\"b\":10,\"t\":10},\"font\":{\"size\":8,\"color\":\"#e1e1e1\"},\"width\":900,\"height\":400,\"paper_bgcolor\":\"#2c303c\",\"plot_bgcolor\":\"#2c303c\"},                        {\"responsive\": true}                    ).then(function(){\n",
       "                            \n",
       "var gd = document.getElementById('9a42bbf1-2b3a-4f0c-91f7-748561319781');\n",
       "var x = new MutationObserver(function (mutations, observer) {{\n",
       "        var display = window.getComputedStyle(gd).display;\n",
       "        if (!display || display === 'none') {{\n",
       "            console.log([gd, 'removed!']);\n",
       "            Plotly.purge(gd);\n",
       "            observer.disconnect();\n",
       "        }}\n",
       "}});\n",
       "\n",
       "// Listen for the removal of the full notebook cells\n",
       "var notebookContainer = gd.closest('#notebook-container');\n",
       "if (notebookContainer) {{\n",
       "    x.observe(notebookContainer, {childList: true});\n",
       "}}\n",
       "\n",
       "// Listen for the clearing of the current output cell\n",
       "var outputEl = gd.closest('.output');\n",
       "if (outputEl) {{\n",
       "    x.observe(outputEl, {childList: true});\n",
       "}}\n",
       "\n",
       "                        })                };                });            </script>        </div>"
      ]
     },
     "metadata": {},
     "output_type": "display_data"
    }
   ],
   "source": [
    "fig = go.Figure()\n",
    "fig.add_trace(go.Candlestick(\n",
    "    x=df_plot.sTime,\n",
    "    open=df_plot.mid_o,\n",
    "    high=df_plot.mid_h,\n",
    "    low=df_plot.mid_l,\n",
    "    close=df_plot.mid_c,\n",
    "    line=dict(width=1), opacity=1,\n",
    "    increasing_fillcolor='#24A06B',\n",
    "    decreasing_fillcolor='#CC2E3C',\n",
    "    increasing_line_color='#2EC886',\n",
    "    decreasing_line_color='#FF3A4C'             \n",
    "))\n",
    "\n",
    "fig.update_yaxes(\n",
    "    gridcolor=\"#1f292f\"\n",
    ")\n",
    "fig.update_xaxes(\n",
    "    gridcolor=\"#1f292f\",\n",
    "    rangeslider=dict(visible=False),\n",
    "    nticks=5\n",
    ")\n",
    "\n",
    "fig.update_layout(\n",
    "    width=900,\n",
    "    height=400,\n",
    "    margin=dict(l=10,r=10,b=10,t=10),\n",
    "    paper_bgcolor=\"#2c303c\",\n",
    "    plot_bgcolor=\"#2c303c\",\n",
    "    font=dict(size=8, color=\"#e1e1e1\")\n",
    ")    \n",
    "\n",
    "fig.show()"
   ]
  },
  {
   "cell_type": "code",
   "execution_count": null,
   "id": "f08379b7-7b20-439e-809c-9386107b69a5",
   "metadata": {},
   "outputs": [],
   "source": []
  },
  {
   "cell_type": "code",
   "execution_count": null,
   "id": "2ef2a82f-de3c-4267-bd1e-0e5def151028",
   "metadata": {},
   "outputs": [],
   "source": []
  }
 ],
 "metadata": {
  "kernelspec": {
   "display_name": "Python 3 (ipykernel)",
   "language": "python",
   "name": "python3"
  },
  "language_info": {
   "codemirror_mode": {
    "name": "ipython",
    "version": 3
   },
   "file_extension": ".py",
   "mimetype": "text/x-python",
   "name": "python",
   "nbconvert_exporter": "python",
   "pygments_lexer": "ipython3",
   "version": "3.11.6"
  }
 },
 "nbformat": 4,
 "nbformat_minor": 5
}
