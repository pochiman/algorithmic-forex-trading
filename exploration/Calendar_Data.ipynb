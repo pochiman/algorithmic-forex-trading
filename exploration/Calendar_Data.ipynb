{
 "cells": [
  {
   "cell_type": "code",
   "execution_count": 1,
   "id": "da1775f2-ea81-4613-a6d3-69fc19f35204",
   "metadata": {},
   "outputs": [],
   "source": [
    "import sys\n",
    "sys.path.append(\"../\")\n",
    "\n",
    "import pandas as pd\n",
    "import plotly.graph_objects as go\n",
    "from dateutil import parser\n",
    "import datetime as dt\n",
    "\n",
    "from api.oanda_api import OandaApi\n",
    "from infrastructure.instrument_collection import instrumentCollection as ic\n",
    "from db.db import DataDB"
   ]
  },
  {
   "cell_type": "code",
   "execution_count": 2,
   "id": "ef4e716f-1fa2-41bb-ba09-c5f6f9387310",
   "metadata": {},
   "outputs": [],
   "source": [
    "database = DataDB()"
   ]
  },
  {
   "cell_type": "code",
   "execution_count": 3,
   "id": "a2a1a506-e05d-48fa-8dd7-061a73611be8",
   "metadata": {},
   "outputs": [],
   "source": [
    "ic.LoadInstrumentsDB()"
   ]
  },
  {
   "cell_type": "code",
   "execution_count": 4,
   "id": "8d278fd7-d91a-4041-a8a6-a730acbd3cd4",
   "metadata": {},
   "outputs": [],
   "source": [
    "pairs = []\n",
    "for pair, val in ic.instruments_dict.items():\n",
    "    if val.ins_type == \"CURRENCY\" and \"GBP\" in pair:\n",
    "        pairs.append(pair)"
   ]
  },
  {
   "cell_type": "code",
   "execution_count": 5,
   "id": "4be9e46f-dcb6-41fb-b93d-2d161d444ad8",
   "metadata": {},
   "outputs": [
    {
     "data": {
      "text/plain": [
       "['GBP_AUD',\n",
       " 'GBP_CHF',\n",
       " 'GBP_HKD',\n",
       " 'GBP_ZAR',\n",
       " 'GBP_CAD',\n",
       " 'GBP_SGD',\n",
       " 'GBP_USD',\n",
       " 'GBP_PLN',\n",
       " 'EUR_GBP',\n",
       " 'GBP_NZD',\n",
       " 'GBP_JPY']"
      ]
     },
     "execution_count": 5,
     "metadata": {},
     "output_type": "execute_result"
    }
   ],
   "source": [
    "pairs"
   ]
  },
  {
   "cell_type": "code",
   "execution_count": 17,
   "id": "ee6b1be3-8184-4e51-82ea-42f1eaf6a035",
   "metadata": {},
   "outputs": [
    {
     "name": "stdout",
     "output_type": "stream",
     "text": [
      "GBP_AUD\n",
      "GBP_CHF\n",
      "GBP_HKD\n",
      "GBP_ZAR\n",
      "GBP_CAD\n",
      "GBP_SGD\n",
      "GBP_USD\n",
      "GBP_PLN\n",
      "EUR_GBP\n",
      "GBP_NZD\n",
      "GBP_JPY\n"
     ]
    }
   ],
   "source": [
    "data = []\n",
    "api = OandaApi()\n",
    "for p in pairs:\n",
    "    d_temp = api.get_candles_df(pair_name=p, granularity=\"D\", count=400)\n",
    "    d_temp['gain'] = ((d_temp.mid_c - d_temp.mid_o) / d_temp.mid_c) * 100\n",
    "    d_temp['pair'] = p\n",
    "    if '_GBP' in p:\n",
    "        d_temp['gain'] = d_temp['gain'] * -1\n",
    "    data.append(d_temp)\n",
    "candles_df = pd.concat(data)\n",
    "candles_df.reset_index(drop=True, inplace=True)\n",
    "candles_df.time = candles_df.time.dt.date"
   ]
  },
  {
   "cell_type": "code",
   "execution_count": 18,
   "id": "77846374-dfd3-4190-bd8a-6f81e028af25",
   "metadata": {},
   "outputs": [
    {
     "data": {
      "text/html": [
       "<div>\n",
       "<style scoped>\n",
       "    .dataframe tbody tr th:only-of-type {\n",
       "        vertical-align: middle;\n",
       "    }\n",
       "\n",
       "    .dataframe tbody tr th {\n",
       "        vertical-align: top;\n",
       "    }\n",
       "\n",
       "    .dataframe thead th {\n",
       "        text-align: right;\n",
       "    }\n",
       "</style>\n",
       "<table border=\"1\" class=\"dataframe\">\n",
       "  <thead>\n",
       "    <tr style=\"text-align: right;\">\n",
       "      <th></th>\n",
       "      <th>time</th>\n",
       "      <th>volume</th>\n",
       "      <th>mid_o</th>\n",
       "      <th>mid_h</th>\n",
       "      <th>mid_l</th>\n",
       "      <th>mid_c</th>\n",
       "      <th>bid_o</th>\n",
       "      <th>bid_h</th>\n",
       "      <th>bid_l</th>\n",
       "      <th>bid_c</th>\n",
       "      <th>ask_o</th>\n",
       "      <th>ask_h</th>\n",
       "      <th>ask_l</th>\n",
       "      <th>ask_c</th>\n",
       "      <th>gain</th>\n",
       "      <th>pair</th>\n",
       "    </tr>\n",
       "  </thead>\n",
       "  <tbody>\n",
       "    <tr>\n",
       "      <th>4384</th>\n",
       "      <td>2024-11-24</td>\n",
       "      <td>380936</td>\n",
       "      <td>194.228</td>\n",
       "      <td>194.632</td>\n",
       "      <td>193.272</td>\n",
       "      <td>193.781</td>\n",
       "      <td>194.128</td>\n",
       "      <td>194.618</td>\n",
       "      <td>193.257</td>\n",
       "      <td>193.755</td>\n",
       "      <td>194.329</td>\n",
       "      <td>194.647</td>\n",
       "      <td>193.288</td>\n",
       "      <td>193.807</td>\n",
       "      <td>-0.230673</td>\n",
       "      <td>GBP_JPY</td>\n",
       "    </tr>\n",
       "    <tr>\n",
       "      <th>4385</th>\n",
       "      <td>2024-11-25</td>\n",
       "      <td>385787</td>\n",
       "      <td>193.871</td>\n",
       "      <td>193.894</td>\n",
       "      <td>192.046</td>\n",
       "      <td>192.450</td>\n",
       "      <td>193.689</td>\n",
       "      <td>193.807</td>\n",
       "      <td>192.031</td>\n",
       "      <td>192.421</td>\n",
       "      <td>194.053</td>\n",
       "      <td>194.093</td>\n",
       "      <td>192.059</td>\n",
       "      <td>192.478</td>\n",
       "      <td>-0.738374</td>\n",
       "      <td>GBP_JPY</td>\n",
       "    </tr>\n",
       "    <tr>\n",
       "      <th>4386</th>\n",
       "      <td>2024-11-26</td>\n",
       "      <td>330139</td>\n",
       "      <td>192.485</td>\n",
       "      <td>192.634</td>\n",
       "      <td>190.678</td>\n",
       "      <td>191.618</td>\n",
       "      <td>192.297</td>\n",
       "      <td>192.620</td>\n",
       "      <td>190.666</td>\n",
       "      <td>191.563</td>\n",
       "      <td>192.673</td>\n",
       "      <td>192.673</td>\n",
       "      <td>190.691</td>\n",
       "      <td>191.672</td>\n",
       "      <td>-0.452463</td>\n",
       "      <td>GBP_JPY</td>\n",
       "    </tr>\n",
       "    <tr>\n",
       "      <th>4387</th>\n",
       "      <td>2024-11-27</td>\n",
       "      <td>220540</td>\n",
       "      <td>191.591</td>\n",
       "      <td>192.479</td>\n",
       "      <td>191.378</td>\n",
       "      <td>192.284</td>\n",
       "      <td>191.416</td>\n",
       "      <td>192.463</td>\n",
       "      <td>191.263</td>\n",
       "      <td>192.245</td>\n",
       "      <td>191.766</td>\n",
       "      <td>192.495</td>\n",
       "      <td>191.404</td>\n",
       "      <td>192.322</td>\n",
       "      <td>0.360404</td>\n",
       "      <td>GBP_JPY</td>\n",
       "    </tr>\n",
       "    <tr>\n",
       "      <th>4388</th>\n",
       "      <td>2024-11-28</td>\n",
       "      <td>372575</td>\n",
       "      <td>192.281</td>\n",
       "      <td>192.316</td>\n",
       "      <td>190.157</td>\n",
       "      <td>190.695</td>\n",
       "      <td>192.150</td>\n",
       "      <td>192.270</td>\n",
       "      <td>190.140</td>\n",
       "      <td>190.470</td>\n",
       "      <td>192.412</td>\n",
       "      <td>192.430</td>\n",
       "      <td>190.174</td>\n",
       "      <td>190.920</td>\n",
       "      <td>-0.831695</td>\n",
       "      <td>GBP_JPY</td>\n",
       "    </tr>\n",
       "  </tbody>\n",
       "</table>\n",
       "</div>"
      ],
      "text/plain": [
       "            time  volume    mid_o    mid_h    mid_l    mid_c    bid_o  \\\n",
       "4384  2024-11-24  380936  194.228  194.632  193.272  193.781  194.128   \n",
       "4385  2024-11-25  385787  193.871  193.894  192.046  192.450  193.689   \n",
       "4386  2024-11-26  330139  192.485  192.634  190.678  191.618  192.297   \n",
       "4387  2024-11-27  220540  191.591  192.479  191.378  192.284  191.416   \n",
       "4388  2024-11-28  372575  192.281  192.316  190.157  190.695  192.150   \n",
       "\n",
       "        bid_h    bid_l    bid_c    ask_o    ask_h    ask_l    ask_c      gain  \\\n",
       "4384  194.618  193.257  193.755  194.329  194.647  193.288  193.807 -0.230673   \n",
       "4385  193.807  192.031  192.421  194.053  194.093  192.059  192.478 -0.738374   \n",
       "4386  192.620  190.666  191.563  192.673  192.673  190.691  191.672 -0.452463   \n",
       "4387  192.463  191.263  192.245  191.766  192.495  191.404  192.322  0.360404   \n",
       "4388  192.270  190.140  190.470  192.412  192.430  190.174  190.920 -0.831695   \n",
       "\n",
       "         pair  \n",
       "4384  GBP_JPY  \n",
       "4385  GBP_JPY  \n",
       "4386  GBP_JPY  \n",
       "4387  GBP_JPY  \n",
       "4388  GBP_JPY  "
      ]
     },
     "execution_count": 18,
     "metadata": {},
     "output_type": "execute_result"
    }
   ],
   "source": [
    "candles_df.tail()"
   ]
  },
  {
   "cell_type": "code",
   "execution_count": 24,
   "id": "f769a11e-0466-403e-98c1-c8a2d0bc4106",
   "metadata": {},
   "outputs": [],
   "source": [
    "calendar_data = database.query_all(DataDB.CALENDAR_COLL)"
   ]
  },
  {
   "cell_type": "code",
   "execution_count": 26,
   "id": "2a645828-05a6-4cfb-b925-47b970bc9911",
   "metadata": {},
   "outputs": [],
   "source": [
    "calendar_data_df = pd.DataFrame.from_dict(calendar_data)"
   ]
  },
  {
   "cell_type": "code",
   "execution_count": 28,
   "id": "29d8db45-4574-4372-a1e1-8ed66c09c743",
   "metadata": {},
   "outputs": [
    {
     "ename": "AttributeError",
     "evalue": "'DataFrame' object has no attribute 'date'",
     "output_type": "error",
     "traceback": [
      "\u001b[0;31m---------------------------------------------------------------------------\u001b[0m",
      "\u001b[0;31mAttributeError\u001b[0m                            Traceback (most recent call last)",
      "\u001b[0;32m/var/folders/bm/h1t1wfk16y5gv2b9svjm7mzw0000gn/T/ipykernel_3322/3379844810.py\u001b[0m in \u001b[0;36m?\u001b[0;34m()\u001b[0m\n\u001b[0;32m----> 1\u001b[0;31m \u001b[0mcalendar_data_df\u001b[0m\u001b[0;34m.\u001b[0m\u001b[0mdate\u001b[0m \u001b[0;34m=\u001b[0m \u001b[0mcalendar_data_df\u001b[0m\u001b[0;34m.\u001b[0m\u001b[0mdate\u001b[0m\u001b[0;34m.\u001b[0m\u001b[0mdt\u001b[0m\u001b[0;34m.\u001b[0m\u001b[0mdate\u001b[0m\u001b[0;34m\u001b[0m\u001b[0;34m\u001b[0m\u001b[0m\n\u001b[0m",
      "\u001b[0;32m~/Desktop/projects/algorithmic-forex-trading/venv/lib/python3.11/site-packages/pandas/core/generic.py\u001b[0m in \u001b[0;36m?\u001b[0;34m(self, name)\u001b[0m\n\u001b[1;32m   6295\u001b[0m             \u001b[0;32mand\u001b[0m \u001b[0mname\u001b[0m \u001b[0;32mnot\u001b[0m \u001b[0;32min\u001b[0m \u001b[0mself\u001b[0m\u001b[0;34m.\u001b[0m\u001b[0m_accessors\u001b[0m\u001b[0;34m\u001b[0m\u001b[0;34m\u001b[0m\u001b[0m\n\u001b[1;32m   6296\u001b[0m             \u001b[0;32mand\u001b[0m \u001b[0mself\u001b[0m\u001b[0;34m.\u001b[0m\u001b[0m_info_axis\u001b[0m\u001b[0;34m.\u001b[0m\u001b[0m_can_hold_identifiers_and_holds_name\u001b[0m\u001b[0;34m(\u001b[0m\u001b[0mname\u001b[0m\u001b[0;34m)\u001b[0m\u001b[0;34m\u001b[0m\u001b[0;34m\u001b[0m\u001b[0m\n\u001b[1;32m   6297\u001b[0m         ):\n\u001b[1;32m   6298\u001b[0m             \u001b[0;32mreturn\u001b[0m \u001b[0mself\u001b[0m\u001b[0;34m[\u001b[0m\u001b[0mname\u001b[0m\u001b[0;34m]\u001b[0m\u001b[0;34m\u001b[0m\u001b[0;34m\u001b[0m\u001b[0m\n\u001b[0;32m-> 6299\u001b[0;31m         \u001b[0;32mreturn\u001b[0m \u001b[0mobject\u001b[0m\u001b[0;34m.\u001b[0m\u001b[0m__getattribute__\u001b[0m\u001b[0;34m(\u001b[0m\u001b[0mself\u001b[0m\u001b[0;34m,\u001b[0m \u001b[0mname\u001b[0m\u001b[0;34m)\u001b[0m\u001b[0;34m\u001b[0m\u001b[0;34m\u001b[0m\u001b[0m\n\u001b[0m",
      "\u001b[0;31mAttributeError\u001b[0m: 'DataFrame' object has no attribute 'date'"
     ]
    }
   ],
   "source": [
    "calendar_data_df.date = calendar_data_df.date.dt.date"
   ]
  },
  {
   "cell_type": "code",
   "execution_count": 29,
   "id": "e88f9114-3eee-460f-a069-a7b5510e76f5",
   "metadata": {},
   "outputs": [
    {
     "ename": "AttributeError",
     "evalue": "'DataFrame' object has no attribute 'country'",
     "output_type": "error",
     "traceback": [
      "\u001b[0;31m---------------------------------------------------------------------------\u001b[0m",
      "\u001b[0;31mAttributeError\u001b[0m                            Traceback (most recent call last)",
      "\u001b[0;32m/var/folders/bm/h1t1wfk16y5gv2b9svjm7mzw0000gn/T/ipykernel_3322/1682976261.py\u001b[0m in \u001b[0;36m?\u001b[0;34m()\u001b[0m\n\u001b[0;32m----> 1\u001b[0;31m \u001b[0mcalendar_data_df_uk\u001b[0m \u001b[0;34m=\u001b[0m \u001b[0mcalendar_data_df\u001b[0m\u001b[0;34m[\u001b[0m\u001b[0mcalendar_data_df\u001b[0m\u001b[0;34m.\u001b[0m\u001b[0mcountry\u001b[0m \u001b[0;34m==\u001b[0m \u001b[0;34m\"united kingdom\"\u001b[0m\u001b[0;34m]\u001b[0m\u001b[0;34m\u001b[0m\u001b[0;34m\u001b[0m\u001b[0m\n\u001b[0m",
      "\u001b[0;32m~/Desktop/projects/algorithmic-forex-trading/venv/lib/python3.11/site-packages/pandas/core/generic.py\u001b[0m in \u001b[0;36m?\u001b[0;34m(self, name)\u001b[0m\n\u001b[1;32m   6295\u001b[0m             \u001b[0;32mand\u001b[0m \u001b[0mname\u001b[0m \u001b[0;32mnot\u001b[0m \u001b[0;32min\u001b[0m \u001b[0mself\u001b[0m\u001b[0;34m.\u001b[0m\u001b[0m_accessors\u001b[0m\u001b[0;34m\u001b[0m\u001b[0;34m\u001b[0m\u001b[0m\n\u001b[1;32m   6296\u001b[0m             \u001b[0;32mand\u001b[0m \u001b[0mself\u001b[0m\u001b[0;34m.\u001b[0m\u001b[0m_info_axis\u001b[0m\u001b[0;34m.\u001b[0m\u001b[0m_can_hold_identifiers_and_holds_name\u001b[0m\u001b[0;34m(\u001b[0m\u001b[0mname\u001b[0m\u001b[0;34m)\u001b[0m\u001b[0;34m\u001b[0m\u001b[0;34m\u001b[0m\u001b[0m\n\u001b[1;32m   6297\u001b[0m         ):\n\u001b[1;32m   6298\u001b[0m             \u001b[0;32mreturn\u001b[0m \u001b[0mself\u001b[0m\u001b[0;34m[\u001b[0m\u001b[0mname\u001b[0m\u001b[0;34m]\u001b[0m\u001b[0;34m\u001b[0m\u001b[0;34m\u001b[0m\u001b[0m\n\u001b[0;32m-> 6299\u001b[0;31m         \u001b[0;32mreturn\u001b[0m \u001b[0mobject\u001b[0m\u001b[0;34m.\u001b[0m\u001b[0m__getattribute__\u001b[0m\u001b[0;34m(\u001b[0m\u001b[0mself\u001b[0m\u001b[0;34m,\u001b[0m \u001b[0mname\u001b[0m\u001b[0;34m)\u001b[0m\u001b[0;34m\u001b[0m\u001b[0;34m\u001b[0m\u001b[0m\n\u001b[0m",
      "\u001b[0;31mAttributeError\u001b[0m: 'DataFrame' object has no attribute 'country'"
     ]
    }
   ],
   "source": [
    "calendar_data_df_uk = calendar_data_df[calendar_data_df.country == \"united kingdom\"]"
   ]
  },
  {
   "cell_type": "code",
   "execution_count": 30,
   "id": "5fc62d1f-5572-4423-91a9-5decef39baad",
   "metadata": {},
   "outputs": [
    {
     "ename": "NameError",
     "evalue": "name 'calendar_data_df_uk' is not defined",
     "output_type": "error",
     "traceback": [
      "\u001b[0;31m---------------------------------------------------------------------------\u001b[0m",
      "\u001b[0;31mNameError\u001b[0m                                 Traceback (most recent call last)",
      "Cell \u001b[0;32mIn[30], line 1\u001b[0m\n\u001b[0;32m----> 1\u001b[0m \u001b[43mcalendar_data_df_uk\u001b[49m\n",
      "\u001b[0;31mNameError\u001b[0m: name 'calendar_data_df_uk' is not defined"
     ]
    }
   ],
   "source": [
    "calendar_data_df_uk"
   ]
  },
  {
   "cell_type": "code",
   "execution_count": null,
   "id": "066c1667-5ca1-42e6-a115-d655f015049c",
   "metadata": {},
   "outputs": [],
   "source": []
  }
 ],
 "metadata": {
  "kernelspec": {
   "display_name": "Python 3 (ipykernel)",
   "language": "python",
   "name": "python3"
  },
  "language_info": {
   "codemirror_mode": {
    "name": "ipython",
    "version": 3
   },
   "file_extension": ".py",
   "mimetype": "text/x-python",
   "name": "python",
   "nbconvert_exporter": "python",
   "pygments_lexer": "ipython3",
   "version": "3.11.6"
  }
 },
 "nbformat": 4,
 "nbformat_minor": 5
}
