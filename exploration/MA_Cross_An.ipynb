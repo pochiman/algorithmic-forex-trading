{
 "cells": [
  {
   "cell_type": "code",
   "execution_count": 10,
   "id": "d37ba474-f08e-4b39-a737-25eb85e0b17b",
   "metadata": {},
   "outputs": [],
   "source": [
    "import pandas as pd\n",
    "from plotting import CandlePlot\n",
    "pd.set_option(\"display.max_columns\", None)"
   ]
  },
  {
   "cell_type": "code",
   "execution_count": 11,
   "id": "95a51ea3-35ec-4e27-92ef-c8fe9aa56cc5",
   "metadata": {},
   "outputs": [],
   "source": [
    "df_ma_res = pd.read_pickle(\"../data/ma_res.pkl\")\n",
    "df_ma_trades = pd.read_pickle(\"../data/ma_trades.pkl\")"
   ]
  },
  {
   "cell_type": "code",
   "execution_count": 16,
   "id": "5b7e222a-d73c-4b2c-b9b3-6b8ad6efc93a",
   "metadata": {},
   "outputs": [
    {
     "data": {
      "text/plain": [
       "array(['H1', 'H4'], dtype=object)"
      ]
     },
     "execution_count": 16,
     "metadata": {},
     "output_type": "execute_result"
    }
   ],
   "source": [
    "df_ma_res.granularity.unique()"
   ]
  },
  {
   "cell_type": "code",
   "execution_count": 17,
   "id": "465ab0e9-105d-4455-a81f-050c0663fd15",
   "metadata": {},
   "outputs": [],
   "source": [
    "df_ma_res_h1 = df_ma_res[df_ma_res.granularity == \"H1\"].copy()\n",
    "df_ma_trades_h1 = df_ma_trades[df_ma_trades.granularity == \"H1\"].copy()"
   ]
  },
  {
   "cell_type": "code",
   "execution_count": 18,
   "id": "36911a06-1edc-4ead-90fd-b404130c3154",
   "metadata": {},
   "outputs": [
    {
     "data": {
      "text/plain": [
       "(34016, 32)"
      ]
     },
     "execution_count": 18,
     "metadata": {},
     "output_type": "execute_result"
    }
   ],
   "source": [
    "df_ma_trades_h1.shape"
   ]
  },
  {
   "cell_type": "code",
   "execution_count": 19,
   "id": "0dc6c569-73fc-4c7b-a307-1c0e444fca16",
   "metadata": {},
   "outputs": [
    {
     "data": {
      "text/plain": [
       "Index(['pair', 'num_trades', 'total_gain', 'mean_gain', 'min_gain', 'max_gain',\n",
       "       'ma_l', 'ma_s', 'cross', 'granularity'],\n",
       "      dtype='object')"
      ]
     },
     "execution_count": 19,
     "metadata": {},
     "output_type": "execute_result"
    }
   ],
   "source": [
    "df_ma_res_h1.columns"
   ]
  },
  {
   "cell_type": "code",
   "execution_count": 20,
   "id": "0cfa1379-6620-461f-8b6f-55b77b4e40b3",
   "metadata": {},
   "outputs": [],
   "source": [
    "df_cross_summary = df_ma_res_h1[['pair', 'num_trades', 'total_gain', 'cross']].copy()"
   ]
  },
  {
   "cell_type": "code",
   "execution_count": 21,
   "id": "9a05aaec-18f3-48c2-a83f-f0ce8fe597dd",
   "metadata": {},
   "outputs": [
    {
     "data": {
      "text/html": [
       "<div>\n",
       "<style scoped>\n",
       "    .dataframe tbody tr th:only-of-type {\n",
       "        vertical-align: middle;\n",
       "    }\n",
       "\n",
       "    .dataframe tbody tr th {\n",
       "        vertical-align: top;\n",
       "    }\n",
       "\n",
       "    .dataframe thead th {\n",
       "        text-align: right;\n",
       "    }\n",
       "</style>\n",
       "<table border=\"1\" class=\"dataframe\">\n",
       "  <thead>\n",
       "    <tr style=\"text-align: right;\">\n",
       "      <th></th>\n",
       "      <th>pair</th>\n",
       "      <th>num_trades</th>\n",
       "      <th>total_gain</th>\n",
       "      <th>cross</th>\n",
       "    </tr>\n",
       "  </thead>\n",
       "  <tbody>\n",
       "    <tr>\n",
       "      <th>0</th>\n",
       "      <td>EUR_USD</td>\n",
       "      <td>220</td>\n",
       "      <td>-738</td>\n",
       "      <td>MA_10_MA_20</td>\n",
       "    </tr>\n",
       "    <tr>\n",
       "      <th>1</th>\n",
       "      <td>EUR_USD</td>\n",
       "      <td>108</td>\n",
       "      <td>800</td>\n",
       "      <td>MA_10_MA_40</td>\n",
       "    </tr>\n",
       "    <tr>\n",
       "      <th>2</th>\n",
       "      <td>EUR_USD</td>\n",
       "      <td>96</td>\n",
       "      <td>987</td>\n",
       "      <td>MA_20_MA_40</td>\n",
       "    </tr>\n",
       "    <tr>\n",
       "      <th>3</th>\n",
       "      <td>EUR_USD</td>\n",
       "      <td>104</td>\n",
       "      <td>470</td>\n",
       "      <td>MA_30_MA_40</td>\n",
       "    </tr>\n",
       "    <tr>\n",
       "      <th>4</th>\n",
       "      <td>EUR_USD</td>\n",
       "      <td>70</td>\n",
       "      <td>380</td>\n",
       "      <td>MA_10_MA_80</td>\n",
       "    </tr>\n",
       "    <tr>\n",
       "      <th>...</th>\n",
       "      <td>...</td>\n",
       "      <td>...</td>\n",
       "      <td>...</td>\n",
       "      <td>...</td>\n",
       "    </tr>\n",
       "    <tr>\n",
       "      <th>715</th>\n",
       "      <td>CAD_JPY</td>\n",
       "      <td>37</td>\n",
       "      <td>-233</td>\n",
       "      <td>MA_40_MA_120</td>\n",
       "    </tr>\n",
       "    <tr>\n",
       "      <th>716</th>\n",
       "      <td>CAD_JPY</td>\n",
       "      <td>45</td>\n",
       "      <td>503</td>\n",
       "      <td>MA_10_MA_150</td>\n",
       "    </tr>\n",
       "    <tr>\n",
       "      <th>717</th>\n",
       "      <td>CAD_JPY</td>\n",
       "      <td>33</td>\n",
       "      <td>153</td>\n",
       "      <td>MA_20_MA_150</td>\n",
       "    </tr>\n",
       "    <tr>\n",
       "      <th>718</th>\n",
       "      <td>CAD_JPY</td>\n",
       "      <td>31</td>\n",
       "      <td>-46</td>\n",
       "      <td>MA_30_MA_150</td>\n",
       "    </tr>\n",
       "    <tr>\n",
       "      <th>719</th>\n",
       "      <td>CAD_JPY</td>\n",
       "      <td>31</td>\n",
       "      <td>-276</td>\n",
       "      <td>MA_40_MA_150</td>\n",
       "    </tr>\n",
       "  </tbody>\n",
       "</table>\n",
       "<p>480 rows × 4 columns</p>\n",
       "</div>"
      ],
      "text/plain": [
       "        pair  num_trades  total_gain         cross\n",
       "0    EUR_USD         220        -738   MA_10_MA_20\n",
       "1    EUR_USD         108         800   MA_10_MA_40\n",
       "2    EUR_USD          96         987   MA_20_MA_40\n",
       "3    EUR_USD         104         470   MA_30_MA_40\n",
       "4    EUR_USD          70         380   MA_10_MA_80\n",
       "..       ...         ...         ...           ...\n",
       "715  CAD_JPY          37        -233  MA_40_MA_120\n",
       "716  CAD_JPY          45         503  MA_10_MA_150\n",
       "717  CAD_JPY          33         153  MA_20_MA_150\n",
       "718  CAD_JPY          31         -46  MA_30_MA_150\n",
       "719  CAD_JPY          31        -276  MA_40_MA_150\n",
       "\n",
       "[480 rows x 4 columns]"
      ]
     },
     "execution_count": 21,
     "metadata": {},
     "output_type": "execute_result"
    }
   ],
   "source": [
    "df_cross_summary"
   ]
  },
  {
   "cell_type": "code",
   "execution_count": 24,
   "id": "490c8bda-76f9-409c-ad0e-84db5a2c9c7b",
   "metadata": {},
   "outputs": [],
   "source": [
    "df_cross_gr = df_cross_summary.groupby(by=\"cross\", as_index=False).sum()\n",
    "df_cross_gr.sort_values(by = \"total_gain\", ascending=False, inplace=True)"
   ]
  },
  {
   "cell_type": "code",
   "execution_count": 25,
   "id": "d5f5b188-33a4-4e7b-a136-af3474015cd0",
   "metadata": {},
   "outputs": [
    {
     "data": {
      "text/html": [
       "<div>\n",
       "<style scoped>\n",
       "    .dataframe tbody tr th:only-of-type {\n",
       "        vertical-align: middle;\n",
       "    }\n",
       "\n",
       "    .dataframe tbody tr th {\n",
       "        vertical-align: top;\n",
       "    }\n",
       "\n",
       "    .dataframe thead th {\n",
       "        text-align: right;\n",
       "    }\n",
       "</style>\n",
       "<table border=\"1\" class=\"dataframe\">\n",
       "  <thead>\n",
       "    <tr style=\"text-align: right;\">\n",
       "      <th></th>\n",
       "      <th>cross</th>\n",
       "      <th>pair</th>\n",
       "      <th>num_trades</th>\n",
       "      <th>total_gain</th>\n",
       "    </tr>\n",
       "  </thead>\n",
       "  <tbody>\n",
       "    <tr>\n",
       "      <th>3</th>\n",
       "      <td>MA_10_MA_40</td>\n",
       "      <td>EUR_USDEUR_GBPEUR_JPYEUR_AUDEUR_CADUSD_JPYUSD_...</td>\n",
       "      <td>3490</td>\n",
       "      <td>9976</td>\n",
       "    </tr>\n",
       "    <tr>\n",
       "      <th>7</th>\n",
       "      <td>MA_20_MA_40</td>\n",
       "      <td>EUR_USDEUR_GBPEUR_JPYEUR_AUDEUR_CADUSD_JPYUSD_...</td>\n",
       "      <td>3014</td>\n",
       "      <td>4488</td>\n",
       "    </tr>\n",
       "    <tr>\n",
       "      <th>2</th>\n",
       "      <td>MA_10_MA_20</td>\n",
       "      <td>EUR_USDEUR_GBPEUR_JPYEUR_AUDEUR_CADUSD_JPYUSD_...</td>\n",
       "      <td>6376</td>\n",
       "      <td>2972</td>\n",
       "    </tr>\n",
       "    <tr>\n",
       "      <th>11</th>\n",
       "      <td>MA_30_MA_40</td>\n",
       "      <td>EUR_USDEUR_GBPEUR_JPYEUR_AUDEUR_CADUSD_JPYUSD_...</td>\n",
       "      <td>3452</td>\n",
       "      <td>870</td>\n",
       "    </tr>\n",
       "    <tr>\n",
       "      <th>5</th>\n",
       "      <td>MA_20_MA_120</td>\n",
       "      <td>EUR_USDEUR_GBPEUR_JPYEUR_AUDEUR_CADUSD_JPYUSD_...</td>\n",
       "      <td>1392</td>\n",
       "      <td>-5300</td>\n",
       "    </tr>\n",
       "    <tr>\n",
       "      <th>4</th>\n",
       "      <td>MA_10_MA_80</td>\n",
       "      <td>EUR_USDEUR_GBPEUR_JPYEUR_AUDEUR_CADUSD_JPYUSD_...</td>\n",
       "      <td>2250</td>\n",
       "      <td>-5304</td>\n",
       "    </tr>\n",
       "    <tr>\n",
       "      <th>6</th>\n",
       "      <td>MA_20_MA_150</td>\n",
       "      <td>EUR_USDEUR_GBPEUR_JPYEUR_AUDEUR_CADUSD_JPYUSD_...</td>\n",
       "      <td>1212</td>\n",
       "      <td>-6040</td>\n",
       "    </tr>\n",
       "    <tr>\n",
       "      <th>1</th>\n",
       "      <td>MA_10_MA_150</td>\n",
       "      <td>EUR_USDEUR_GBPEUR_JPYEUR_AUDEUR_CADUSD_JPYUSD_...</td>\n",
       "      <td>1658</td>\n",
       "      <td>-6124</td>\n",
       "    </tr>\n",
       "    <tr>\n",
       "      <th>0</th>\n",
       "      <td>MA_10_MA_120</td>\n",
       "      <td>EUR_USDEUR_GBPEUR_JPYEUR_AUDEUR_CADUSD_JPYUSD_...</td>\n",
       "      <td>1870</td>\n",
       "      <td>-6176</td>\n",
       "    </tr>\n",
       "    <tr>\n",
       "      <th>8</th>\n",
       "      <td>MA_20_MA_80</td>\n",
       "      <td>EUR_USDEUR_GBPEUR_JPYEUR_AUDEUR_CADUSD_JPYUSD_...</td>\n",
       "      <td>1814</td>\n",
       "      <td>-6294</td>\n",
       "    </tr>\n",
       "    <tr>\n",
       "      <th>9</th>\n",
       "      <td>MA_30_MA_120</td>\n",
       "      <td>EUR_USDEUR_GBPEUR_JPYEUR_AUDEUR_CADUSD_JPYUSD_...</td>\n",
       "      <td>1184</td>\n",
       "      <td>-6516</td>\n",
       "    </tr>\n",
       "    <tr>\n",
       "      <th>10</th>\n",
       "      <td>MA_30_MA_150</td>\n",
       "      <td>EUR_USDEUR_GBPEUR_JPYEUR_AUDEUR_CADUSD_JPYUSD_...</td>\n",
       "      <td>1018</td>\n",
       "      <td>-6764</td>\n",
       "    </tr>\n",
       "    <tr>\n",
       "      <th>12</th>\n",
       "      <td>MA_30_MA_80</td>\n",
       "      <td>EUR_USDEUR_GBPEUR_JPYEUR_AUDEUR_CADUSD_JPYUSD_...</td>\n",
       "      <td>1654</td>\n",
       "      <td>-7838</td>\n",
       "    </tr>\n",
       "    <tr>\n",
       "      <th>13</th>\n",
       "      <td>MA_40_MA_120</td>\n",
       "      <td>EUR_USDEUR_GBPEUR_JPYEUR_AUDEUR_CADUSD_JPYUSD_...</td>\n",
       "      <td>1124</td>\n",
       "      <td>-8394</td>\n",
       "    </tr>\n",
       "    <tr>\n",
       "      <th>14</th>\n",
       "      <td>MA_40_MA_150</td>\n",
       "      <td>EUR_USDEUR_GBPEUR_JPYEUR_AUDEUR_CADUSD_JPYUSD_...</td>\n",
       "      <td>934</td>\n",
       "      <td>-9186</td>\n",
       "    </tr>\n",
       "    <tr>\n",
       "      <th>15</th>\n",
       "      <td>MA_40_MA_80</td>\n",
       "      <td>EUR_USDEUR_GBPEUR_JPYEUR_AUDEUR_CADUSD_JPYUSD_...</td>\n",
       "      <td>1574</td>\n",
       "      <td>-9540</td>\n",
       "    </tr>\n",
       "  </tbody>\n",
       "</table>\n",
       "</div>"
      ],
      "text/plain": [
       "           cross                                               pair  \\\n",
       "3    MA_10_MA_40  EUR_USDEUR_GBPEUR_JPYEUR_AUDEUR_CADUSD_JPYUSD_...   \n",
       "7    MA_20_MA_40  EUR_USDEUR_GBPEUR_JPYEUR_AUDEUR_CADUSD_JPYUSD_...   \n",
       "2    MA_10_MA_20  EUR_USDEUR_GBPEUR_JPYEUR_AUDEUR_CADUSD_JPYUSD_...   \n",
       "11   MA_30_MA_40  EUR_USDEUR_GBPEUR_JPYEUR_AUDEUR_CADUSD_JPYUSD_...   \n",
       "5   MA_20_MA_120  EUR_USDEUR_GBPEUR_JPYEUR_AUDEUR_CADUSD_JPYUSD_...   \n",
       "4    MA_10_MA_80  EUR_USDEUR_GBPEUR_JPYEUR_AUDEUR_CADUSD_JPYUSD_...   \n",
       "6   MA_20_MA_150  EUR_USDEUR_GBPEUR_JPYEUR_AUDEUR_CADUSD_JPYUSD_...   \n",
       "1   MA_10_MA_150  EUR_USDEUR_GBPEUR_JPYEUR_AUDEUR_CADUSD_JPYUSD_...   \n",
       "0   MA_10_MA_120  EUR_USDEUR_GBPEUR_JPYEUR_AUDEUR_CADUSD_JPYUSD_...   \n",
       "8    MA_20_MA_80  EUR_USDEUR_GBPEUR_JPYEUR_AUDEUR_CADUSD_JPYUSD_...   \n",
       "9   MA_30_MA_120  EUR_USDEUR_GBPEUR_JPYEUR_AUDEUR_CADUSD_JPYUSD_...   \n",
       "10  MA_30_MA_150  EUR_USDEUR_GBPEUR_JPYEUR_AUDEUR_CADUSD_JPYUSD_...   \n",
       "12   MA_30_MA_80  EUR_USDEUR_GBPEUR_JPYEUR_AUDEUR_CADUSD_JPYUSD_...   \n",
       "13  MA_40_MA_120  EUR_USDEUR_GBPEUR_JPYEUR_AUDEUR_CADUSD_JPYUSD_...   \n",
       "14  MA_40_MA_150  EUR_USDEUR_GBPEUR_JPYEUR_AUDEUR_CADUSD_JPYUSD_...   \n",
       "15   MA_40_MA_80  EUR_USDEUR_GBPEUR_JPYEUR_AUDEUR_CADUSD_JPYUSD_...   \n",
       "\n",
       "    num_trades  total_gain  \n",
       "3         3490        9976  \n",
       "7         3014        4488  \n",
       "2         6376        2972  \n",
       "11        3452         870  \n",
       "5         1392       -5300  \n",
       "4         2250       -5304  \n",
       "6         1212       -6040  \n",
       "1         1658       -6124  \n",
       "0         1870       -6176  \n",
       "8         1814       -6294  \n",
       "9         1184       -6516  \n",
       "10        1018       -6764  \n",
       "12        1654       -7838  \n",
       "13        1124       -8394  \n",
       "14         934       -9186  \n",
       "15        1574       -9540  "
      ]
     },
     "execution_count": 25,
     "metadata": {},
     "output_type": "execute_result"
    }
   ],
   "source": [
    "df_cross_gr"
   ]
  },
  {
   "cell_type": "code",
   "execution_count": null,
   "id": "5c2d7973-d1fc-4bc0-bd6f-2bf6ec29ac7f",
   "metadata": {},
   "outputs": [],
   "source": []
  }
 ],
 "metadata": {
  "kernelspec": {
   "display_name": "Python 3 (ipykernel)",
   "language": "python",
   "name": "python3"
  },
  "language_info": {
   "codemirror_mode": {
    "name": "ipython",
    "version": 3
   },
   "file_extension": ".py",
   "mimetype": "text/x-python",
   "name": "python",
   "nbconvert_exporter": "python",
   "pygments_lexer": "ipython3",
   "version": "3.11.6"
  }
 },
 "nbformat": 4,
 "nbformat_minor": 5
}
