{
 "cells": [
  {
   "cell_type": "code",
   "execution_count": 1,
   "id": "304f7982-d652-4246-b611-448305bf225f",
   "metadata": {},
   "outputs": [],
   "source": [
    "import sys\n",
    "sys.path.append(\"../\")\n",
    "from plotting import CandlePlot\n",
    "import pandas as pd"
   ]
  },
  {
   "cell_type": "code",
   "execution_count": 2,
   "id": "6b896af7-bfe3-4e66-a2b2-af298cb7ca34",
   "metadata": {},
   "outputs": [],
   "source": [
    "from technicals.patterns import apply_patterns"
   ]
  },
  {
   "cell_type": "code",
   "execution_count": 3,
   "id": "377eb8da-3752-466d-864a-991d62262d13",
   "metadata": {},
   "outputs": [],
   "source": [
    "df = pd.read_pickle(\"../data/GBP_JPY_H1.pkl\")"
   ]
  },
  {
   "cell_type": "code",
   "execution_count": 4,
   "id": "221dc3f6-5e84-49a9-8dd2-8cc6e1e6ca33",
   "metadata": {},
   "outputs": [],
   "source": [
    "df_an = df[['time', 'mid_o', 'mid_h', 'mid_l', 'mid_c']].copy()"
   ]
  },
  {
   "cell_type": "code",
   "execution_count": 5,
   "id": "a28aee6c-f69f-450e-95fb-88e409447155",
   "metadata": {},
   "outputs": [
    {
     "data": {
      "text/html": [
       "<div>\n",
       "<style scoped>\n",
       "    .dataframe tbody tr th:only-of-type {\n",
       "        vertical-align: middle;\n",
       "    }\n",
       "\n",
       "    .dataframe tbody tr th {\n",
       "        vertical-align: top;\n",
       "    }\n",
       "\n",
       "    .dataframe thead th {\n",
       "        text-align: right;\n",
       "    }\n",
       "</style>\n",
       "<table border=\"1\" class=\"dataframe\">\n",
       "  <thead>\n",
       "    <tr style=\"text-align: right;\">\n",
       "      <th></th>\n",
       "      <th>time</th>\n",
       "      <th>mid_o</th>\n",
       "      <th>mid_h</th>\n",
       "      <th>mid_l</th>\n",
       "      <th>mid_c</th>\n",
       "    </tr>\n",
       "  </thead>\n",
       "  <tbody>\n",
       "    <tr>\n",
       "      <th>37219</th>\n",
       "      <td>2021-12-30 19:00:00+00:00</td>\n",
       "      <td>155.312</td>\n",
       "      <td>155.444</td>\n",
       "      <td>155.274</td>\n",
       "      <td>155.444</td>\n",
       "    </tr>\n",
       "    <tr>\n",
       "      <th>37220</th>\n",
       "      <td>2021-12-30 20:00:00+00:00</td>\n",
       "      <td>155.442</td>\n",
       "      <td>155.470</td>\n",
       "      <td>155.289</td>\n",
       "      <td>155.312</td>\n",
       "    </tr>\n",
       "    <tr>\n",
       "      <th>37221</th>\n",
       "      <td>2021-12-30 21:00:00+00:00</td>\n",
       "      <td>155.317</td>\n",
       "      <td>155.382</td>\n",
       "      <td>155.286</td>\n",
       "      <td>155.382</td>\n",
       "    </tr>\n",
       "    <tr>\n",
       "      <th>37222</th>\n",
       "      <td>2021-12-30 22:00:00+00:00</td>\n",
       "      <td>155.353</td>\n",
       "      <td>155.381</td>\n",
       "      <td>155.282</td>\n",
       "      <td>155.329</td>\n",
       "    </tr>\n",
       "    <tr>\n",
       "      <th>37223</th>\n",
       "      <td>2021-12-30 23:00:00+00:00</td>\n",
       "      <td>155.336</td>\n",
       "      <td>155.360</td>\n",
       "      <td>155.284</td>\n",
       "      <td>155.310</td>\n",
       "    </tr>\n",
       "  </tbody>\n",
       "</table>\n",
       "</div>"
      ],
      "text/plain": [
       "                           time    mid_o    mid_h    mid_l    mid_c\n",
       "37219 2021-12-30 19:00:00+00:00  155.312  155.444  155.274  155.444\n",
       "37220 2021-12-30 20:00:00+00:00  155.442  155.470  155.289  155.312\n",
       "37221 2021-12-30 21:00:00+00:00  155.317  155.382  155.286  155.382\n",
       "37222 2021-12-30 22:00:00+00:00  155.353  155.381  155.282  155.329\n",
       "37223 2021-12-30 23:00:00+00:00  155.336  155.360  155.284  155.310"
      ]
     },
     "execution_count": 5,
     "metadata": {},
     "output_type": "execute_result"
    }
   ],
   "source": [
    "df_an.tail()"
   ]
  },
  {
   "cell_type": "code",
   "execution_count": null,
   "id": "32614250-d728-450d-96f5-37e32c3e1444",
   "metadata": {},
   "outputs": [],
   "source": [
    "# direction = df_an.mid_c - df_an.mid_o\n",
    "# body_size = abs(direction)\n",
    "# direction = [1 if x >= 0 else -1 for x in direction]\n",
    "# full_range = df_an.mid_h - df_an.mid_l\n",
    "# body_perc = (body_size / full_range) * 100\n",
    "# body_lower = df_an[['mid_c','mid_o']].min(axis=1)\n",
    "# body_upper = df_an[['mid_c','mid_o']].max(axis=1)\n",
    "# body_bottom_perc = ((body_lower - df_an.mid_l) / full_range) * 100\n",
    "# body_top_perc = 100 - (((df_an.mid_h - body_upper) / full_range) * 100)"
   ]
  },
  {
   "cell_type": "code",
   "execution_count": null,
   "id": "e28186b0-c51e-4beb-bada-78783e359f7d",
   "metadata": {},
   "outputs": [],
   "source": [
    "# df_an['body_lower'] = body_lower\n",
    "# df_an['body_upper'] = body_upper\n",
    "# df_an['body_perc'] = body_perc\n",
    "# df_an['body_bottom_perc'] = body_bottom_perc\n",
    "# df_an['body_top_perc'] = body_top_perc\n",
    "# df_an['full_range'] = full_range"
   ]
  },
  {
   "cell_type": "code",
   "execution_count": 6,
   "id": "fe74c1db-1d8b-422a-9575-413d58d42f33",
   "metadata": {},
   "outputs": [],
   "source": [
    "df_an = apply_patterns(df_an)"
   ]
  },
  {
   "cell_type": "code",
   "execution_count": 19,
   "id": "dd966301-53a7-4f03-8d34-26d3a87c4718",
   "metadata": {},
   "outputs": [],
   "source": [
    "HANGING_MAN_BODY = 15.0\n",
    "HANGING_MAN_HEIGHT = 75.0\n",
    "SHOOTING_STAR_HEIGHT = 25.0\n",
    "SPINNING_TOP_MIN = 40.0\n",
    "SPINNING_TOP_MAX = 60.0\n",
    "MARUBOZU = 98.0\n",
    "ENGULFING_FACTOR = 1.1\n",
    "\n",
    "apply_marubozu = lambda x: x.body_perc > MARUBOZU\n",
    "\n",
    "def apply_hanging_man(row):\n",
    "    if row.body_bottom_perc > HANGING_MAN_HEIGHT:\n",
    "        if row.body_perc < HANGING_MAN_BODY:\n",
    "            return True\n",
    "    return False\n",
    "\n",
    "def apply_shooting_star(row):\n",
    "    if row.body_top_perc < SHOOTING_STAR_HEIGHT:\n",
    "        if row.body_perc < HANGING_MAN_BODY:\n",
    "            return True\n",
    "    return False\n",
    "\n",
    "def apply_spinning_top(row):\n",
    "    if row.body_top_perc < SPINNING_TOP_MAX:\n",
    "        if row.body_bottom_perc > SPINNING_TOP_MIN:\n",
    "            if row.body_perc < HANGING_MAN_BODY:\n",
    "                return True\n",
    "    return False\n",
    "\n",
    "def apply_engulfing(row):\n",
    "    if row.direction != row.direction_prev:\n",
    "        if row.body_size > row.body_size_prev * ENGULFING_FACTOR:\n",
    "            return True\n",
    "    return False\n",
    "\n",
    "TWEEZER_BODY = 15.0\n",
    "TWEEZER_HL = 0.01\n",
    "TWEEZER_TOP_BODY = 40.0\n",
    "TWEEZER_BOTTOM_BODY = 60.0\n",
    "\n",
    "def apply_tweezer_top(row):\n",
    "    if abs(row.body_size_change) < TWEEZER_BODY:\n",
    "        if row.direction == -1 and row.direction != row.direction_prev:\n",
    "            if abs(row.low_change) < TWEEZER_HL and abs(row.high_change) < TWEEZER_HL:\n",
    "                if row.body_top_perc < TWEEZER_TOP_BODY:\n",
    "                    return True\n",
    "    return False\n",
    "\n",
    "def apply_tweezer_bottom(row):\n",
    "    if abs(row.body_size_change) < TWEEZER_BODY:\n",
    "        if row.direction == 1 and row.direction != row.direction_prev:\n",
    "            if abs(row.low_change) < TWEEZER_HL and abs(row.high_change) < TWEEZER_HL:\n",
    "                if row.body_bottom_perc > TWEEZER_BOTTOM_BODY:\n",
    "                    return True\n",
    "    return False"
   ]
  },
  {
   "cell_type": "code",
   "execution_count": 20,
   "id": "d403e727-e60a-45c4-b0e6-f3d46110e1c7",
   "metadata": {},
   "outputs": [],
   "source": [
    "df_an['body_size_prev'] = df_an.body_size.shift(1)\n",
    "df_an['direction_prev'] = df_an.direction.shift(1)\n",
    "df_an['HANGING_MAN'] = df_an.apply(apply_hanging_man, axis=1)\n",
    "df_an['SHOOTING_STAR'] = df_an.apply(apply_shooting_star, axis=1)\n",
    "df_an['SPINNING_TOP'] = df_an.apply(apply_spinning_top, axis=1)\n",
    "df_an['MARUBOZU'] = df_an.apply(apply_marubozu, axis=1)\n",
    "df_an['ENGULFING'] = df_an.apply(apply_engulfing, axis=1)\n",
    "df_an['TWEEZER_TOP'] = df_an.apply(apply_tweezer_top, axis=1)\n",
    "df_an['TWEEZER_BOTTOM'] = df_an.apply(apply_tweezer_bottom, axis=1)"
   ]
  },
  {
   "cell_type": "code",
   "execution_count": 21,
   "id": "b01d5aa4-15fd-42b9-8bb0-6509e5ce0ea0",
   "metadata": {},
   "outputs": [
    {
     "data": {
      "text/html": [
       "<div>\n",
       "<style scoped>\n",
       "    .dataframe tbody tr th:only-of-type {\n",
       "        vertical-align: middle;\n",
       "    }\n",
       "\n",
       "    .dataframe tbody tr th {\n",
       "        vertical-align: top;\n",
       "    }\n",
       "\n",
       "    .dataframe thead th {\n",
       "        text-align: right;\n",
       "    }\n",
       "</style>\n",
       "<table border=\"1\" class=\"dataframe\">\n",
       "  <thead>\n",
       "    <tr style=\"text-align: right;\">\n",
       "      <th></th>\n",
       "      <th>time</th>\n",
       "      <th>mid_o</th>\n",
       "      <th>mid_h</th>\n",
       "      <th>mid_l</th>\n",
       "      <th>mid_c</th>\n",
       "      <th>body_lower</th>\n",
       "      <th>body_upper</th>\n",
       "      <th>body_bottom_perc</th>\n",
       "      <th>body_top_perc</th>\n",
       "      <th>body_perc</th>\n",
       "      <th>...</th>\n",
       "      <th>body_size_change</th>\n",
       "      <th>body_size_prev</th>\n",
       "      <th>direction_prev</th>\n",
       "      <th>HANGING_MAN</th>\n",
       "      <th>SHOOTING_STAR</th>\n",
       "      <th>SPINNING_TOP</th>\n",
       "      <th>MARUBOZU</th>\n",
       "      <th>ENGULFING</th>\n",
       "      <th>TWEEZER_TOP</th>\n",
       "      <th>TWEEZER_BOTTOM</th>\n",
       "    </tr>\n",
       "  </thead>\n",
       "  <tbody>\n",
       "    <tr>\n",
       "      <th>11724</th>\n",
       "      <td>2017-11-23 12:00:00+00:00</td>\n",
       "      <td>148.009</td>\n",
       "      <td>148.074</td>\n",
       "      <td>147.906</td>\n",
       "      <td>148.032</td>\n",
       "      <td>148.009</td>\n",
       "      <td>148.032</td>\n",
       "      <td>61.309524</td>\n",
       "      <td>75.0</td>\n",
       "      <td>13.690476</td>\n",
       "      <td>...</td>\n",
       "      <td>-4.166667</td>\n",
       "      <td>0.024</td>\n",
       "      <td>-1.0</td>\n",
       "      <td>False</td>\n",
       "      <td>False</td>\n",
       "      <td>False</td>\n",
       "      <td>False</td>\n",
       "      <td>False</td>\n",
       "      <td>False</td>\n",
       "      <td>True</td>\n",
       "    </tr>\n",
       "  </tbody>\n",
       "</table>\n",
       "<p>1 rows × 24 columns</p>\n",
       "</div>"
      ],
      "text/plain": [
       "                           time    mid_o    mid_h    mid_l    mid_c  \\\n",
       "11724 2017-11-23 12:00:00+00:00  148.009  148.074  147.906  148.032   \n",
       "\n",
       "       body_lower  body_upper  body_bottom_perc  body_top_perc  body_perc  \\\n",
       "11724     148.009     148.032         61.309524           75.0  13.690476   \n",
       "\n",
       "       ...  body_size_change  body_size_prev  direction_prev  HANGING_MAN  \\\n",
       "11724  ...         -4.166667           0.024            -1.0        False   \n",
       "\n",
       "       SHOOTING_STAR  SPINNING_TOP  MARUBOZU  ENGULFING  TWEEZER_TOP  \\\n",
       "11724          False         False     False      False        False   \n",
       "\n",
       "       TWEEZER_BOTTOM  \n",
       "11724            True  \n",
       "\n",
       "[1 rows x 24 columns]"
      ]
     },
     "execution_count": 21,
     "metadata": {},
     "output_type": "execute_result"
    }
   ],
   "source": [
    "df_an[df_an['TWEEZER_BOTTOM'] == True]"
   ]
  },
  {
   "cell_type": "code",
   "execution_count": 22,
   "id": "7a928bd2-5165-44e8-a604-6ea239c6a3f5",
   "metadata": {},
   "outputs": [],
   "source": [
    "import plotly.graph_objects as go"
   ]
  },
  {
   "cell_type": "code",
   "execution_count": 23,
   "id": "93396ee7-5a6f-4ab8-9bb5-ec41d1ee62bd",
   "metadata": {},
   "outputs": [
    {
     "data": {
      "application/vnd.plotly.v1+json": {
       "config": {
        "plotlyServerURL": "https://plot.ly"
       },
       "data": [
        {
         "close": [
          148.188,
          148.517,
          148.477,
          148.274,
          148.369,
          148.296,
          148.308,
          148.085,
          148.132,
          148.212,
          148.225,
          148.176,
          148.012,
          148.175,
          148.242,
          148.389,
          148.327,
          148.316,
          148.162,
          148.008,
          148.026,
          148.044,
          148.034,
          148.012,
          148.032,
          148.162,
          148.036,
          147.909,
          147.936,
          147.948,
          147.972,
          147.998,
          147.93,
          148.007,
          148.038,
          148.038,
          148.104,
          148.051,
          148.092,
          148.157,
          148.119,
          148.186,
          148.162,
          148.214,
          148.428,
          148.503,
          148.399,
          148.42,
          148.414,
          148.526,
          148.7,
          148.871,
          148.769,
          148.72,
          148.69,
          148.746,
          148.759,
          148.748,
          148.739,
          148.782,
          148.71,
          148.418,
          148.306,
          148.336,
          148.304,
          148.348,
          148.374,
          148.428,
          148.454,
          148.518,
          148.502,
          148.478,
          148.462,
          148.356,
          148.443,
          148.103,
          147.978,
          148.019,
          147.978,
          147.862,
          147.969,
          147.979,
          147.944,
          148.05,
          147.93,
          148.234,
          148.22,
          148.15,
          148.22,
          148.204,
          148.266,
          148.293,
          148.136,
          147.998,
          148.018,
          148.068,
          147.728,
          147.768,
          147.763,
          147.289
         ],
         "decreasing": {
          "fillcolor": "#CC2E3C",
          "line": {
           "color": "#FF3A4C"
          }
         },
         "high": [
          148.601,
          148.636,
          148.569,
          148.521,
          148.418,
          148.456,
          148.365,
          148.344,
          148.172,
          148.239,
          148.293,
          148.274,
          148.188,
          148.175,
          148.269,
          148.482,
          148.452,
          148.336,
          148.32,
          148.196,
          148.162,
          148.107,
          148.09,
          148.072,
          148.074,
          148.24,
          148.19,
          148.096,
          147.97,
          147.968,
          148.062,
          148.023,
          148.086,
          148.07,
          148.074,
          148.058,
          148.163,
          148.124,
          148.114,
          148.174,
          148.269,
          148.22,
          148.22,
          148.338,
          148.466,
          148.527,
          148.545,
          148.55,
          148.535,
          148.562,
          148.826,
          148.9,
          148.986,
          148.804,
          148.798,
          148.76,
          148.828,
          148.84,
          148.746,
          148.872,
          148.78,
          148.72,
          148.428,
          148.434,
          148.425,
          148.403,
          148.403,
          148.444,
          148.512,
          148.636,
          148.622,
          148.535,
          148.497,
          148.591,
          148.569,
          148.478,
          148.23,
          148.05,
          148.042,
          147.976,
          148.022,
          148.011,
          148.029,
          148.11,
          148.143,
          148.246,
          148.262,
          148.22,
          148.276,
          148.308,
          148.523,
          148.377,
          148.372,
          148.184,
          148.138,
          148.152,
          148.096,
          147.828,
          147.848,
          147.854
         ],
         "increasing": {
          "fillcolor": "#24A06B",
          "line": {
           "color": "#2EC886"
          }
         },
         "line": {
          "width": 1
         },
         "low": [
          148.112,
          148.096,
          148.31,
          148.124,
          148.193,
          148.266,
          148.218,
          148.022,
          148.068,
          148.102,
          148.109,
          148.156,
          147.964,
          147.992,
          148.145,
          148.237,
          148.322,
          148.248,
          148.106,
          147.974,
          147.878,
          147.816,
          147.908,
          147.908,
          147.906,
          148.015,
          148.03,
          147.905,
          147.844,
          147.858,
          147.912,
          147.94,
          147.926,
          147.935,
          147.944,
          147.97,
          148.024,
          148.018,
          147.971,
          148.041,
          148.104,
          148.108,
          148.104,
          148.14,
          148.197,
          148.376,
          148.33,
          148.322,
          148.388,
          148.278,
          148.508,
          148.659,
          148.706,
          148.522,
          148.683,
          148.594,
          148.68,
          148.66,
          148.546,
          148.732,
          148.658,
          148.368,
          148.284,
          148.294,
          148.244,
          148.296,
          148.291,
          148.296,
          148.17,
          148.456,
          148.467,
          148.39,
          148.194,
          148.34,
          148.266,
          148.026,
          147.89,
          147.895,
          147.912,
          147.854,
          147.842,
          147.906,
          147.886,
          147.928,
          147.84,
          147.914,
          148.182,
          148.132,
          148.15,
          148.176,
          148.145,
          148.068,
          148.008,
          147.938,
          147.893,
          147.967,
          147.728,
          147.616,
          147.676,
          147.214
         ],
         "opacity": 1,
         "open": [
          148.54,
          148.186,
          148.514,
          148.48,
          148.276,
          148.366,
          148.294,
          148.302,
          148.082,
          148.13,
          148.208,
          148.222,
          148.178,
          148.01,
          148.173,
          148.239,
          148.391,
          148.325,
          148.318,
          148.164,
          148.006,
          148.029,
          148.046,
          148.036,
          148.009,
          148.034,
          148.159,
          148.038,
          147.911,
          147.938,
          147.945,
          147.974,
          148.002,
          147.935,
          148.012,
          148.04,
          148.041,
          148.108,
          148.048,
          148.094,
          148.159,
          148.116,
          148.184,
          148.16,
          148.216,
          148.426,
          148.505,
          148.401,
          148.422,
          148.418,
          148.524,
          148.698,
          148.868,
          148.772,
          148.716,
          148.692,
          148.748,
          148.762,
          148.588,
          148.736,
          148.78,
          148.707,
          148.42,
          148.308,
          148.338,
          148.302,
          148.346,
          148.372,
          148.426,
          148.456,
          148.52,
          148.5,
          148.48,
          148.46,
          148.358,
          148.44,
          148.105,
          147.975,
          148.021,
          147.976,
          147.859,
          147.971,
          148.029,
          147.941,
          148.047,
          147.932,
          148.232,
          148.218,
          148.152,
          148.222,
          148.206,
          148.268,
          148.295,
          148.138,
          148,
          148.016,
          148.07,
          147.726,
          147.77,
          147.766
         ],
         "type": "candlestick",
         "x": [
          "s17-11-22 12:00",
          "s17-11-22 13:00",
          "s17-11-22 14:00",
          "s17-11-22 15:00",
          "s17-11-22 16:00",
          "s17-11-22 17:00",
          "s17-11-22 18:00",
          "s17-11-22 19:00",
          "s17-11-22 20:00",
          "s17-11-22 21:00",
          "s17-11-22 22:00",
          "s17-11-22 23:00",
          "s17-11-23 00:00",
          "s17-11-23 01:00",
          "s17-11-23 02:00",
          "s17-11-23 03:00",
          "s17-11-23 04:00",
          "s17-11-23 05:00",
          "s17-11-23 06:00",
          "s17-11-23 07:00",
          "s17-11-23 08:00",
          "s17-11-23 09:00",
          "s17-11-23 10:00",
          "s17-11-23 11:00",
          "s17-11-23 12:00",
          "s17-11-23 13:00",
          "s17-11-23 14:00",
          "s17-11-23 15:00",
          "s17-11-23 16:00",
          "s17-11-23 17:00",
          "s17-11-23 18:00",
          "s17-11-23 19:00",
          "s17-11-23 20:00",
          "s17-11-23 21:00",
          "s17-11-23 22:00",
          "s17-11-23 23:00",
          "s17-11-24 00:00",
          "s17-11-24 01:00",
          "s17-11-24 02:00",
          "s17-11-24 03:00",
          "s17-11-24 04:00",
          "s17-11-24 05:00",
          "s17-11-24 06:00",
          "s17-11-24 07:00",
          "s17-11-24 08:00",
          "s17-11-24 09:00",
          "s17-11-24 10:00",
          "s17-11-24 11:00",
          "s17-11-24 12:00",
          "s17-11-24 13:00",
          "s17-11-24 14:00",
          "s17-11-24 15:00",
          "s17-11-24 16:00",
          "s17-11-24 17:00",
          "s17-11-24 18:00",
          "s17-11-24 19:00",
          "s17-11-24 20:00",
          "s17-11-24 21:00",
          "s17-11-26 22:00",
          "s17-11-26 23:00",
          "s17-11-27 00:00",
          "s17-11-27 01:00",
          "s17-11-27 02:00",
          "s17-11-27 03:00",
          "s17-11-27 04:00",
          "s17-11-27 05:00",
          "s17-11-27 06:00",
          "s17-11-27 07:00",
          "s17-11-27 08:00",
          "s17-11-27 09:00",
          "s17-11-27 10:00",
          "s17-11-27 11:00",
          "s17-11-27 12:00",
          "s17-11-27 13:00",
          "s17-11-27 14:00",
          "s17-11-27 15:00",
          "s17-11-27 16:00",
          "s17-11-27 17:00",
          "s17-11-27 18:00",
          "s17-11-27 19:00",
          "s17-11-27 20:00",
          "s17-11-27 21:00",
          "s17-11-27 22:00",
          "s17-11-27 23:00",
          "s17-11-28 00:00",
          "s17-11-28 01:00",
          "s17-11-28 02:00",
          "s17-11-28 03:00",
          "s17-11-28 04:00",
          "s17-11-28 05:00",
          "s17-11-28 06:00",
          "s17-11-28 07:00",
          "s17-11-28 08:00",
          "s17-11-28 09:00",
          "s17-11-28 10:00",
          "s17-11-28 11:00",
          "s17-11-28 12:00",
          "s17-11-28 13:00",
          "s17-11-28 14:00",
          "s17-11-28 15:00"
         ]
        },
        {
         "close": [],
         "decreasing": {
          "fillcolor": "#0066FF",
          "line": {
           "color": "#0066FF"
          }
         },
         "high": [],
         "increasing": {
          "fillcolor": "#0066FF",
          "line": {
           "color": "#0066FF"
          }
         },
         "line": {
          "width": 1
         },
         "low": [],
         "opacity": 1,
         "open": [],
         "type": "candlestick",
         "x": []
        }
       ],
       "layout": {
        "font": {
         "color": "#e1e1e1",
         "size": 8
        },
        "height": 400,
        "margin": {
         "b": 10,
         "l": 10,
         "r": 10,
         "t": 10
        },
        "paper_bgcolor": "#2c303c",
        "plot_bgcolor": "#2c303c",
        "template": {
         "data": {
          "bar": [
           {
            "error_x": {
             "color": "#2a3f5f"
            },
            "error_y": {
             "color": "#2a3f5f"
            },
            "marker": {
             "line": {
              "color": "#E5ECF6",
              "width": 0.5
             },
             "pattern": {
              "fillmode": "overlay",
              "size": 10,
              "solidity": 0.2
             }
            },
            "type": "bar"
           }
          ],
          "barpolar": [
           {
            "marker": {
             "line": {
              "color": "#E5ECF6",
              "width": 0.5
             },
             "pattern": {
              "fillmode": "overlay",
              "size": 10,
              "solidity": 0.2
             }
            },
            "type": "barpolar"
           }
          ],
          "carpet": [
           {
            "aaxis": {
             "endlinecolor": "#2a3f5f",
             "gridcolor": "white",
             "linecolor": "white",
             "minorgridcolor": "white",
             "startlinecolor": "#2a3f5f"
            },
            "baxis": {
             "endlinecolor": "#2a3f5f",
             "gridcolor": "white",
             "linecolor": "white",
             "minorgridcolor": "white",
             "startlinecolor": "#2a3f5f"
            },
            "type": "carpet"
           }
          ],
          "choropleth": [
           {
            "colorbar": {
             "outlinewidth": 0,
             "ticks": ""
            },
            "type": "choropleth"
           }
          ],
          "contour": [
           {
            "colorbar": {
             "outlinewidth": 0,
             "ticks": ""
            },
            "colorscale": [
             [
              0,
              "#0d0887"
             ],
             [
              0.1111111111111111,
              "#46039f"
             ],
             [
              0.2222222222222222,
              "#7201a8"
             ],
             [
              0.3333333333333333,
              "#9c179e"
             ],
             [
              0.4444444444444444,
              "#bd3786"
             ],
             [
              0.5555555555555556,
              "#d8576b"
             ],
             [
              0.6666666666666666,
              "#ed7953"
             ],
             [
              0.7777777777777778,
              "#fb9f3a"
             ],
             [
              0.8888888888888888,
              "#fdca26"
             ],
             [
              1,
              "#f0f921"
             ]
            ],
            "type": "contour"
           }
          ],
          "contourcarpet": [
           {
            "colorbar": {
             "outlinewidth": 0,
             "ticks": ""
            },
            "type": "contourcarpet"
           }
          ],
          "heatmap": [
           {
            "colorbar": {
             "outlinewidth": 0,
             "ticks": ""
            },
            "colorscale": [
             [
              0,
              "#0d0887"
             ],
             [
              0.1111111111111111,
              "#46039f"
             ],
             [
              0.2222222222222222,
              "#7201a8"
             ],
             [
              0.3333333333333333,
              "#9c179e"
             ],
             [
              0.4444444444444444,
              "#bd3786"
             ],
             [
              0.5555555555555556,
              "#d8576b"
             ],
             [
              0.6666666666666666,
              "#ed7953"
             ],
             [
              0.7777777777777778,
              "#fb9f3a"
             ],
             [
              0.8888888888888888,
              "#fdca26"
             ],
             [
              1,
              "#f0f921"
             ]
            ],
            "type": "heatmap"
           }
          ],
          "heatmapgl": [
           {
            "colorbar": {
             "outlinewidth": 0,
             "ticks": ""
            },
            "colorscale": [
             [
              0,
              "#0d0887"
             ],
             [
              0.1111111111111111,
              "#46039f"
             ],
             [
              0.2222222222222222,
              "#7201a8"
             ],
             [
              0.3333333333333333,
              "#9c179e"
             ],
             [
              0.4444444444444444,
              "#bd3786"
             ],
             [
              0.5555555555555556,
              "#d8576b"
             ],
             [
              0.6666666666666666,
              "#ed7953"
             ],
             [
              0.7777777777777778,
              "#fb9f3a"
             ],
             [
              0.8888888888888888,
              "#fdca26"
             ],
             [
              1,
              "#f0f921"
             ]
            ],
            "type": "heatmapgl"
           }
          ],
          "histogram": [
           {
            "marker": {
             "pattern": {
              "fillmode": "overlay",
              "size": 10,
              "solidity": 0.2
             }
            },
            "type": "histogram"
           }
          ],
          "histogram2d": [
           {
            "colorbar": {
             "outlinewidth": 0,
             "ticks": ""
            },
            "colorscale": [
             [
              0,
              "#0d0887"
             ],
             [
              0.1111111111111111,
              "#46039f"
             ],
             [
              0.2222222222222222,
              "#7201a8"
             ],
             [
              0.3333333333333333,
              "#9c179e"
             ],
             [
              0.4444444444444444,
              "#bd3786"
             ],
             [
              0.5555555555555556,
              "#d8576b"
             ],
             [
              0.6666666666666666,
              "#ed7953"
             ],
             [
              0.7777777777777778,
              "#fb9f3a"
             ],
             [
              0.8888888888888888,
              "#fdca26"
             ],
             [
              1,
              "#f0f921"
             ]
            ],
            "type": "histogram2d"
           }
          ],
          "histogram2dcontour": [
           {
            "colorbar": {
             "outlinewidth": 0,
             "ticks": ""
            },
            "colorscale": [
             [
              0,
              "#0d0887"
             ],
             [
              0.1111111111111111,
              "#46039f"
             ],
             [
              0.2222222222222222,
              "#7201a8"
             ],
             [
              0.3333333333333333,
              "#9c179e"
             ],
             [
              0.4444444444444444,
              "#bd3786"
             ],
             [
              0.5555555555555556,
              "#d8576b"
             ],
             [
              0.6666666666666666,
              "#ed7953"
             ],
             [
              0.7777777777777778,
              "#fb9f3a"
             ],
             [
              0.8888888888888888,
              "#fdca26"
             ],
             [
              1,
              "#f0f921"
             ]
            ],
            "type": "histogram2dcontour"
           }
          ],
          "mesh3d": [
           {
            "colorbar": {
             "outlinewidth": 0,
             "ticks": ""
            },
            "type": "mesh3d"
           }
          ],
          "parcoords": [
           {
            "line": {
             "colorbar": {
              "outlinewidth": 0,
              "ticks": ""
             }
            },
            "type": "parcoords"
           }
          ],
          "pie": [
           {
            "automargin": true,
            "type": "pie"
           }
          ],
          "scatter": [
           {
            "fillpattern": {
             "fillmode": "overlay",
             "size": 10,
             "solidity": 0.2
            },
            "type": "scatter"
           }
          ],
          "scatter3d": [
           {
            "line": {
             "colorbar": {
              "outlinewidth": 0,
              "ticks": ""
             }
            },
            "marker": {
             "colorbar": {
              "outlinewidth": 0,
              "ticks": ""
             }
            },
            "type": "scatter3d"
           }
          ],
          "scattercarpet": [
           {
            "marker": {
             "colorbar": {
              "outlinewidth": 0,
              "ticks": ""
             }
            },
            "type": "scattercarpet"
           }
          ],
          "scattergeo": [
           {
            "marker": {
             "colorbar": {
              "outlinewidth": 0,
              "ticks": ""
             }
            },
            "type": "scattergeo"
           }
          ],
          "scattergl": [
           {
            "marker": {
             "colorbar": {
              "outlinewidth": 0,
              "ticks": ""
             }
            },
            "type": "scattergl"
           }
          ],
          "scattermapbox": [
           {
            "marker": {
             "colorbar": {
              "outlinewidth": 0,
              "ticks": ""
             }
            },
            "type": "scattermapbox"
           }
          ],
          "scatterpolar": [
           {
            "marker": {
             "colorbar": {
              "outlinewidth": 0,
              "ticks": ""
             }
            },
            "type": "scatterpolar"
           }
          ],
          "scatterpolargl": [
           {
            "marker": {
             "colorbar": {
              "outlinewidth": 0,
              "ticks": ""
             }
            },
            "type": "scatterpolargl"
           }
          ],
          "scatterternary": [
           {
            "marker": {
             "colorbar": {
              "outlinewidth": 0,
              "ticks": ""
             }
            },
            "type": "scatterternary"
           }
          ],
          "surface": [
           {
            "colorbar": {
             "outlinewidth": 0,
             "ticks": ""
            },
            "colorscale": [
             [
              0,
              "#0d0887"
             ],
             [
              0.1111111111111111,
              "#46039f"
             ],
             [
              0.2222222222222222,
              "#7201a8"
             ],
             [
              0.3333333333333333,
              "#9c179e"
             ],
             [
              0.4444444444444444,
              "#bd3786"
             ],
             [
              0.5555555555555556,
              "#d8576b"
             ],
             [
              0.6666666666666666,
              "#ed7953"
             ],
             [
              0.7777777777777778,
              "#fb9f3a"
             ],
             [
              0.8888888888888888,
              "#fdca26"
             ],
             [
              1,
              "#f0f921"
             ]
            ],
            "type": "surface"
           }
          ],
          "table": [
           {
            "cells": {
             "fill": {
              "color": "#EBF0F8"
             },
             "line": {
              "color": "white"
             }
            },
            "header": {
             "fill": {
              "color": "#C8D4E3"
             },
             "line": {
              "color": "white"
             }
            },
            "type": "table"
           }
          ]
         },
         "layout": {
          "annotationdefaults": {
           "arrowcolor": "#2a3f5f",
           "arrowhead": 0,
           "arrowwidth": 1
          },
          "autotypenumbers": "strict",
          "coloraxis": {
           "colorbar": {
            "outlinewidth": 0,
            "ticks": ""
           }
          },
          "colorscale": {
           "diverging": [
            [
             0,
             "#8e0152"
            ],
            [
             0.1,
             "#c51b7d"
            ],
            [
             0.2,
             "#de77ae"
            ],
            [
             0.3,
             "#f1b6da"
            ],
            [
             0.4,
             "#fde0ef"
            ],
            [
             0.5,
             "#f7f7f7"
            ],
            [
             0.6,
             "#e6f5d0"
            ],
            [
             0.7,
             "#b8e186"
            ],
            [
             0.8,
             "#7fbc41"
            ],
            [
             0.9,
             "#4d9221"
            ],
            [
             1,
             "#276419"
            ]
           ],
           "sequential": [
            [
             0,
             "#0d0887"
            ],
            [
             0.1111111111111111,
             "#46039f"
            ],
            [
             0.2222222222222222,
             "#7201a8"
            ],
            [
             0.3333333333333333,
             "#9c179e"
            ],
            [
             0.4444444444444444,
             "#bd3786"
            ],
            [
             0.5555555555555556,
             "#d8576b"
            ],
            [
             0.6666666666666666,
             "#ed7953"
            ],
            [
             0.7777777777777778,
             "#fb9f3a"
            ],
            [
             0.8888888888888888,
             "#fdca26"
            ],
            [
             1,
             "#f0f921"
            ]
           ],
           "sequentialminus": [
            [
             0,
             "#0d0887"
            ],
            [
             0.1111111111111111,
             "#46039f"
            ],
            [
             0.2222222222222222,
             "#7201a8"
            ],
            [
             0.3333333333333333,
             "#9c179e"
            ],
            [
             0.4444444444444444,
             "#bd3786"
            ],
            [
             0.5555555555555556,
             "#d8576b"
            ],
            [
             0.6666666666666666,
             "#ed7953"
            ],
            [
             0.7777777777777778,
             "#fb9f3a"
            ],
            [
             0.8888888888888888,
             "#fdca26"
            ],
            [
             1,
             "#f0f921"
            ]
           ]
          },
          "colorway": [
           "#636efa",
           "#EF553B",
           "#00cc96",
           "#ab63fa",
           "#FFA15A",
           "#19d3f3",
           "#FF6692",
           "#B6E880",
           "#FF97FF",
           "#FECB52"
          ],
          "font": {
           "color": "#2a3f5f"
          },
          "geo": {
           "bgcolor": "white",
           "lakecolor": "white",
           "landcolor": "#E5ECF6",
           "showlakes": true,
           "showland": true,
           "subunitcolor": "white"
          },
          "hoverlabel": {
           "align": "left"
          },
          "hovermode": "closest",
          "mapbox": {
           "style": "light"
          },
          "paper_bgcolor": "white",
          "plot_bgcolor": "#E5ECF6",
          "polar": {
           "angularaxis": {
            "gridcolor": "white",
            "linecolor": "white",
            "ticks": ""
           },
           "bgcolor": "#E5ECF6",
           "radialaxis": {
            "gridcolor": "white",
            "linecolor": "white",
            "ticks": ""
           }
          },
          "scene": {
           "xaxis": {
            "backgroundcolor": "#E5ECF6",
            "gridcolor": "white",
            "gridwidth": 2,
            "linecolor": "white",
            "showbackground": true,
            "ticks": "",
            "zerolinecolor": "white"
           },
           "yaxis": {
            "backgroundcolor": "#E5ECF6",
            "gridcolor": "white",
            "gridwidth": 2,
            "linecolor": "white",
            "showbackground": true,
            "ticks": "",
            "zerolinecolor": "white"
           },
           "zaxis": {
            "backgroundcolor": "#E5ECF6",
            "gridcolor": "white",
            "gridwidth": 2,
            "linecolor": "white",
            "showbackground": true,
            "ticks": "",
            "zerolinecolor": "white"
           }
          },
          "shapedefaults": {
           "line": {
            "color": "#2a3f5f"
           }
          },
          "ternary": {
           "aaxis": {
            "gridcolor": "white",
            "linecolor": "white",
            "ticks": ""
           },
           "baxis": {
            "gridcolor": "white",
            "linecolor": "white",
            "ticks": ""
           },
           "bgcolor": "#E5ECF6",
           "caxis": {
            "gridcolor": "white",
            "linecolor": "white",
            "ticks": ""
           }
          },
          "title": {
           "x": 0.05
          },
          "xaxis": {
           "automargin": true,
           "gridcolor": "white",
           "linecolor": "white",
           "ticks": "",
           "title": {
            "standoff": 15
           },
           "zerolinecolor": "white",
           "zerolinewidth": 2
          },
          "yaxis": {
           "automargin": true,
           "gridcolor": "white",
           "linecolor": "white",
           "ticks": "",
           "title": {
            "standoff": 15
           },
           "zerolinecolor": "white",
           "zerolinewidth": 2
          }
         }
        },
        "width": 900,
        "xaxis": {
         "anchor": "y",
         "autorange": true,
         "domain": [
          0,
          0.94
         ],
         "gridcolor": "#1f292f",
         "nticks": 5,
         "range": [
          -0.5,
          99.5
         ],
         "rangeslider": {
          "visible": false,
          "yaxis": {}
         },
         "type": "category"
        },
        "yaxis": {
         "anchor": "x",
         "autorange": true,
         "domain": [
          0,
          1
         ],
         "gridcolor": "#1f292f",
         "range": [
          147.11555555555555,
          149.08444444444444
         ]
        },
        "yaxis2": {
         "anchor": "x",
         "gridcolor": "#1f292f",
         "overlaying": "y",
         "side": "right"
        }
       }
      },
      "image/png": "[encoded data removed]",
      "text/html": [
       "<div>                            <div id=\"600c6e4d-bd6c-4365-a929-722211e3c12b\" class=\"plotly-graph-div\" style=\"height:400px; width:900px;\"></div>            <script type=\"text/javascript\">                require([\"plotly\"], function(Plotly) {                    window.PLOTLYENV=window.PLOTLYENV || {};                                    if (document.getElementById(\"600c6e4d-bd6c-4365-a929-722211e3c12b\")) {                    Plotly.newPlot(                        \"600c6e4d-bd6c-4365-a929-722211e3c12b\",                        [{\"close\":[148.188,148.517,148.477,148.274,148.369,148.296,148.308,148.085,148.132,148.212,148.225,148.176,148.012,148.175,148.242,148.389,148.327,148.316,148.162,148.008,148.026,148.044,148.034,148.012,148.032,148.162,148.036,147.909,147.936,147.948,147.972,147.998,147.93,148.007,148.038,148.038,148.104,148.051,148.092,148.157,148.119,148.186,148.162,148.214,148.428,148.503,148.399,148.42,148.414,148.526,148.7,148.871,148.769,148.72,148.69,148.746,148.759,148.748,148.739,148.782,148.71,148.418,148.306,148.336,148.304,148.348,148.374,148.428,148.454,148.518,148.502,148.478,148.462,148.356,148.443,148.103,147.978,148.019,147.978,147.862,147.969,147.979,147.944,148.05,147.93,148.234,148.22,148.15,148.22,148.204,148.266,148.293,148.136,147.998,148.018,148.068,147.728,147.768,147.763,147.289],\"decreasing\":{\"fillcolor\":\"#CC2E3C\",\"line\":{\"color\":\"#FF3A4C\"}},\"high\":[148.601,148.636,148.569,148.521,148.418,148.456,148.365,148.344,148.172,148.239,148.293,148.274,148.188,148.175,148.269,148.482,148.452,148.336,148.32,148.196,148.162,148.107,148.09,148.072,148.074,148.24,148.19,148.096,147.97,147.968,148.062,148.023,148.086,148.07,148.074,148.058,148.163,148.124,148.114,148.174,148.269,148.22,148.22,148.338,148.466,148.527,148.545,148.55,148.535,148.562,148.826,148.9,148.986,148.804,148.798,148.76,148.828,148.84,148.746,148.872,148.78,148.72,148.428,148.434,148.425,148.403,148.403,148.444,148.512,148.636,148.622,148.535,148.497,148.591,148.569,148.478,148.23,148.05,148.042,147.976,148.022,148.011,148.029,148.11,148.143,148.246,148.262,148.22,148.276,148.308,148.523,148.377,148.372,148.184,148.138,148.152,148.096,147.828,147.848,147.854],\"increasing\":{\"fillcolor\":\"#24A06B\",\"line\":{\"color\":\"#2EC886\"}},\"line\":{\"width\":1},\"low\":[148.112,148.096,148.31,148.124,148.193,148.266,148.218,148.022,148.068,148.102,148.109,148.156,147.964,147.992,148.145,148.237,148.322,148.248,148.106,147.974,147.878,147.816,147.908,147.908,147.906,148.015,148.03,147.905,147.844,147.858,147.912,147.94,147.926,147.935,147.944,147.97,148.024,148.018,147.971,148.041,148.104,148.108,148.104,148.14,148.197,148.376,148.33,148.322,148.388,148.278,148.508,148.659,148.706,148.522,148.683,148.594,148.68,148.66,148.546,148.732,148.658,148.368,148.284,148.294,148.244,148.296,148.291,148.296,148.17,148.456,148.467,148.39,148.194,148.34,148.266,148.026,147.89,147.895,147.912,147.854,147.842,147.906,147.886,147.928,147.84,147.914,148.182,148.132,148.15,148.176,148.145,148.068,148.008,147.938,147.893,147.967,147.728,147.616,147.676,147.214],\"opacity\":1,\"open\":[148.54,148.186,148.514,148.48,148.276,148.366,148.294,148.302,148.082,148.13,148.208,148.222,148.178,148.01,148.173,148.239,148.391,148.325,148.318,148.164,148.006,148.029,148.046,148.036,148.009,148.034,148.159,148.038,147.911,147.938,147.945,147.974,148.002,147.935,148.012,148.04,148.041,148.108,148.048,148.094,148.159,148.116,148.184,148.16,148.216,148.426,148.505,148.401,148.422,148.418,148.524,148.698,148.868,148.772,148.716,148.692,148.748,148.762,148.588,148.736,148.78,148.707,148.42,148.308,148.338,148.302,148.346,148.372,148.426,148.456,148.52,148.5,148.48,148.46,148.358,148.44,148.105,147.975,148.021,147.976,147.859,147.971,148.029,147.941,148.047,147.932,148.232,148.218,148.152,148.222,148.206,148.268,148.295,148.138,148.0,148.016,148.07,147.726,147.77,147.766],\"x\":[\"s17-11-22 12:00\",\"s17-11-22 13:00\",\"s17-11-22 14:00\",\"s17-11-22 15:00\",\"s17-11-22 16:00\",\"s17-11-22 17:00\",\"s17-11-22 18:00\",\"s17-11-22 19:00\",\"s17-11-22 20:00\",\"s17-11-22 21:00\",\"s17-11-22 22:00\",\"s17-11-22 23:00\",\"s17-11-23 00:00\",\"s17-11-23 01:00\",\"s17-11-23 02:00\",\"s17-11-23 03:00\",\"s17-11-23 04:00\",\"s17-11-23 05:00\",\"s17-11-23 06:00\",\"s17-11-23 07:00\",\"s17-11-23 08:00\",\"s17-11-23 09:00\",\"s17-11-23 10:00\",\"s17-11-23 11:00\",\"s17-11-23 12:00\",\"s17-11-23 13:00\",\"s17-11-23 14:00\",\"s17-11-23 15:00\",\"s17-11-23 16:00\",\"s17-11-23 17:00\",\"s17-11-23 18:00\",\"s17-11-23 19:00\",\"s17-11-23 20:00\",\"s17-11-23 21:00\",\"s17-11-23 22:00\",\"s17-11-23 23:00\",\"s17-11-24 00:00\",\"s17-11-24 01:00\",\"s17-11-24 02:00\",\"s17-11-24 03:00\",\"s17-11-24 04:00\",\"s17-11-24 05:00\",\"s17-11-24 06:00\",\"s17-11-24 07:00\",\"s17-11-24 08:00\",\"s17-11-24 09:00\",\"s17-11-24 10:00\",\"s17-11-24 11:00\",\"s17-11-24 12:00\",\"s17-11-24 13:00\",\"s17-11-24 14:00\",\"s17-11-24 15:00\",\"s17-11-24 16:00\",\"s17-11-24 17:00\",\"s17-11-24 18:00\",\"s17-11-24 19:00\",\"s17-11-24 20:00\",\"s17-11-24 21:00\",\"s17-11-26 22:00\",\"s17-11-26 23:00\",\"s17-11-27 00:00\",\"s17-11-27 01:00\",\"s17-11-27 02:00\",\"s17-11-27 03:00\",\"s17-11-27 04:00\",\"s17-11-27 05:00\",\"s17-11-27 06:00\",\"s17-11-27 07:00\",\"s17-11-27 08:00\",\"s17-11-27 09:00\",\"s17-11-27 10:00\",\"s17-11-27 11:00\",\"s17-11-27 12:00\",\"s17-11-27 13:00\",\"s17-11-27 14:00\",\"s17-11-27 15:00\",\"s17-11-27 16:00\",\"s17-11-27 17:00\",\"s17-11-27 18:00\",\"s17-11-27 19:00\",\"s17-11-27 20:00\",\"s17-11-27 21:00\",\"s17-11-27 22:00\",\"s17-11-27 23:00\",\"s17-11-28 00:00\",\"s17-11-28 01:00\",\"s17-11-28 02:00\",\"s17-11-28 03:00\",\"s17-11-28 04:00\",\"s17-11-28 05:00\",\"s17-11-28 06:00\",\"s17-11-28 07:00\",\"s17-11-28 08:00\",\"s17-11-28 09:00\",\"s17-11-28 10:00\",\"s17-11-28 11:00\",\"s17-11-28 12:00\",\"s17-11-28 13:00\",\"s17-11-28 14:00\",\"s17-11-28 15:00\"],\"type\":\"candlestick\"},{\"close\":[],\"decreasing\":{\"fillcolor\":\"#0066FF\",\"line\":{\"color\":\"#0066FF\"}},\"high\":[],\"increasing\":{\"fillcolor\":\"#0066FF\",\"line\":{\"color\":\"#0066FF\"}},\"line\":{\"width\":1},\"low\":[],\"opacity\":1,\"open\":[],\"x\":[],\"type\":\"candlestick\"}],                        {\"template\":{\"data\":{\"histogram2dcontour\":[{\"type\":\"histogram2dcontour\",\"colorbar\":{\"outlinewidth\":0,\"ticks\":\"\"},\"colorscale\":[[0.0,\"#0d0887\"],[0.1111111111111111,\"#46039f\"],[0.2222222222222222,\"#7201a8\"],[0.3333333333333333,\"#9c179e\"],[0.4444444444444444,\"#bd3786\"],[0.5555555555555556,\"#d8576b\"],[0.6666666666666666,\"#ed7953\"],[0.7777777777777778,\"#fb9f3a\"],[0.8888888888888888,\"#fdca26\"],[1.0,\"#f0f921\"]]}],\"choropleth\":[{\"type\":\"choropleth\",\"colorbar\":{\"outlinewidth\":0,\"ticks\":\"\"}}],\"histogram2d\":[{\"type\":\"histogram2d\",\"colorbar\":{\"outlinewidth\":0,\"ticks\":\"\"},\"colorscale\":[[0.0,\"#0d0887\"],[0.1111111111111111,\"#46039f\"],[0.2222222222222222,\"#7201a8\"],[0.3333333333333333,\"#9c179e\"],[0.4444444444444444,\"#bd3786\"],[0.5555555555555556,\"#d8576b\"],[0.6666666666666666,\"#ed7953\"],[0.7777777777777778,\"#fb9f3a\"],[0.8888888888888888,\"#fdca26\"],[1.0,\"#f0f921\"]]}],\"heatmap\":[{\"type\":\"heatmap\",\"colorbar\":{\"outlinewidth\":0,\"ticks\":\"\"},\"colorscale\":[[0.0,\"#0d0887\"],[0.1111111111111111,\"#46039f\"],[0.2222222222222222,\"#7201a8\"],[0.3333333333333333,\"#9c179e\"],[0.4444444444444444,\"#bd3786\"],[0.5555555555555556,\"#d8576b\"],[0.6666666666666666,\"#ed7953\"],[0.7777777777777778,\"#fb9f3a\"],[0.8888888888888888,\"#fdca26\"],[1.0,\"#f0f921\"]]}],\"heatmapgl\":[{\"type\":\"heatmapgl\",\"colorbar\":{\"outlinewidth\":0,\"ticks\":\"\"},\"colorscale\":[[0.0,\"#0d0887\"],[0.1111111111111111,\"#46039f\"],[0.2222222222222222,\"#7201a8\"],[0.3333333333333333,\"#9c179e\"],[0.4444444444444444,\"#bd3786\"],[0.5555555555555556,\"#d8576b\"],[0.6666666666666666,\"#ed7953\"],[0.7777777777777778,\"#fb9f3a\"],[0.8888888888888888,\"#fdca26\"],[1.0,\"#f0f921\"]]}],\"contourcarpet\":[{\"type\":\"contourcarpet\",\"colorbar\":{\"outlinewidth\":0,\"ticks\":\"\"}}],\"contour\":[{\"type\":\"contour\",\"colorbar\":{\"outlinewidth\":0,\"ticks\":\"\"},\"colorscale\":[[0.0,\"#0d0887\"],[0.1111111111111111,\"#46039f\"],[0.2222222222222222,\"#7201a8\"],[0.3333333333333333,\"#9c179e\"],[0.4444444444444444,\"#bd3786\"],[0.5555555555555556,\"#d8576b\"],[0.6666666666666666,\"#ed7953\"],[0.7777777777777778,\"#fb9f3a\"],[0.8888888888888888,\"#fdca26\"],[1.0,\"#f0f921\"]]}],\"surface\":[{\"type\":\"surface\",\"colorbar\":{\"outlinewidth\":0,\"ticks\":\"\"},\"colorscale\":[[0.0,\"#0d0887\"],[0.1111111111111111,\"#46039f\"],[0.2222222222222222,\"#7201a8\"],[0.3333333333333333,\"#9c179e\"],[0.4444444444444444,\"#bd3786\"],[0.5555555555555556,\"#d8576b\"],[0.6666666666666666,\"#ed7953\"],[0.7777777777777778,\"#fb9f3a\"],[0.8888888888888888,\"#fdca26\"],[1.0,\"#f0f921\"]]}],\"mesh3d\":[{\"type\":\"mesh3d\",\"colorbar\":{\"outlinewidth\":0,\"ticks\":\"\"}}],\"scatter\":[{\"fillpattern\":{\"fillmode\":\"overlay\",\"size\":10,\"solidity\":0.2},\"type\":\"scatter\"}],\"parcoords\":[{\"type\":\"parcoords\",\"line\":{\"colorbar\":{\"outlinewidth\":0,\"ticks\":\"\"}}}],\"scatterpolargl\":[{\"type\":\"scatterpolargl\",\"marker\":{\"colorbar\":{\"outlinewidth\":0,\"ticks\":\"\"}}}],\"bar\":[{\"error_x\":{\"color\":\"#2a3f5f\"},\"error_y\":{\"color\":\"#2a3f5f\"},\"marker\":{\"line\":{\"color\":\"#E5ECF6\",\"width\":0.5},\"pattern\":{\"fillmode\":\"overlay\",\"size\":10,\"solidity\":0.2}},\"type\":\"bar\"}],\"scattergeo\":[{\"type\":\"scattergeo\",\"marker\":{\"colorbar\":{\"outlinewidth\":0,\"ticks\":\"\"}}}],\"scatterpolar\":[{\"type\":\"scatterpolar\",\"marker\":{\"colorbar\":{\"outlinewidth\":0,\"ticks\":\"\"}}}],\"histogram\":[{\"marker\":{\"pattern\":{\"fillmode\":\"overlay\",\"size\":10,\"solidity\":0.2}},\"type\":\"histogram\"}],\"scattergl\":[{\"type\":\"scattergl\",\"marker\":{\"colorbar\":{\"outlinewidth\":0,\"ticks\":\"\"}}}],\"scatter3d\":[{\"type\":\"scatter3d\",\"line\":{\"colorbar\":{\"outlinewidth\":0,\"ticks\":\"\"}},\"marker\":{\"colorbar\":{\"outlinewidth\":0,\"ticks\":\"\"}}}],\"scattermapbox\":[{\"type\":\"scattermapbox\",\"marker\":{\"colorbar\":{\"outlinewidth\":0,\"ticks\":\"\"}}}],\"scatterternary\":[{\"type\":\"scatterternary\",\"marker\":{\"colorbar\":{\"outlinewidth\":0,\"ticks\":\"\"}}}],\"scattercarpet\":[{\"type\":\"scattercarpet\",\"marker\":{\"colorbar\":{\"outlinewidth\":0,\"ticks\":\"\"}}}],\"carpet\":[{\"aaxis\":{\"endlinecolor\":\"#2a3f5f\",\"gridcolor\":\"white\",\"linecolor\":\"white\",\"minorgridcolor\":\"white\",\"startlinecolor\":\"#2a3f5f\"},\"baxis\":{\"endlinecolor\":\"#2a3f5f\",\"gridcolor\":\"white\",\"linecolor\":\"white\",\"minorgridcolor\":\"white\",\"startlinecolor\":\"#2a3f5f\"},\"type\":\"carpet\"}],\"table\":[{\"cells\":{\"fill\":{\"color\":\"#EBF0F8\"},\"line\":{\"color\":\"white\"}},\"header\":{\"fill\":{\"color\":\"#C8D4E3\"},\"line\":{\"color\":\"white\"}},\"type\":\"table\"}],\"barpolar\":[{\"marker\":{\"line\":{\"color\":\"#E5ECF6\",\"width\":0.5},\"pattern\":{\"fillmode\":\"overlay\",\"size\":10,\"solidity\":0.2}},\"type\":\"barpolar\"}],\"pie\":[{\"automargin\":true,\"type\":\"pie\"}]},\"layout\":{\"autotypenumbers\":\"strict\",\"colorway\":[\"#636efa\",\"#EF553B\",\"#00cc96\",\"#ab63fa\",\"#FFA15A\",\"#19d3f3\",\"#FF6692\",\"#B6E880\",\"#FF97FF\",\"#FECB52\"],\"font\":{\"color\":\"#2a3f5f\"},\"hovermode\":\"closest\",\"hoverlabel\":{\"align\":\"left\"},\"paper_bgcolor\":\"white\",\"plot_bgcolor\":\"#E5ECF6\",\"polar\":{\"bgcolor\":\"#E5ECF6\",\"angularaxis\":{\"gridcolor\":\"white\",\"linecolor\":\"white\",\"ticks\":\"\"},\"radialaxis\":{\"gridcolor\":\"white\",\"linecolor\":\"white\",\"ticks\":\"\"}},\"ternary\":{\"bgcolor\":\"#E5ECF6\",\"aaxis\":{\"gridcolor\":\"white\",\"linecolor\":\"white\",\"ticks\":\"\"},\"baxis\":{\"gridcolor\":\"white\",\"linecolor\":\"white\",\"ticks\":\"\"},\"caxis\":{\"gridcolor\":\"white\",\"linecolor\":\"white\",\"ticks\":\"\"}},\"coloraxis\":{\"colorbar\":{\"outlinewidth\":0,\"ticks\":\"\"}},\"colorscale\":{\"sequential\":[[0.0,\"#0d0887\"],[0.1111111111111111,\"#46039f\"],[0.2222222222222222,\"#7201a8\"],[0.3333333333333333,\"#9c179e\"],[0.4444444444444444,\"#bd3786\"],[0.5555555555555556,\"#d8576b\"],[0.6666666666666666,\"#ed7953\"],[0.7777777777777778,\"#fb9f3a\"],[0.8888888888888888,\"#fdca26\"],[1.0,\"#f0f921\"]],\"sequentialminus\":[[0.0,\"#0d0887\"],[0.1111111111111111,\"#46039f\"],[0.2222222222222222,\"#7201a8\"],[0.3333333333333333,\"#9c179e\"],[0.4444444444444444,\"#bd3786\"],[0.5555555555555556,\"#d8576b\"],[0.6666666666666666,\"#ed7953\"],[0.7777777777777778,\"#fb9f3a\"],[0.8888888888888888,\"#fdca26\"],[1.0,\"#f0f921\"]],\"diverging\":[[0,\"#8e0152\"],[0.1,\"#c51b7d\"],[0.2,\"#de77ae\"],[0.3,\"#f1b6da\"],[0.4,\"#fde0ef\"],[0.5,\"#f7f7f7\"],[0.6,\"#e6f5d0\"],[0.7,\"#b8e186\"],[0.8,\"#7fbc41\"],[0.9,\"#4d9221\"],[1,\"#276419\"]]},\"xaxis\":{\"gridcolor\":\"white\",\"linecolor\":\"white\",\"ticks\":\"\",\"title\":{\"standoff\":15},\"zerolinecolor\":\"white\",\"automargin\":true,\"zerolinewidth\":2},\"yaxis\":{\"gridcolor\":\"white\",\"linecolor\":\"white\",\"ticks\":\"\",\"title\":{\"standoff\":15},\"zerolinecolor\":\"white\",\"automargin\":true,\"zerolinewidth\":2},\"scene\":{\"xaxis\":{\"backgroundcolor\":\"#E5ECF6\",\"gridcolor\":\"white\",\"linecolor\":\"white\",\"showbackground\":true,\"ticks\":\"\",\"zerolinecolor\":\"white\",\"gridwidth\":2},\"yaxis\":{\"backgroundcolor\":\"#E5ECF6\",\"gridcolor\":\"white\",\"linecolor\":\"white\",\"showbackground\":true,\"ticks\":\"\",\"zerolinecolor\":\"white\",\"gridwidth\":2},\"zaxis\":{\"backgroundcolor\":\"#E5ECF6\",\"gridcolor\":\"white\",\"linecolor\":\"white\",\"showbackground\":true,\"ticks\":\"\",\"zerolinecolor\":\"white\",\"gridwidth\":2}},\"shapedefaults\":{\"line\":{\"color\":\"#2a3f5f\"}},\"annotationdefaults\":{\"arrowcolor\":\"#2a3f5f\",\"arrowhead\":0,\"arrowwidth\":1},\"geo\":{\"bgcolor\":\"white\",\"landcolor\":\"#E5ECF6\",\"subunitcolor\":\"white\",\"showland\":true,\"showlakes\":true,\"lakecolor\":\"white\"},\"title\":{\"x\":0.05},\"mapbox\":{\"style\":\"light\"}}},\"xaxis\":{\"anchor\":\"y\",\"domain\":[0.0,0.94],\"rangeslider\":{\"visible\":false},\"gridcolor\":\"#1f292f\",\"nticks\":5},\"yaxis\":{\"anchor\":\"x\",\"domain\":[0.0,1.0],\"gridcolor\":\"#1f292f\"},\"yaxis2\":{\"anchor\":\"x\",\"overlaying\":\"y\",\"side\":\"right\",\"gridcolor\":\"#1f292f\"},\"margin\":{\"l\":10,\"r\":10,\"b\":10,\"t\":10},\"font\":{\"size\":8,\"color\":\"#e1e1e1\"},\"width\":900,\"height\":400,\"paper_bgcolor\":\"#2c303c\",\"plot_bgcolor\":\"#2c303c\"},                        {\"responsive\": true}                    ).then(function(){\n",
       "                            \n",
       "var gd = document.getElementById('600c6e4d-bd6c-4365-a929-722211e3c12b');\n",
       "var x = new MutationObserver(function (mutations, observer) {{\n",
       "        var display = window.getComputedStyle(gd).display;\n",
       "        if (!display || display === 'none') {{\n",
       "            console.log([gd, 'removed!']);\n",
       "            Plotly.purge(gd);\n",
       "            observer.disconnect();\n",
       "        }}\n",
       "}});\n",
       "\n",
       "// Listen for the removal of the full notebook cells\n",
       "var notebookContainer = gd.closest('#notebook-container');\n",
       "if (notebookContainer) {{\n",
       "    x.observe(notebookContainer, {childList: true});\n",
       "}}\n",
       "\n",
       "// Listen for the clearing of the current output cell\n",
       "var outputEl = gd.closest('.output');\n",
       "if (outputEl) {{\n",
       "    x.observe(outputEl, {childList: true});\n",
       "}}\n",
       "\n",
       "                        })                };                });            </script>        </div>"
      ]
     },
     "metadata": {},
     "output_type": "display_data"
    }
   ],
   "source": [
    "MARKER = '#0066FF'\n",
    "dfp = df_an.iloc[11700:11800]\n",
    "cp = CandlePlot(dfp, candles=True)\n",
    "df_temp = cp.df_plot[cp.df_plot.TWEEZER_TOP==True]\n",
    "cp.fig.add_trace(go.Candlestick(\n",
    "                x=df_temp.sTime,\n",
    "                open=df_temp.mid_o,\n",
    "                high=df_temp.mid_h,\n",
    "                low=df_temp.mid_l,\n",
    "                close=df_temp.mid_c,\n",
    "                line=dict(width=1), opacity=1,\n",
    "                increasing_fillcolor=MARKER,\n",
    "                decreasing_fillcolor=MARKER,\n",
    "                increasing_line_color=MARKER,  \n",
    "                decreasing_line_color=MARKER\n",
    "            ))\n",
    "\n",
    "cp.show_plot()"
   ]
  },
  {
   "cell_type": "code",
   "execution_count": null,
   "id": "3ca0396b-eac4-4433-bcea-bcb89e4721d9",
   "metadata": {},
   "outputs": [],
   "source": []
  }
 ],
 "metadata": {
  "kernelspec": {
   "display_name": "Python 3 (ipykernel)",
   "language": "python",
   "name": "python3"
  },
  "language_info": {
   "codemirror_mode": {
    "name": "ipython",
    "version": 3
   },
   "file_extension": ".py",
   "mimetype": "text/x-python",
   "name": "python",
   "nbconvert_exporter": "python",
   "pygments_lexer": "ipython3",
   "version": "3.11.6"
  }
 },
 "nbformat": 4,
 "nbformat_minor": 5
}
