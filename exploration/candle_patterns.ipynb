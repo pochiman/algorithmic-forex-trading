{
 "cells": [
  {
   "cell_type": "code",
   "execution_count": 1,
   "id": "304f7982-d652-4246-b611-448305bf225f",
   "metadata": {},
   "outputs": [],
   "source": [
    "import sys\n",
    "sys.path.append(\"../\")\n",
    "from plotting import CandlePlot\n",
    "import pandas as pd"
   ]
  },
  {
   "cell_type": "code",
   "execution_count": 2,
   "id": "377eb8da-3752-466d-864a-991d62262d13",
   "metadata": {},
   "outputs": [],
   "source": [
    "df = pd.read_pickle(\"../data/GBP_JPY_H1.pkl\")"
   ]
  },
  {
   "cell_type": "code",
   "execution_count": 3,
   "id": "221dc3f6-5e84-49a9-8dd2-8cc6e1e6ca33",
   "metadata": {},
   "outputs": [],
   "source": [
    "df_an = df[['time', 'mid_o', 'mid_h', 'mid_l', 'mid_c']].copy()"
   ]
  },
  {
   "cell_type": "code",
   "execution_count": 4,
   "id": "a28aee6c-f69f-450e-95fb-88e409447155",
   "metadata": {},
   "outputs": [
    {
     "data": {
      "text/html": [
       "<div>\n",
       "<style scoped>\n",
       "    .dataframe tbody tr th:only-of-type {\n",
       "        vertical-align: middle;\n",
       "    }\n",
       "\n",
       "    .dataframe tbody tr th {\n",
       "        vertical-align: top;\n",
       "    }\n",
       "\n",
       "    .dataframe thead th {\n",
       "        text-align: right;\n",
       "    }\n",
       "</style>\n",
       "<table border=\"1\" class=\"dataframe\">\n",
       "  <thead>\n",
       "    <tr style=\"text-align: right;\">\n",
       "      <th></th>\n",
       "      <th>time</th>\n",
       "      <th>mid_o</th>\n",
       "      <th>mid_h</th>\n",
       "      <th>mid_l</th>\n",
       "      <th>mid_c</th>\n",
       "    </tr>\n",
       "  </thead>\n",
       "  <tbody>\n",
       "    <tr>\n",
       "      <th>37219</th>\n",
       "      <td>2021-12-30 19:00:00+00:00</td>\n",
       "      <td>155.312</td>\n",
       "      <td>155.444</td>\n",
       "      <td>155.274</td>\n",
       "      <td>155.444</td>\n",
       "    </tr>\n",
       "    <tr>\n",
       "      <th>37220</th>\n",
       "      <td>2021-12-30 20:00:00+00:00</td>\n",
       "      <td>155.442</td>\n",
       "      <td>155.470</td>\n",
       "      <td>155.289</td>\n",
       "      <td>155.312</td>\n",
       "    </tr>\n",
       "    <tr>\n",
       "      <th>37221</th>\n",
       "      <td>2021-12-30 21:00:00+00:00</td>\n",
       "      <td>155.317</td>\n",
       "      <td>155.382</td>\n",
       "      <td>155.286</td>\n",
       "      <td>155.382</td>\n",
       "    </tr>\n",
       "    <tr>\n",
       "      <th>37222</th>\n",
       "      <td>2021-12-30 22:00:00+00:00</td>\n",
       "      <td>155.353</td>\n",
       "      <td>155.381</td>\n",
       "      <td>155.282</td>\n",
       "      <td>155.329</td>\n",
       "    </tr>\n",
       "    <tr>\n",
       "      <th>37223</th>\n",
       "      <td>2021-12-30 23:00:00+00:00</td>\n",
       "      <td>155.336</td>\n",
       "      <td>155.360</td>\n",
       "      <td>155.284</td>\n",
       "      <td>155.310</td>\n",
       "    </tr>\n",
       "  </tbody>\n",
       "</table>\n",
       "</div>"
      ],
      "text/plain": [
       "                           time    mid_o    mid_h    mid_l    mid_c\n",
       "37219 2021-12-30 19:00:00+00:00  155.312  155.444  155.274  155.444\n",
       "37220 2021-12-30 20:00:00+00:00  155.442  155.470  155.289  155.312\n",
       "37221 2021-12-30 21:00:00+00:00  155.317  155.382  155.286  155.382\n",
       "37222 2021-12-30 22:00:00+00:00  155.353  155.381  155.282  155.329\n",
       "37223 2021-12-30 23:00:00+00:00  155.336  155.360  155.284  155.310"
      ]
     },
     "execution_count": 4,
     "metadata": {},
     "output_type": "execute_result"
    }
   ],
   "source": [
    "df_an.tail()"
   ]
  },
  {
   "cell_type": "code",
   "execution_count": 5,
   "id": "32614250-d728-450d-96f5-37e32c3e1444",
   "metadata": {},
   "outputs": [],
   "source": [
    "direction = df_an.mid_c - df_an.mid_o\n",
    "body_size = abs(direction)\n",
    "direction = [1 if x >= 0 else -1 for x in direction]\n",
    "full_range = df_an.mid_h - df_an.mid_l\n",
    "body_perc = (body_size / full_range) * 100\n",
    "body_lower = df_an[['mid_c','mid_o']].min(axis=1)\n",
    "body_upper = df_an[['mid_c','mid_o']].max(axis=1)"
   ]
  },
  {
   "cell_type": "code",
   "execution_count": 7,
   "id": "e28186b0-c51e-4beb-bada-78783e359f7d",
   "metadata": {},
   "outputs": [],
   "source": [
    "df_an['body_lower'] = body_lower\n",
    "df_an['body_upper'] = body_upper"
   ]
  },
  {
   "cell_type": "code",
   "execution_count": 9,
   "id": "b6c63f28-3fde-4225-b27b-f88899693b06",
   "metadata": {},
   "outputs": [
    {
     "data": {
      "application/vnd.plotly.v1+json": {
       "config": {
        "plotlyServerURL": "https://plot.ly"
       },
       "data": [
        {
         "close": [
          154.389,
          154.266,
          154.406,
          154.406,
          154.363,
          154.68,
          154.729,
          155.012,
          154.93,
          155.01,
          155.09,
          155.082,
          155.049,
          155.095,
          155.088,
          155.148,
          155.218,
          155.348,
          155.273,
          155.17,
          155.144,
          155.192,
          155.18,
          155.097,
          154.966,
          155.012,
          155.226,
          155.246,
          155.484,
          155.324,
          155.491,
          155.438,
          155.484,
          155.335,
          155.314,
          155.444,
          155.312,
          155.382,
          155.329,
          155.31
         ],
         "decreasing": {
          "fillcolor": "#CC2E3C",
          "line": {
           "color": "#FF3A4C"
          }
         },
         "high": [
          154.391,
          154.401,
          154.434,
          154.452,
          154.438,
          154.809,
          154.76,
          155.026,
          155.06,
          155.05,
          155.09,
          155.112,
          155.082,
          155.14,
          155.114,
          155.152,
          155.224,
          155.358,
          155.36,
          155.27,
          155.206,
          155.219,
          155.239,
          155.218,
          155.156,
          155.054,
          155.25,
          155.324,
          155.492,
          155.556,
          155.55,
          155.672,
          155.527,
          155.481,
          155.406,
          155.444,
          155.47,
          155.382,
          155.381,
          155.36
         ],
         "increasing": {
          "fillcolor": "#24A06B",
          "line": {
           "color": "#2EC886"
          }
         },
         "line": {
          "width": 1
         },
         "low": [
          154.218,
          154.23,
          154.216,
          154.282,
          154.31,
          154.337,
          154.416,
          154.676,
          154.876,
          154.848,
          155.003,
          155.041,
          154.986,
          155.036,
          155.041,
          155.046,
          155.101,
          155.188,
          155.248,
          155.161,
          155.13,
          155.108,
          155.132,
          155.03,
          154.96,
          154.924,
          154.991,
          155.19,
          155.248,
          155.32,
          155.222,
          155.362,
          155.349,
          155.312,
          155.252,
          155.274,
          155.289,
          155.286,
          155.282,
          155.284
         ],
         "opacity": 1,
         "open": [
          154.265,
          154.387,
          154.264,
          154.408,
          154.409,
          154.361,
          154.678,
          154.727,
          155.014,
          154.932,
          155.006,
          155.092,
          155.08,
          155.046,
          155.054,
          155.092,
          155.152,
          155.216,
          155.345,
          155.27,
          155.168,
          155.148,
          155.196,
          155.184,
          155.1,
          154.969,
          155.01,
          155.224,
          155.25,
          155.482,
          155.328,
          155.488,
          155.436,
          155.481,
          155.333,
          155.312,
          155.442,
          155.317,
          155.353,
          155.336
         ],
         "type": "candlestick",
         "x": [
          "s21-12-29 08:00",
          "s21-12-29 09:00",
          "s21-12-29 10:00",
          "s21-12-29 11:00",
          "s21-12-29 12:00",
          "s21-12-29 13:00",
          "s21-12-29 14:00",
          "s21-12-29 15:00",
          "s21-12-29 16:00",
          "s21-12-29 17:00",
          "s21-12-29 18:00",
          "s21-12-29 19:00",
          "s21-12-29 20:00",
          "s21-12-29 21:00",
          "s21-12-29 22:00",
          "s21-12-29 23:00",
          "s21-12-30 00:00",
          "s21-12-30 01:00",
          "s21-12-30 02:00",
          "s21-12-30 03:00",
          "s21-12-30 04:00",
          "s21-12-30 05:00",
          "s21-12-30 06:00",
          "s21-12-30 07:00",
          "s21-12-30 08:00",
          "s21-12-30 09:00",
          "s21-12-30 10:00",
          "s21-12-30 11:00",
          "s21-12-30 12:00",
          "s21-12-30 13:00",
          "s21-12-30 14:00",
          "s21-12-30 15:00",
          "s21-12-30 16:00",
          "s21-12-30 17:00",
          "s21-12-30 18:00",
          "s21-12-30 19:00",
          "s21-12-30 20:00",
          "s21-12-30 21:00",
          "s21-12-30 22:00",
          "s21-12-30 23:00"
         ]
        },
        {
         "line": {
          "shape": "spline",
          "width": 2
         },
         "name": "body_upper",
         "type": "scatter",
         "x": [
          "s21-12-29 08:00",
          "s21-12-29 09:00",
          "s21-12-29 10:00",
          "s21-12-29 11:00",
          "s21-12-29 12:00",
          "s21-12-29 13:00",
          "s21-12-29 14:00",
          "s21-12-29 15:00",
          "s21-12-29 16:00",
          "s21-12-29 17:00",
          "s21-12-29 18:00",
          "s21-12-29 19:00",
          "s21-12-29 20:00",
          "s21-12-29 21:00",
          "s21-12-29 22:00",
          "s21-12-29 23:00",
          "s21-12-30 00:00",
          "s21-12-30 01:00",
          "s21-12-30 02:00",
          "s21-12-30 03:00",
          "s21-12-30 04:00",
          "s21-12-30 05:00",
          "s21-12-30 06:00",
          "s21-12-30 07:00",
          "s21-12-30 08:00",
          "s21-12-30 09:00",
          "s21-12-30 10:00",
          "s21-12-30 11:00",
          "s21-12-30 12:00",
          "s21-12-30 13:00",
          "s21-12-30 14:00",
          "s21-12-30 15:00",
          "s21-12-30 16:00",
          "s21-12-30 17:00",
          "s21-12-30 18:00",
          "s21-12-30 19:00",
          "s21-12-30 20:00",
          "s21-12-30 21:00",
          "s21-12-30 22:00",
          "s21-12-30 23:00"
         ],
         "xaxis": "x",
         "y": [
          154.389,
          154.387,
          154.406,
          154.408,
          154.409,
          154.68,
          154.729,
          155.012,
          155.014,
          155.01,
          155.09,
          155.092,
          155.08,
          155.095,
          155.088,
          155.148,
          155.218,
          155.348,
          155.345,
          155.27,
          155.168,
          155.192,
          155.196,
          155.184,
          155.1,
          155.012,
          155.226,
          155.246,
          155.484,
          155.482,
          155.491,
          155.488,
          155.484,
          155.481,
          155.333,
          155.444,
          155.442,
          155.382,
          155.353,
          155.336
         ],
         "yaxis": "y"
        },
        {
         "line": {
          "shape": "spline",
          "width": 2
         },
         "name": "body_lower",
         "type": "scatter",
         "x": [
          "s21-12-29 08:00",
          "s21-12-29 09:00",
          "s21-12-29 10:00",
          "s21-12-29 11:00",
          "s21-12-29 12:00",
          "s21-12-29 13:00",
          "s21-12-29 14:00",
          "s21-12-29 15:00",
          "s21-12-29 16:00",
          "s21-12-29 17:00",
          "s21-12-29 18:00",
          "s21-12-29 19:00",
          "s21-12-29 20:00",
          "s21-12-29 21:00",
          "s21-12-29 22:00",
          "s21-12-29 23:00",
          "s21-12-30 00:00",
          "s21-12-30 01:00",
          "s21-12-30 02:00",
          "s21-12-30 03:00",
          "s21-12-30 04:00",
          "s21-12-30 05:00",
          "s21-12-30 06:00",
          "s21-12-30 07:00",
          "s21-12-30 08:00",
          "s21-12-30 09:00",
          "s21-12-30 10:00",
          "s21-12-30 11:00",
          "s21-12-30 12:00",
          "s21-12-30 13:00",
          "s21-12-30 14:00",
          "s21-12-30 15:00",
          "s21-12-30 16:00",
          "s21-12-30 17:00",
          "s21-12-30 18:00",
          "s21-12-30 19:00",
          "s21-12-30 20:00",
          "s21-12-30 21:00",
          "s21-12-30 22:00",
          "s21-12-30 23:00"
         ],
         "xaxis": "x",
         "y": [
          154.265,
          154.266,
          154.264,
          154.406,
          154.363,
          154.361,
          154.678,
          154.727,
          154.93,
          154.932,
          155.006,
          155.082,
          155.049,
          155.046,
          155.054,
          155.092,
          155.152,
          155.216,
          155.273,
          155.17,
          155.144,
          155.148,
          155.18,
          155.097,
          154.966,
          154.969,
          155.01,
          155.224,
          155.25,
          155.324,
          155.328,
          155.438,
          155.436,
          155.335,
          155.314,
          155.312,
          155.312,
          155.317,
          155.329,
          155.31
         ],
         "yaxis": "y"
        }
       ],
       "layout": {
        "font": {
         "color": "#e1e1e1",
         "size": 8
        },
        "height": 400,
        "margin": {
         "b": 10,
         "l": 10,
         "r": 10,
         "t": 10
        },
        "paper_bgcolor": "#2c303c",
        "plot_bgcolor": "#2c303c",
        "template": {
         "data": {
          "bar": [
           {
            "error_x": {
             "color": "#2a3f5f"
            },
            "error_y": {
             "color": "#2a3f5f"
            },
            "marker": {
             "line": {
              "color": "#E5ECF6",
              "width": 0.5
             },
             "pattern": {
              "fillmode": "overlay",
              "size": 10,
              "solidity": 0.2
             }
            },
            "type": "bar"
           }
          ],
          "barpolar": [
           {
            "marker": {
             "line": {
              "color": "#E5ECF6",
              "width": 0.5
             },
             "pattern": {
              "fillmode": "overlay",
              "size": 10,
              "solidity": 0.2
             }
            },
            "type": "barpolar"
           }
          ],
          "carpet": [
           {
            "aaxis": {
             "endlinecolor": "#2a3f5f",
             "gridcolor": "white",
             "linecolor": "white",
             "minorgridcolor": "white",
             "startlinecolor": "#2a3f5f"
            },
            "baxis": {
             "endlinecolor": "#2a3f5f",
             "gridcolor": "white",
             "linecolor": "white",
             "minorgridcolor": "white",
             "startlinecolor": "#2a3f5f"
            },
            "type": "carpet"
           }
          ],
          "choropleth": [
           {
            "colorbar": {
             "outlinewidth": 0,
             "ticks": ""
            },
            "type": "choropleth"
           }
          ],
          "contour": [
           {
            "colorbar": {
             "outlinewidth": 0,
             "ticks": ""
            },
            "colorscale": [
             [
              0,
              "#0d0887"
             ],
             [
              0.1111111111111111,
              "#46039f"
             ],
             [
              0.2222222222222222,
              "#7201a8"
             ],
             [
              0.3333333333333333,
              "#9c179e"
             ],
             [
              0.4444444444444444,
              "#bd3786"
             ],
             [
              0.5555555555555556,
              "#d8576b"
             ],
             [
              0.6666666666666666,
              "#ed7953"
             ],
             [
              0.7777777777777778,
              "#fb9f3a"
             ],
             [
              0.8888888888888888,
              "#fdca26"
             ],
             [
              1,
              "#f0f921"
             ]
            ],
            "type": "contour"
           }
          ],
          "contourcarpet": [
           {
            "colorbar": {
             "outlinewidth": 0,
             "ticks": ""
            },
            "type": "contourcarpet"
           }
          ],
          "heatmap": [
           {
            "colorbar": {
             "outlinewidth": 0,
             "ticks": ""
            },
            "colorscale": [
             [
              0,
              "#0d0887"
             ],
             [
              0.1111111111111111,
              "#46039f"
             ],
             [
              0.2222222222222222,
              "#7201a8"
             ],
             [
              0.3333333333333333,
              "#9c179e"
             ],
             [
              0.4444444444444444,
              "#bd3786"
             ],
             [
              0.5555555555555556,
              "#d8576b"
             ],
             [
              0.6666666666666666,
              "#ed7953"
             ],
             [
              0.7777777777777778,
              "#fb9f3a"
             ],
             [
              0.8888888888888888,
              "#fdca26"
             ],
             [
              1,
              "#f0f921"
             ]
            ],
            "type": "heatmap"
           }
          ],
          "heatmapgl": [
           {
            "colorbar": {
             "outlinewidth": 0,
             "ticks": ""
            },
            "colorscale": [
             [
              0,
              "#0d0887"
             ],
             [
              0.1111111111111111,
              "#46039f"
             ],
             [
              0.2222222222222222,
              "#7201a8"
             ],
             [
              0.3333333333333333,
              "#9c179e"
             ],
             [
              0.4444444444444444,
              "#bd3786"
             ],
             [
              0.5555555555555556,
              "#d8576b"
             ],
             [
              0.6666666666666666,
              "#ed7953"
             ],
             [
              0.7777777777777778,
              "#fb9f3a"
             ],
             [
              0.8888888888888888,
              "#fdca26"
             ],
             [
              1,
              "#f0f921"
             ]
            ],
            "type": "heatmapgl"
           }
          ],
          "histogram": [
           {
            "marker": {
             "pattern": {
              "fillmode": "overlay",
              "size": 10,
              "solidity": 0.2
             }
            },
            "type": "histogram"
           }
          ],
          "histogram2d": [
           {
            "colorbar": {
             "outlinewidth": 0,
             "ticks": ""
            },
            "colorscale": [
             [
              0,
              "#0d0887"
             ],
             [
              0.1111111111111111,
              "#46039f"
             ],
             [
              0.2222222222222222,
              "#7201a8"
             ],
             [
              0.3333333333333333,
              "#9c179e"
             ],
             [
              0.4444444444444444,
              "#bd3786"
             ],
             [
              0.5555555555555556,
              "#d8576b"
             ],
             [
              0.6666666666666666,
              "#ed7953"
             ],
             [
              0.7777777777777778,
              "#fb9f3a"
             ],
             [
              0.8888888888888888,
              "#fdca26"
             ],
             [
              1,
              "#f0f921"
             ]
            ],
            "type": "histogram2d"
           }
          ],
          "histogram2dcontour": [
           {
            "colorbar": {
             "outlinewidth": 0,
             "ticks": ""
            },
            "colorscale": [
             [
              0,
              "#0d0887"
             ],
             [
              0.1111111111111111,
              "#46039f"
             ],
             [
              0.2222222222222222,
              "#7201a8"
             ],
             [
              0.3333333333333333,
              "#9c179e"
             ],
             [
              0.4444444444444444,
              "#bd3786"
             ],
             [
              0.5555555555555556,
              "#d8576b"
             ],
             [
              0.6666666666666666,
              "#ed7953"
             ],
             [
              0.7777777777777778,
              "#fb9f3a"
             ],
             [
              0.8888888888888888,
              "#fdca26"
             ],
             [
              1,
              "#f0f921"
             ]
            ],
            "type": "histogram2dcontour"
           }
          ],
          "mesh3d": [
           {
            "colorbar": {
             "outlinewidth": 0,
             "ticks": ""
            },
            "type": "mesh3d"
           }
          ],
          "parcoords": [
           {
            "line": {
             "colorbar": {
              "outlinewidth": 0,
              "ticks": ""
             }
            },
            "type": "parcoords"
           }
          ],
          "pie": [
           {
            "automargin": true,
            "type": "pie"
           }
          ],
          "scatter": [
           {
            "fillpattern": {
             "fillmode": "overlay",
             "size": 10,
             "solidity": 0.2
            },
            "type": "scatter"
           }
          ],
          "scatter3d": [
           {
            "line": {
             "colorbar": {
              "outlinewidth": 0,
              "ticks": ""
             }
            },
            "marker": {
             "colorbar": {
              "outlinewidth": 0,
              "ticks": ""
             }
            },
            "type": "scatter3d"
           }
          ],
          "scattercarpet": [
           {
            "marker": {
             "colorbar": {
              "outlinewidth": 0,
              "ticks": ""
             }
            },
            "type": "scattercarpet"
           }
          ],
          "scattergeo": [
           {
            "marker": {
             "colorbar": {
              "outlinewidth": 0,
              "ticks": ""
             }
            },
            "type": "scattergeo"
           }
          ],
          "scattergl": [
           {
            "marker": {
             "colorbar": {
              "outlinewidth": 0,
              "ticks": ""
             }
            },
            "type": "scattergl"
           }
          ],
          "scattermapbox": [
           {
            "marker": {
             "colorbar": {
              "outlinewidth": 0,
              "ticks": ""
             }
            },
            "type": "scattermapbox"
           }
          ],
          "scatterpolar": [
           {
            "marker": {
             "colorbar": {
              "outlinewidth": 0,
              "ticks": ""
             }
            },
            "type": "scatterpolar"
           }
          ],
          "scatterpolargl": [
           {
            "marker": {
             "colorbar": {
              "outlinewidth": 0,
              "ticks": ""
             }
            },
            "type": "scatterpolargl"
           }
          ],
          "scatterternary": [
           {
            "marker": {
             "colorbar": {
              "outlinewidth": 0,
              "ticks": ""
             }
            },
            "type": "scatterternary"
           }
          ],
          "surface": [
           {
            "colorbar": {
             "outlinewidth": 0,
             "ticks": ""
            },
            "colorscale": [
             [
              0,
              "#0d0887"
             ],
             [
              0.1111111111111111,
              "#46039f"
             ],
             [
              0.2222222222222222,
              "#7201a8"
             ],
             [
              0.3333333333333333,
              "#9c179e"
             ],
             [
              0.4444444444444444,
              "#bd3786"
             ],
             [
              0.5555555555555556,
              "#d8576b"
             ],
             [
              0.6666666666666666,
              "#ed7953"
             ],
             [
              0.7777777777777778,
              "#fb9f3a"
             ],
             [
              0.8888888888888888,
              "#fdca26"
             ],
             [
              1,
              "#f0f921"
             ]
            ],
            "type": "surface"
           }
          ],
          "table": [
           {
            "cells": {
             "fill": {
              "color": "#EBF0F8"
             },
             "line": {
              "color": "white"
             }
            },
            "header": {
             "fill": {
              "color": "#C8D4E3"
             },
             "line": {
              "color": "white"
             }
            },
            "type": "table"
           }
          ]
         },
         "layout": {
          "annotationdefaults": {
           "arrowcolor": "#2a3f5f",
           "arrowhead": 0,
           "arrowwidth": 1
          },
          "autotypenumbers": "strict",
          "coloraxis": {
           "colorbar": {
            "outlinewidth": 0,
            "ticks": ""
           }
          },
          "colorscale": {
           "diverging": [
            [
             0,
             "#8e0152"
            ],
            [
             0.1,
             "#c51b7d"
            ],
            [
             0.2,
             "#de77ae"
            ],
            [
             0.3,
             "#f1b6da"
            ],
            [
             0.4,
             "#fde0ef"
            ],
            [
             0.5,
             "#f7f7f7"
            ],
            [
             0.6,
             "#e6f5d0"
            ],
            [
             0.7,
             "#b8e186"
            ],
            [
             0.8,
             "#7fbc41"
            ],
            [
             0.9,
             "#4d9221"
            ],
            [
             1,
             "#276419"
            ]
           ],
           "sequential": [
            [
             0,
             "#0d0887"
            ],
            [
             0.1111111111111111,
             "#46039f"
            ],
            [
             0.2222222222222222,
             "#7201a8"
            ],
            [
             0.3333333333333333,
             "#9c179e"
            ],
            [
             0.4444444444444444,
             "#bd3786"
            ],
            [
             0.5555555555555556,
             "#d8576b"
            ],
            [
             0.6666666666666666,
             "#ed7953"
            ],
            [
             0.7777777777777778,
             "#fb9f3a"
            ],
            [
             0.8888888888888888,
             "#fdca26"
            ],
            [
             1,
             "#f0f921"
            ]
           ],
           "sequentialminus": [
            [
             0,
             "#0d0887"
            ],
            [
             0.1111111111111111,
             "#46039f"
            ],
            [
             0.2222222222222222,
             "#7201a8"
            ],
            [
             0.3333333333333333,
             "#9c179e"
            ],
            [
             0.4444444444444444,
             "#bd3786"
            ],
            [
             0.5555555555555556,
             "#d8576b"
            ],
            [
             0.6666666666666666,
             "#ed7953"
            ],
            [
             0.7777777777777778,
             "#fb9f3a"
            ],
            [
             0.8888888888888888,
             "#fdca26"
            ],
            [
             1,
             "#f0f921"
            ]
           ]
          },
          "colorway": [
           "#636efa",
           "#EF553B",
           "#00cc96",
           "#ab63fa",
           "#FFA15A",
           "#19d3f3",
           "#FF6692",
           "#B6E880",
           "#FF97FF",
           "#FECB52"
          ],
          "font": {
           "color": "#2a3f5f"
          },
          "geo": {
           "bgcolor": "white",
           "lakecolor": "white",
           "landcolor": "#E5ECF6",
           "showlakes": true,
           "showland": true,
           "subunitcolor": "white"
          },
          "hoverlabel": {
           "align": "left"
          },
          "hovermode": "closest",
          "mapbox": {
           "style": "light"
          },
          "paper_bgcolor": "white",
          "plot_bgcolor": "#E5ECF6",
          "polar": {
           "angularaxis": {
            "gridcolor": "white",
            "linecolor": "white",
            "ticks": ""
           },
           "bgcolor": "#E5ECF6",
           "radialaxis": {
            "gridcolor": "white",
            "linecolor": "white",
            "ticks": ""
           }
          },
          "scene": {
           "xaxis": {
            "backgroundcolor": "#E5ECF6",
            "gridcolor": "white",
            "gridwidth": 2,
            "linecolor": "white",
            "showbackground": true,
            "ticks": "",
            "zerolinecolor": "white"
           },
           "yaxis": {
            "backgroundcolor": "#E5ECF6",
            "gridcolor": "white",
            "gridwidth": 2,
            "linecolor": "white",
            "showbackground": true,
            "ticks": "",
            "zerolinecolor": "white"
           },
           "zaxis": {
            "backgroundcolor": "#E5ECF6",
            "gridcolor": "white",
            "gridwidth": 2,
            "linecolor": "white",
            "showbackground": true,
            "ticks": "",
            "zerolinecolor": "white"
           }
          },
          "shapedefaults": {
           "line": {
            "color": "#2a3f5f"
           }
          },
          "ternary": {
           "aaxis": {
            "gridcolor": "white",
            "linecolor": "white",
            "ticks": ""
           },
           "baxis": {
            "gridcolor": "white",
            "linecolor": "white",
            "ticks": ""
           },
           "bgcolor": "#E5ECF6",
           "caxis": {
            "gridcolor": "white",
            "linecolor": "white",
            "ticks": ""
           }
          },
          "title": {
           "x": 0.05
          },
          "xaxis": {
           "automargin": true,
           "gridcolor": "white",
           "linecolor": "white",
           "ticks": "",
           "title": {
            "standoff": 15
           },
           "zerolinecolor": "white",
           "zerolinewidth": 2
          },
          "yaxis": {
           "automargin": true,
           "gridcolor": "white",
           "linecolor": "white",
           "ticks": "",
           "title": {
            "standoff": 15
           },
           "zerolinecolor": "white",
           "zerolinewidth": 2
          }
         }
        },
        "width": 900,
        "xaxis": {
         "anchor": "y",
         "autorange": true,
         "domain": [
          0,
          0.94
         ],
         "gridcolor": "#1f292f",
         "nticks": 5,
         "range": [
          -0.5,
          39.5
         ],
         "rangeslider": {
          "visible": false,
          "yaxis": {}
         },
         "type": "category"
        },
        "yaxis": {
         "anchor": "x",
         "autorange": true,
         "domain": [
          0,
          1
         ],
         "gridcolor": "#1f292f",
         "range": [
          154.13511111111112,
          155.7528888888889
         ],
         "type": "linear"
        },
        "yaxis2": {
         "anchor": "x",
         "gridcolor": "#1f292f",
         "overlaying": "y",
         "side": "right"
        }
       }
      },
      "image/png": "[encoded data removed]",
      "text/html": [
       "<div>                            <div id=\"0564077d-ef9c-4d77-88e5-bf5e6bc60f68\" class=\"plotly-graph-div\" style=\"height:400px; width:900px;\"></div>            <script type=\"text/javascript\">                require([\"plotly\"], function(Plotly) {                    window.PLOTLYENV=window.PLOTLYENV || {};                                    if (document.getElementById(\"0564077d-ef9c-4d77-88e5-bf5e6bc60f68\")) {                    Plotly.newPlot(                        \"0564077d-ef9c-4d77-88e5-bf5e6bc60f68\",                        [{\"close\":[154.389,154.266,154.406,154.406,154.363,154.68,154.729,155.012,154.93,155.01,155.09,155.082,155.049,155.095,155.088,155.148,155.218,155.348,155.273,155.17,155.144,155.192,155.18,155.097,154.966,155.012,155.226,155.246,155.484,155.324,155.491,155.438,155.484,155.335,155.314,155.444,155.312,155.382,155.329,155.31],\"decreasing\":{\"fillcolor\":\"#CC2E3C\",\"line\":{\"color\":\"#FF3A4C\"}},\"high\":[154.391,154.401,154.434,154.452,154.438,154.809,154.76,155.026,155.06,155.05,155.09,155.112,155.082,155.14,155.114,155.152,155.224,155.358,155.36,155.27,155.206,155.219,155.239,155.218,155.156,155.054,155.25,155.324,155.492,155.556,155.55,155.672,155.527,155.481,155.406,155.444,155.47,155.382,155.381,155.36],\"increasing\":{\"fillcolor\":\"#24A06B\",\"line\":{\"color\":\"#2EC886\"}},\"line\":{\"width\":1},\"low\":[154.218,154.23,154.216,154.282,154.31,154.337,154.416,154.676,154.876,154.848,155.003,155.041,154.986,155.036,155.041,155.046,155.101,155.188,155.248,155.161,155.13,155.108,155.132,155.03,154.96,154.924,154.991,155.19,155.248,155.32,155.222,155.362,155.349,155.312,155.252,155.274,155.289,155.286,155.282,155.284],\"opacity\":1,\"open\":[154.265,154.387,154.264,154.408,154.409,154.361,154.678,154.727,155.014,154.932,155.006,155.092,155.08,155.046,155.054,155.092,155.152,155.216,155.345,155.27,155.168,155.148,155.196,155.184,155.1,154.969,155.01,155.224,155.25,155.482,155.328,155.488,155.436,155.481,155.333,155.312,155.442,155.317,155.353,155.336],\"x\":[\"s21-12-29 08:00\",\"s21-12-29 09:00\",\"s21-12-29 10:00\",\"s21-12-29 11:00\",\"s21-12-29 12:00\",\"s21-12-29 13:00\",\"s21-12-29 14:00\",\"s21-12-29 15:00\",\"s21-12-29 16:00\",\"s21-12-29 17:00\",\"s21-12-29 18:00\",\"s21-12-29 19:00\",\"s21-12-29 20:00\",\"s21-12-29 21:00\",\"s21-12-29 22:00\",\"s21-12-29 23:00\",\"s21-12-30 00:00\",\"s21-12-30 01:00\",\"s21-12-30 02:00\",\"s21-12-30 03:00\",\"s21-12-30 04:00\",\"s21-12-30 05:00\",\"s21-12-30 06:00\",\"s21-12-30 07:00\",\"s21-12-30 08:00\",\"s21-12-30 09:00\",\"s21-12-30 10:00\",\"s21-12-30 11:00\",\"s21-12-30 12:00\",\"s21-12-30 13:00\",\"s21-12-30 14:00\",\"s21-12-30 15:00\",\"s21-12-30 16:00\",\"s21-12-30 17:00\",\"s21-12-30 18:00\",\"s21-12-30 19:00\",\"s21-12-30 20:00\",\"s21-12-30 21:00\",\"s21-12-30 22:00\",\"s21-12-30 23:00\"],\"type\":\"candlestick\"},{\"line\":{\"shape\":\"spline\",\"width\":2},\"name\":\"body_upper\",\"x\":[\"s21-12-29 08:00\",\"s21-12-29 09:00\",\"s21-12-29 10:00\",\"s21-12-29 11:00\",\"s21-12-29 12:00\",\"s21-12-29 13:00\",\"s21-12-29 14:00\",\"s21-12-29 15:00\",\"s21-12-29 16:00\",\"s21-12-29 17:00\",\"s21-12-29 18:00\",\"s21-12-29 19:00\",\"s21-12-29 20:00\",\"s21-12-29 21:00\",\"s21-12-29 22:00\",\"s21-12-29 23:00\",\"s21-12-30 00:00\",\"s21-12-30 01:00\",\"s21-12-30 02:00\",\"s21-12-30 03:00\",\"s21-12-30 04:00\",\"s21-12-30 05:00\",\"s21-12-30 06:00\",\"s21-12-30 07:00\",\"s21-12-30 08:00\",\"s21-12-30 09:00\",\"s21-12-30 10:00\",\"s21-12-30 11:00\",\"s21-12-30 12:00\",\"s21-12-30 13:00\",\"s21-12-30 14:00\",\"s21-12-30 15:00\",\"s21-12-30 16:00\",\"s21-12-30 17:00\",\"s21-12-30 18:00\",\"s21-12-30 19:00\",\"s21-12-30 20:00\",\"s21-12-30 21:00\",\"s21-12-30 22:00\",\"s21-12-30 23:00\"],\"y\":[154.389,154.387,154.406,154.408,154.409,154.68,154.729,155.012,155.014,155.01,155.09,155.092,155.08,155.095,155.088,155.148,155.218,155.348,155.345,155.27,155.168,155.192,155.196,155.184,155.1,155.012,155.226,155.246,155.484,155.482,155.491,155.488,155.484,155.481,155.333,155.444,155.442,155.382,155.353,155.336],\"type\":\"scatter\",\"xaxis\":\"x\",\"yaxis\":\"y\"},{\"line\":{\"shape\":\"spline\",\"width\":2},\"name\":\"body_lower\",\"x\":[\"s21-12-29 08:00\",\"s21-12-29 09:00\",\"s21-12-29 10:00\",\"s21-12-29 11:00\",\"s21-12-29 12:00\",\"s21-12-29 13:00\",\"s21-12-29 14:00\",\"s21-12-29 15:00\",\"s21-12-29 16:00\",\"s21-12-29 17:00\",\"s21-12-29 18:00\",\"s21-12-29 19:00\",\"s21-12-29 20:00\",\"s21-12-29 21:00\",\"s21-12-29 22:00\",\"s21-12-29 23:00\",\"s21-12-30 00:00\",\"s21-12-30 01:00\",\"s21-12-30 02:00\",\"s21-12-30 03:00\",\"s21-12-30 04:00\",\"s21-12-30 05:00\",\"s21-12-30 06:00\",\"s21-12-30 07:00\",\"s21-12-30 08:00\",\"s21-12-30 09:00\",\"s21-12-30 10:00\",\"s21-12-30 11:00\",\"s21-12-30 12:00\",\"s21-12-30 13:00\",\"s21-12-30 14:00\",\"s21-12-30 15:00\",\"s21-12-30 16:00\",\"s21-12-30 17:00\",\"s21-12-30 18:00\",\"s21-12-30 19:00\",\"s21-12-30 20:00\",\"s21-12-30 21:00\",\"s21-12-30 22:00\",\"s21-12-30 23:00\"],\"y\":[154.265,154.266,154.264,154.406,154.363,154.361,154.678,154.727,154.93,154.932,155.006,155.082,155.049,155.046,155.054,155.092,155.152,155.216,155.273,155.17,155.144,155.148,155.18,155.097,154.966,154.969,155.01,155.224,155.25,155.324,155.328,155.438,155.436,155.335,155.314,155.312,155.312,155.317,155.329,155.31],\"type\":\"scatter\",\"xaxis\":\"x\",\"yaxis\":\"y\"}],                        {\"template\":{\"data\":{\"histogram2dcontour\":[{\"type\":\"histogram2dcontour\",\"colorbar\":{\"outlinewidth\":0,\"ticks\":\"\"},\"colorscale\":[[0.0,\"#0d0887\"],[0.1111111111111111,\"#46039f\"],[0.2222222222222222,\"#7201a8\"],[0.3333333333333333,\"#9c179e\"],[0.4444444444444444,\"#bd3786\"],[0.5555555555555556,\"#d8576b\"],[0.6666666666666666,\"#ed7953\"],[0.7777777777777778,\"#fb9f3a\"],[0.8888888888888888,\"#fdca26\"],[1.0,\"#f0f921\"]]}],\"choropleth\":[{\"type\":\"choropleth\",\"colorbar\":{\"outlinewidth\":0,\"ticks\":\"\"}}],\"histogram2d\":[{\"type\":\"histogram2d\",\"colorbar\":{\"outlinewidth\":0,\"ticks\":\"\"},\"colorscale\":[[0.0,\"#0d0887\"],[0.1111111111111111,\"#46039f\"],[0.2222222222222222,\"#7201a8\"],[0.3333333333333333,\"#9c179e\"],[0.4444444444444444,\"#bd3786\"],[0.5555555555555556,\"#d8576b\"],[0.6666666666666666,\"#ed7953\"],[0.7777777777777778,\"#fb9f3a\"],[0.8888888888888888,\"#fdca26\"],[1.0,\"#f0f921\"]]}],\"heatmap\":[{\"type\":\"heatmap\",\"colorbar\":{\"outlinewidth\":0,\"ticks\":\"\"},\"colorscale\":[[0.0,\"#0d0887\"],[0.1111111111111111,\"#46039f\"],[0.2222222222222222,\"#7201a8\"],[0.3333333333333333,\"#9c179e\"],[0.4444444444444444,\"#bd3786\"],[0.5555555555555556,\"#d8576b\"],[0.6666666666666666,\"#ed7953\"],[0.7777777777777778,\"#fb9f3a\"],[0.8888888888888888,\"#fdca26\"],[1.0,\"#f0f921\"]]}],\"heatmapgl\":[{\"type\":\"heatmapgl\",\"colorbar\":{\"outlinewidth\":0,\"ticks\":\"\"},\"colorscale\":[[0.0,\"#0d0887\"],[0.1111111111111111,\"#46039f\"],[0.2222222222222222,\"#7201a8\"],[0.3333333333333333,\"#9c179e\"],[0.4444444444444444,\"#bd3786\"],[0.5555555555555556,\"#d8576b\"],[0.6666666666666666,\"#ed7953\"],[0.7777777777777778,\"#fb9f3a\"],[0.8888888888888888,\"#fdca26\"],[1.0,\"#f0f921\"]]}],\"contourcarpet\":[{\"type\":\"contourcarpet\",\"colorbar\":{\"outlinewidth\":0,\"ticks\":\"\"}}],\"contour\":[{\"type\":\"contour\",\"colorbar\":{\"outlinewidth\":0,\"ticks\":\"\"},\"colorscale\":[[0.0,\"#0d0887\"],[0.1111111111111111,\"#46039f\"],[0.2222222222222222,\"#7201a8\"],[0.3333333333333333,\"#9c179e\"],[0.4444444444444444,\"#bd3786\"],[0.5555555555555556,\"#d8576b\"],[0.6666666666666666,\"#ed7953\"],[0.7777777777777778,\"#fb9f3a\"],[0.8888888888888888,\"#fdca26\"],[1.0,\"#f0f921\"]]}],\"surface\":[{\"type\":\"surface\",\"colorbar\":{\"outlinewidth\":0,\"ticks\":\"\"},\"colorscale\":[[0.0,\"#0d0887\"],[0.1111111111111111,\"#46039f\"],[0.2222222222222222,\"#7201a8\"],[0.3333333333333333,\"#9c179e\"],[0.4444444444444444,\"#bd3786\"],[0.5555555555555556,\"#d8576b\"],[0.6666666666666666,\"#ed7953\"],[0.7777777777777778,\"#fb9f3a\"],[0.8888888888888888,\"#fdca26\"],[1.0,\"#f0f921\"]]}],\"mesh3d\":[{\"type\":\"mesh3d\",\"colorbar\":{\"outlinewidth\":0,\"ticks\":\"\"}}],\"scatter\":[{\"fillpattern\":{\"fillmode\":\"overlay\",\"size\":10,\"solidity\":0.2},\"type\":\"scatter\"}],\"parcoords\":[{\"type\":\"parcoords\",\"line\":{\"colorbar\":{\"outlinewidth\":0,\"ticks\":\"\"}}}],\"scatterpolargl\":[{\"type\":\"scatterpolargl\",\"marker\":{\"colorbar\":{\"outlinewidth\":0,\"ticks\":\"\"}}}],\"bar\":[{\"error_x\":{\"color\":\"#2a3f5f\"},\"error_y\":{\"color\":\"#2a3f5f\"},\"marker\":{\"line\":{\"color\":\"#E5ECF6\",\"width\":0.5},\"pattern\":{\"fillmode\":\"overlay\",\"size\":10,\"solidity\":0.2}},\"type\":\"bar\"}],\"scattergeo\":[{\"type\":\"scattergeo\",\"marker\":{\"colorbar\":{\"outlinewidth\":0,\"ticks\":\"\"}}}],\"scatterpolar\":[{\"type\":\"scatterpolar\",\"marker\":{\"colorbar\":{\"outlinewidth\":0,\"ticks\":\"\"}}}],\"histogram\":[{\"marker\":{\"pattern\":{\"fillmode\":\"overlay\",\"size\":10,\"solidity\":0.2}},\"type\":\"histogram\"}],\"scattergl\":[{\"type\":\"scattergl\",\"marker\":{\"colorbar\":{\"outlinewidth\":0,\"ticks\":\"\"}}}],\"scatter3d\":[{\"type\":\"scatter3d\",\"line\":{\"colorbar\":{\"outlinewidth\":0,\"ticks\":\"\"}},\"marker\":{\"colorbar\":{\"outlinewidth\":0,\"ticks\":\"\"}}}],\"scattermapbox\":[{\"type\":\"scattermapbox\",\"marker\":{\"colorbar\":{\"outlinewidth\":0,\"ticks\":\"\"}}}],\"scatterternary\":[{\"type\":\"scatterternary\",\"marker\":{\"colorbar\":{\"outlinewidth\":0,\"ticks\":\"\"}}}],\"scattercarpet\":[{\"type\":\"scattercarpet\",\"marker\":{\"colorbar\":{\"outlinewidth\":0,\"ticks\":\"\"}}}],\"carpet\":[{\"aaxis\":{\"endlinecolor\":\"#2a3f5f\",\"gridcolor\":\"white\",\"linecolor\":\"white\",\"minorgridcolor\":\"white\",\"startlinecolor\":\"#2a3f5f\"},\"baxis\":{\"endlinecolor\":\"#2a3f5f\",\"gridcolor\":\"white\",\"linecolor\":\"white\",\"minorgridcolor\":\"white\",\"startlinecolor\":\"#2a3f5f\"},\"type\":\"carpet\"}],\"table\":[{\"cells\":{\"fill\":{\"color\":\"#EBF0F8\"},\"line\":{\"color\":\"white\"}},\"header\":{\"fill\":{\"color\":\"#C8D4E3\"},\"line\":{\"color\":\"white\"}},\"type\":\"table\"}],\"barpolar\":[{\"marker\":{\"line\":{\"color\":\"#E5ECF6\",\"width\":0.5},\"pattern\":{\"fillmode\":\"overlay\",\"size\":10,\"solidity\":0.2}},\"type\":\"barpolar\"}],\"pie\":[{\"automargin\":true,\"type\":\"pie\"}]},\"layout\":{\"autotypenumbers\":\"strict\",\"colorway\":[\"#636efa\",\"#EF553B\",\"#00cc96\",\"#ab63fa\",\"#FFA15A\",\"#19d3f3\",\"#FF6692\",\"#B6E880\",\"#FF97FF\",\"#FECB52\"],\"font\":{\"color\":\"#2a3f5f\"},\"hovermode\":\"closest\",\"hoverlabel\":{\"align\":\"left\"},\"paper_bgcolor\":\"white\",\"plot_bgcolor\":\"#E5ECF6\",\"polar\":{\"bgcolor\":\"#E5ECF6\",\"angularaxis\":{\"gridcolor\":\"white\",\"linecolor\":\"white\",\"ticks\":\"\"},\"radialaxis\":{\"gridcolor\":\"white\",\"linecolor\":\"white\",\"ticks\":\"\"}},\"ternary\":{\"bgcolor\":\"#E5ECF6\",\"aaxis\":{\"gridcolor\":\"white\",\"linecolor\":\"white\",\"ticks\":\"\"},\"baxis\":{\"gridcolor\":\"white\",\"linecolor\":\"white\",\"ticks\":\"\"},\"caxis\":{\"gridcolor\":\"white\",\"linecolor\":\"white\",\"ticks\":\"\"}},\"coloraxis\":{\"colorbar\":{\"outlinewidth\":0,\"ticks\":\"\"}},\"colorscale\":{\"sequential\":[[0.0,\"#0d0887\"],[0.1111111111111111,\"#46039f\"],[0.2222222222222222,\"#7201a8\"],[0.3333333333333333,\"#9c179e\"],[0.4444444444444444,\"#bd3786\"],[0.5555555555555556,\"#d8576b\"],[0.6666666666666666,\"#ed7953\"],[0.7777777777777778,\"#fb9f3a\"],[0.8888888888888888,\"#fdca26\"],[1.0,\"#f0f921\"]],\"sequentialminus\":[[0.0,\"#0d0887\"],[0.1111111111111111,\"#46039f\"],[0.2222222222222222,\"#7201a8\"],[0.3333333333333333,\"#9c179e\"],[0.4444444444444444,\"#bd3786\"],[0.5555555555555556,\"#d8576b\"],[0.6666666666666666,\"#ed7953\"],[0.7777777777777778,\"#fb9f3a\"],[0.8888888888888888,\"#fdca26\"],[1.0,\"#f0f921\"]],\"diverging\":[[0,\"#8e0152\"],[0.1,\"#c51b7d\"],[0.2,\"#de77ae\"],[0.3,\"#f1b6da\"],[0.4,\"#fde0ef\"],[0.5,\"#f7f7f7\"],[0.6,\"#e6f5d0\"],[0.7,\"#b8e186\"],[0.8,\"#7fbc41\"],[0.9,\"#4d9221\"],[1,\"#276419\"]]},\"xaxis\":{\"gridcolor\":\"white\",\"linecolor\":\"white\",\"ticks\":\"\",\"title\":{\"standoff\":15},\"zerolinecolor\":\"white\",\"automargin\":true,\"zerolinewidth\":2},\"yaxis\":{\"gridcolor\":\"white\",\"linecolor\":\"white\",\"ticks\":\"\",\"title\":{\"standoff\":15},\"zerolinecolor\":\"white\",\"automargin\":true,\"zerolinewidth\":2},\"scene\":{\"xaxis\":{\"backgroundcolor\":\"#E5ECF6\",\"gridcolor\":\"white\",\"linecolor\":\"white\",\"showbackground\":true,\"ticks\":\"\",\"zerolinecolor\":\"white\",\"gridwidth\":2},\"yaxis\":{\"backgroundcolor\":\"#E5ECF6\",\"gridcolor\":\"white\",\"linecolor\":\"white\",\"showbackground\":true,\"ticks\":\"\",\"zerolinecolor\":\"white\",\"gridwidth\":2},\"zaxis\":{\"backgroundcolor\":\"#E5ECF6\",\"gridcolor\":\"white\",\"linecolor\":\"white\",\"showbackground\":true,\"ticks\":\"\",\"zerolinecolor\":\"white\",\"gridwidth\":2}},\"shapedefaults\":{\"line\":{\"color\":\"#2a3f5f\"}},\"annotationdefaults\":{\"arrowcolor\":\"#2a3f5f\",\"arrowhead\":0,\"arrowwidth\":1},\"geo\":{\"bgcolor\":\"white\",\"landcolor\":\"#E5ECF6\",\"subunitcolor\":\"white\",\"showland\":true,\"showlakes\":true,\"lakecolor\":\"white\"},\"title\":{\"x\":0.05},\"mapbox\":{\"style\":\"light\"}}},\"xaxis\":{\"anchor\":\"y\",\"domain\":[0.0,0.94],\"rangeslider\":{\"visible\":false},\"gridcolor\":\"#1f292f\",\"nticks\":5},\"yaxis\":{\"anchor\":\"x\",\"domain\":[0.0,1.0],\"gridcolor\":\"#1f292f\"},\"yaxis2\":{\"anchor\":\"x\",\"overlaying\":\"y\",\"side\":\"right\",\"gridcolor\":\"#1f292f\"},\"margin\":{\"l\":10,\"r\":10,\"b\":10,\"t\":10},\"font\":{\"size\":8,\"color\":\"#e1e1e1\"},\"width\":900,\"height\":400,\"paper_bgcolor\":\"#2c303c\",\"plot_bgcolor\":\"#2c303c\"},                        {\"responsive\": true}                    ).then(function(){\n",
       "                            \n",
       "var gd = document.getElementById('0564077d-ef9c-4d77-88e5-bf5e6bc60f68');\n",
       "var x = new MutationObserver(function (mutations, observer) {{\n",
       "        var display = window.getComputedStyle(gd).display;\n",
       "        if (!display || display === 'none') {{\n",
       "            console.log([gd, 'removed!']);\n",
       "            Plotly.purge(gd);\n",
       "            observer.disconnect();\n",
       "        }}\n",
       "}});\n",
       "\n",
       "// Listen for the removal of the full notebook cells\n",
       "var notebookContainer = gd.closest('#notebook-container');\n",
       "if (notebookContainer) {{\n",
       "    x.observe(notebookContainer, {childList: true});\n",
       "}}\n",
       "\n",
       "// Listen for the clearing of the current output cell\n",
       "var outputEl = gd.closest('.output');\n",
       "if (outputEl) {{\n",
       "    x.observe(outputEl, {childList: true});\n",
       "}}\n",
       "\n",
       "                        })                };                });            </script>        </div>"
      ]
     },
     "metadata": {},
     "output_type": "display_data"
    }
   ],
   "source": [
    "dfp = df_an.iloc[-40:]\n",
    "cp = CandlePlot(dfp)\n",
    "cp.show_plot(line_traces=['body_upper','body_lower'])"
   ]
  },
  {
   "cell_type": "code",
   "execution_count": null,
   "id": "d2f42a52-5e9f-44dd-ae0c-4722688cbdb7",
   "metadata": {},
   "outputs": [],
   "source": []
  }
 ],
 "metadata": {
  "kernelspec": {
   "display_name": "Python 3 (ipykernel)",
   "language": "python",
   "name": "python3"
  },
  "language_info": {
   "codemirror_mode": {
    "name": "ipython",
    "version": 3
   },
   "file_extension": ".py",
   "mimetype": "text/x-python",
   "name": "python",
   "nbconvert_exporter": "python",
   "pygments_lexer": "ipython3",
   "version": "3.11.6"
  }
 },
 "nbformat": 4,
 "nbformat_minor": 5
}
