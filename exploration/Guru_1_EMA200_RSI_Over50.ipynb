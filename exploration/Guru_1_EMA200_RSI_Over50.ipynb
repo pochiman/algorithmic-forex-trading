{
 "cells": [
  {
   "cell_type": "code",
   "execution_count": 1,
   "id": "d3fb88d5-32b5-40fa-9da9-09a6b1fa7bbf",
   "metadata": {},
   "outputs": [],
   "source": [
    "import sys\n",
    "sys.path.append(\"../\")"
   ]
  },
  {
   "cell_type": "code",
   "execution_count": 2,
   "id": "abd4cffb-281b-4346-a8d8-080807b33cc4",
   "metadata": {},
   "outputs": [],
   "source": [
    "import pandas as pd\n",
    "import plotly.graph_objects as go\n",
    "from technicals.indicators import RSI\n",
    "from technicals.patterns import apply_patterns\n",
    "from plotting import CandlePlot"
   ]
  },
  {
   "cell_type": "code",
   "execution_count": 86,
   "id": "ac55234c-d59c-4bdc-840b-ddc8daa233e3",
   "metadata": {},
   "outputs": [],
   "source": [
    "df_raw = pd.read_pickle(\"../data/EUR_USD_H1.pkl\")"
   ]
  },
  {
   "cell_type": "code",
   "execution_count": 87,
   "id": "f23515a6-973d-4ea2-91bc-1a21684650bf",
   "metadata": {},
   "outputs": [
    {
     "data": {
      "text/plain": [
       "(37219, 14)"
      ]
     },
     "execution_count": 87,
     "metadata": {},
     "output_type": "execute_result"
    }
   ],
   "source": [
    "df_raw.shape"
   ]
  },
  {
   "cell_type": "code",
   "execution_count": 88,
   "id": "1a41c2d0-9501-4958-a0ef-e6a7605344bb",
   "metadata": {},
   "outputs": [],
   "source": [
    "df_an = df_raw.copy() # df_raw.iloc[-6000:].copy()\n",
    "df_an.reset_index(drop=True, inplace=True)"
   ]
  },
  {
   "cell_type": "code",
   "execution_count": 89,
   "id": "dae62577-ac0e-45ce-8aca-7b6ec355fdc8",
   "metadata": {},
   "outputs": [
    {
     "data": {
      "text/plain": [
       "(37219, 14)"
      ]
     },
     "execution_count": 89,
     "metadata": {},
     "output_type": "execute_result"
    }
   ],
   "source": [
    "df_an.shape"
   ]
  },
  {
   "cell_type": "code",
   "execution_count": 90,
   "id": "6f7c8946-5521-429b-a178-b61c2d8e4e52",
   "metadata": {},
   "outputs": [],
   "source": [
    "df_an = RSI(df_an)"
   ]
  },
  {
   "cell_type": "code",
   "execution_count": 91,
   "id": "dd011783-9e2c-4e43-914a-c6bb4d388d70",
   "metadata": {},
   "outputs": [
    {
     "data": {
      "text/html": [
       "<div>\n",
       "<style scoped>\n",
       "    .dataframe tbody tr th:only-of-type {\n",
       "        vertical-align: middle;\n",
       "    }\n",
       "\n",
       "    .dataframe tbody tr th {\n",
       "        vertical-align: top;\n",
       "    }\n",
       "\n",
       "    .dataframe thead th {\n",
       "        text-align: right;\n",
       "    }\n",
       "</style>\n",
       "<table border=\"1\" class=\"dataframe\">\n",
       "  <thead>\n",
       "    <tr style=\"text-align: right;\">\n",
       "      <th></th>\n",
       "      <th>time</th>\n",
       "      <th>volume</th>\n",
       "      <th>mid_o</th>\n",
       "      <th>mid_h</th>\n",
       "      <th>mid_l</th>\n",
       "      <th>mid_c</th>\n",
       "      <th>bid_o</th>\n",
       "      <th>bid_h</th>\n",
       "      <th>bid_l</th>\n",
       "      <th>bid_c</th>\n",
       "      <th>ask_o</th>\n",
       "      <th>ask_h</th>\n",
       "      <th>ask_l</th>\n",
       "      <th>ask_c</th>\n",
       "      <th>RSI_14</th>\n",
       "    </tr>\n",
       "  </thead>\n",
       "  <tbody>\n",
       "    <tr>\n",
       "      <th>37214</th>\n",
       "      <td>2021-12-30 19:00:00+00:00</td>\n",
       "      <td>1063</td>\n",
       "      <td>1.13058</td>\n",
       "      <td>1.13298</td>\n",
       "      <td>1.13043</td>\n",
       "      <td>1.13274</td>\n",
       "      <td>1.13052</td>\n",
       "      <td>1.13291</td>\n",
       "      <td>1.13036</td>\n",
       "      <td>1.13267</td>\n",
       "      <td>1.13065</td>\n",
       "      <td>1.13306</td>\n",
       "      <td>1.13049</td>\n",
       "      <td>1.13280</td>\n",
       "      <td>51.407635</td>\n",
       "    </tr>\n",
       "    <tr>\n",
       "      <th>37215</th>\n",
       "      <td>2021-12-30 20:00:00+00:00</td>\n",
       "      <td>1092</td>\n",
       "      <td>1.13272</td>\n",
       "      <td>1.13304</td>\n",
       "      <td>1.13185</td>\n",
       "      <td>1.13193</td>\n",
       "      <td>1.13264</td>\n",
       "      <td>1.13297</td>\n",
       "      <td>1.13177</td>\n",
       "      <td>1.13186</td>\n",
       "      <td>1.13279</td>\n",
       "      <td>1.13311</td>\n",
       "      <td>1.13192</td>\n",
       "      <td>1.13200</td>\n",
       "      <td>48.671929</td>\n",
       "    </tr>\n",
       "    <tr>\n",
       "      <th>37216</th>\n",
       "      <td>2021-12-30 21:00:00+00:00</td>\n",
       "      <td>388</td>\n",
       "      <td>1.13195</td>\n",
       "      <td>1.13276</td>\n",
       "      <td>1.13194</td>\n",
       "      <td>1.13258</td>\n",
       "      <td>1.13188</td>\n",
       "      <td>1.13269</td>\n",
       "      <td>1.13187</td>\n",
       "      <td>1.13249</td>\n",
       "      <td>1.13202</td>\n",
       "      <td>1.13283</td>\n",
       "      <td>1.13201</td>\n",
       "      <td>1.13267</td>\n",
       "      <td>50.928675</td>\n",
       "    </tr>\n",
       "    <tr>\n",
       "      <th>37217</th>\n",
       "      <td>2021-12-30 22:00:00+00:00</td>\n",
       "      <td>118</td>\n",
       "      <td>1.13252</td>\n",
       "      <td>1.13264</td>\n",
       "      <td>1.13222</td>\n",
       "      <td>1.13230</td>\n",
       "      <td>1.13204</td>\n",
       "      <td>1.13236</td>\n",
       "      <td>1.13182</td>\n",
       "      <td>1.13218</td>\n",
       "      <td>1.13299</td>\n",
       "      <td>1.13299</td>\n",
       "      <td>1.13236</td>\n",
       "      <td>1.13243</td>\n",
       "      <td>49.910668</td>\n",
       "    </tr>\n",
       "    <tr>\n",
       "      <th>37218</th>\n",
       "      <td>2021-12-30 23:00:00+00:00</td>\n",
       "      <td>507</td>\n",
       "      <td>1.13227</td>\n",
       "      <td>1.13258</td>\n",
       "      <td>1.13190</td>\n",
       "      <td>1.13224</td>\n",
       "      <td>1.13214</td>\n",
       "      <td>1.13251</td>\n",
       "      <td>1.13183</td>\n",
       "      <td>1.13216</td>\n",
       "      <td>1.13240</td>\n",
       "      <td>1.13266</td>\n",
       "      <td>1.13198</td>\n",
       "      <td>1.13231</td>\n",
       "      <td>49.681497</td>\n",
       "    </tr>\n",
       "  </tbody>\n",
       "</table>\n",
       "</div>"
      ],
      "text/plain": [
       "                           time  volume    mid_o    mid_h    mid_l    mid_c  \\\n",
       "37214 2021-12-30 19:00:00+00:00    1063  1.13058  1.13298  1.13043  1.13274   \n",
       "37215 2021-12-30 20:00:00+00:00    1092  1.13272  1.13304  1.13185  1.13193   \n",
       "37216 2021-12-30 21:00:00+00:00     388  1.13195  1.13276  1.13194  1.13258   \n",
       "37217 2021-12-30 22:00:00+00:00     118  1.13252  1.13264  1.13222  1.13230   \n",
       "37218 2021-12-30 23:00:00+00:00     507  1.13227  1.13258  1.13190  1.13224   \n",
       "\n",
       "         bid_o    bid_h    bid_l    bid_c    ask_o    ask_h    ask_l    ask_c  \\\n",
       "37214  1.13052  1.13291  1.13036  1.13267  1.13065  1.13306  1.13049  1.13280   \n",
       "37215  1.13264  1.13297  1.13177  1.13186  1.13279  1.13311  1.13192  1.13200   \n",
       "37216  1.13188  1.13269  1.13187  1.13249  1.13202  1.13283  1.13201  1.13267   \n",
       "37217  1.13204  1.13236  1.13182  1.13218  1.13299  1.13299  1.13236  1.13243   \n",
       "37218  1.13214  1.13251  1.13183  1.13216  1.13240  1.13266  1.13198  1.13231   \n",
       "\n",
       "          RSI_14  \n",
       "37214  51.407635  \n",
       "37215  48.671929  \n",
       "37216  50.928675  \n",
       "37217  49.910668  \n",
       "37218  49.681497  "
      ]
     },
     "execution_count": 91,
     "metadata": {},
     "output_type": "execute_result"
    }
   ],
   "source": [
    "df_an.tail()"
   ]
  },
  {
   "cell_type": "code",
   "execution_count": 92,
   "id": "50e3bf0e-0ab6-405d-ae5f-04dda1d69187",
   "metadata": {},
   "outputs": [],
   "source": [
    "df_an = apply_patterns(df_an)"
   ]
  },
  {
   "cell_type": "code",
   "execution_count": 93,
   "id": "913012b2-1b10-4a83-a9c1-3eca94938223",
   "metadata": {},
   "outputs": [],
   "source": [
    "df_an['EMA_200'] = df_an.mid_c.ewm(span=200, min_periods=200).mean()"
   ]
  },
  {
   "cell_type": "code",
   "execution_count": 94,
   "id": "63f0dd94-fb60-4d82-8fb3-828fff9de45b",
   "metadata": {},
   "outputs": [
    {
     "data": {
      "text/plain": [
       "Index(['time', 'volume', 'mid_o', 'mid_h', 'mid_l', 'mid_c', 'bid_o', 'bid_h',\n",
       "       'bid_l', 'bid_c', 'ask_o', 'ask_h', 'ask_l', 'ask_c', 'RSI_14',\n",
       "       'body_lower', 'body_upper', 'body_bottom_perc', 'body_top_perc',\n",
       "       'body_perc', 'direction', 'body_size', 'low_change', 'high_change',\n",
       "       'body_size_change', 'mid_point', 'mid_point_prev_2', 'body_size_prev',\n",
       "       'direction_prev', 'direction_prev_2', 'body_perc_prev',\n",
       "       'body_perc_prev_2', 'HANGING_MAN', 'SHOOTING_STAR', 'SPINNING_TOP',\n",
       "       'MARUBOZU', 'ENGULFING', 'TWEEZER_TOP', 'TWEEZER_BOTTOM',\n",
       "       'MORNING_STAR', 'EVENING_STAR', 'EMA_200'],\n",
       "      dtype='object')"
      ]
     },
     "execution_count": 94,
     "metadata": {},
     "output_type": "execute_result"
    }
   ],
   "source": [
    "df_an.columns"
   ]
  },
  {
   "cell_type": "code",
   "execution_count": 95,
   "id": "17bf6a39-2043-46a4-9a0d-25c869ddcaf3",
   "metadata": {},
   "outputs": [],
   "source": [
    "our_cols = ['time', 'mid_o', 'mid_h', 'mid_l', 'mid_c', \n",
    "            'ask_c', 'bid_c', 'ENGULFING', 'direction', 'EMA_200', 'RSI_14']"
   ]
  },
  {
   "cell_type": "code",
   "execution_count": 96,
   "id": "5356c5ad-1a51-4221-b18c-f5e5cb5dd63b",
   "metadata": {},
   "outputs": [],
   "source": [
    "df_slim = df_an[our_cols].copy()\n",
    "df_slim.dropna(inplace=True)\n",
    "df_slim.reset_index(drop=True, inplace=True)"
   ]
  },
  {
   "cell_type": "code",
   "execution_count": 97,
   "id": "a6780d9a-6bad-4735-9ce3-cccbfcfee9bf",
   "metadata": {},
   "outputs": [
    {
     "data": {
      "text/html": [
       "<div>\n",
       "<style scoped>\n",
       "    .dataframe tbody tr th:only-of-type {\n",
       "        vertical-align: middle;\n",
       "    }\n",
       "\n",
       "    .dataframe tbody tr th {\n",
       "        vertical-align: top;\n",
       "    }\n",
       "\n",
       "    .dataframe thead th {\n",
       "        text-align: right;\n",
       "    }\n",
       "</style>\n",
       "<table border=\"1\" class=\"dataframe\">\n",
       "  <thead>\n",
       "    <tr style=\"text-align: right;\">\n",
       "      <th></th>\n",
       "      <th>time</th>\n",
       "      <th>mid_o</th>\n",
       "      <th>mid_h</th>\n",
       "      <th>mid_l</th>\n",
       "      <th>mid_c</th>\n",
       "      <th>ask_c</th>\n",
       "      <th>bid_c</th>\n",
       "      <th>ENGULFING</th>\n",
       "      <th>direction</th>\n",
       "      <th>EMA_200</th>\n",
       "      <th>RSI_14</th>\n",
       "    </tr>\n",
       "  </thead>\n",
       "  <tbody>\n",
       "    <tr>\n",
       "      <th>0</th>\n",
       "      <td>2016-01-19 07:00:00+00:00</td>\n",
       "      <td>1.08736</td>\n",
       "      <td>1.08764</td>\n",
       "      <td>1.08595</td>\n",
       "      <td>1.08652</td>\n",
       "      <td>1.08660</td>\n",
       "      <td>1.08645</td>\n",
       "      <td>False</td>\n",
       "      <td>-1</td>\n",
       "      <td>1.088334</td>\n",
       "      <td>36.239350</td>\n",
       "    </tr>\n",
       "    <tr>\n",
       "      <th>1</th>\n",
       "      <td>2016-01-19 08:00:00+00:00</td>\n",
       "      <td>1.08654</td>\n",
       "      <td>1.08846</td>\n",
       "      <td>1.08636</td>\n",
       "      <td>1.08846</td>\n",
       "      <td>1.08861</td>\n",
       "      <td>1.08832</td>\n",
       "      <td>True</td>\n",
       "      <td>1</td>\n",
       "      <td>1.088336</td>\n",
       "      <td>47.615598</td>\n",
       "    </tr>\n",
       "    <tr>\n",
       "      <th>2</th>\n",
       "      <td>2016-01-19 09:00:00+00:00</td>\n",
       "      <td>1.08844</td>\n",
       "      <td>1.08890</td>\n",
       "      <td>1.08702</td>\n",
       "      <td>1.08724</td>\n",
       "      <td>1.08749</td>\n",
       "      <td>1.08699</td>\n",
       "      <td>False</td>\n",
       "      <td>-1</td>\n",
       "      <td>1.088323</td>\n",
       "      <td>42.482293</td>\n",
       "    </tr>\n",
       "    <tr>\n",
       "      <th>3</th>\n",
       "      <td>2016-01-19 10:00:00+00:00</td>\n",
       "      <td>1.08728</td>\n",
       "      <td>1.08834</td>\n",
       "      <td>1.08662</td>\n",
       "      <td>1.08730</td>\n",
       "      <td>1.08737</td>\n",
       "      <td>1.08722</td>\n",
       "      <td>False</td>\n",
       "      <td>1</td>\n",
       "      <td>1.088312</td>\n",
       "      <td>42.808846</td>\n",
       "    </tr>\n",
       "    <tr>\n",
       "      <th>4</th>\n",
       "      <td>2016-01-19 11:00:00+00:00</td>\n",
       "      <td>1.08728</td>\n",
       "      <td>1.08732</td>\n",
       "      <td>1.08599</td>\n",
       "      <td>1.08630</td>\n",
       "      <td>1.08637</td>\n",
       "      <td>1.08623</td>\n",
       "      <td>True</td>\n",
       "      <td>-1</td>\n",
       "      <td>1.088289</td>\n",
       "      <td>38.849941</td>\n",
       "    </tr>\n",
       "  </tbody>\n",
       "</table>\n",
       "</div>"
      ],
      "text/plain": [
       "                       time    mid_o    mid_h    mid_l    mid_c    ask_c  \\\n",
       "0 2016-01-19 07:00:00+00:00  1.08736  1.08764  1.08595  1.08652  1.08660   \n",
       "1 2016-01-19 08:00:00+00:00  1.08654  1.08846  1.08636  1.08846  1.08861   \n",
       "2 2016-01-19 09:00:00+00:00  1.08844  1.08890  1.08702  1.08724  1.08749   \n",
       "3 2016-01-19 10:00:00+00:00  1.08728  1.08834  1.08662  1.08730  1.08737   \n",
       "4 2016-01-19 11:00:00+00:00  1.08728  1.08732  1.08599  1.08630  1.08637   \n",
       "\n",
       "     bid_c  ENGULFING  direction   EMA_200     RSI_14  \n",
       "0  1.08645      False         -1  1.088334  36.239350  \n",
       "1  1.08832       True          1  1.088336  47.615598  \n",
       "2  1.08699      False         -1  1.088323  42.482293  \n",
       "3  1.08722      False          1  1.088312  42.808846  \n",
       "4  1.08623       True         -1  1.088289  38.849941  "
      ]
     },
     "execution_count": 97,
     "metadata": {},
     "output_type": "execute_result"
    }
   ],
   "source": [
    "df_slim.head()"
   ]
  },
  {
   "cell_type": "code",
   "execution_count": 98,
   "id": "99f60e97-194d-4fba-965a-f6bb42401e00",
   "metadata": {},
   "outputs": [],
   "source": [
    "BUY = 1\n",
    "SELL = -1\n",
    "NONE = 0\n",
    "RSI_LIMIT = 50.0\n",
    "\n",
    "def apply_signal(row):\n",
    "    if row.ENGULFING == True:\n",
    "        if row.direction == BUY and row.mid_l > row.EMA_200:\n",
    "            if row.RSI_14 > RSI_LIMIT:\n",
    "                return BUY\n",
    "        if row.direction == SELL and row.mid_h < row.EMA_200:\n",
    "            if row.RSI_14 < RSI_LIMIT:\n",
    "                return SELL\n",
    "    return NONE"
   ]
  },
  {
   "cell_type": "code",
   "execution_count": 99,
   "id": "bda35be3-0b89-46e5-a346-09aa2b0e117f",
   "metadata": {},
   "outputs": [],
   "source": [
    "df_slim[\"SIGNAL\"] = df_slim.apply(apply_signal, axis=1)"
   ]
  },
  {
   "cell_type": "code",
   "execution_count": 100,
   "id": "1fa18c5a-4b76-4b83-a68d-00b049e75893",
   "metadata": {},
   "outputs": [
    {
     "data": {
      "text/plain": [
       "SIGNAL\n",
       " 0    33779\n",
       "-1     1635\n",
       " 1     1606\n",
       "Name: count, dtype: int64"
      ]
     },
     "execution_count": 100,
     "metadata": {},
     "output_type": "execute_result"
    }
   ],
   "source": [
    "df_slim[\"SIGNAL\"].value_counts()"
   ]
  },
  {
   "cell_type": "code",
   "execution_count": 101,
   "id": "887fe8ef-0a7d-49d7-b1eb-4edf6ca223e9",
   "metadata": {},
   "outputs": [],
   "source": [
    "LOSS_FACTOR = -1.0\n",
    "PROFIT_FACTOR = 1.5\n",
    "\n",
    "def apply_take_profit(row):\n",
    "    if row.SIGNAL != NONE:\n",
    "        return (row.mid_c - row.mid_o) * PROFIT_FACTOR + row.mid_c\n",
    "    else:\n",
    "        return 0.0\n",
    "\n",
    "def apply_stop_loss(row):\n",
    "    if row.SIGNAL != NONE:\n",
    "        return row.mid_o\n",
    "    else:\n",
    "        return 0.0"
   ]
  },
  {
   "cell_type": "code",
   "execution_count": 102,
   "id": "1a89a36e-80b2-4c7d-bfa4-1f691531f5a8",
   "metadata": {},
   "outputs": [],
   "source": [
    "df_slim[\"TP\"] = df_slim.apply(apply_take_profit, axis=1)\n",
    "df_slim[\"SL\"] = df_slim.apply(apply_stop_loss, axis=1)"
   ]
  },
  {
   "cell_type": "code",
   "execution_count": 103,
   "id": "f6e7fd5f-b06f-4657-8b62-a76590d16a0b",
   "metadata": {},
   "outputs": [
    {
     "data": {
      "text/html": [
       "<div>\n",
       "<style scoped>\n",
       "    .dataframe tbody tr th:only-of-type {\n",
       "        vertical-align: middle;\n",
       "    }\n",
       "\n",
       "    .dataframe tbody tr th {\n",
       "        vertical-align: top;\n",
       "    }\n",
       "\n",
       "    .dataframe thead th {\n",
       "        text-align: right;\n",
       "    }\n",
       "</style>\n",
       "<table border=\"1\" class=\"dataframe\">\n",
       "  <thead>\n",
       "    <tr style=\"text-align: right;\">\n",
       "      <th></th>\n",
       "      <th>time</th>\n",
       "      <th>mid_o</th>\n",
       "      <th>mid_h</th>\n",
       "      <th>mid_l</th>\n",
       "      <th>mid_c</th>\n",
       "      <th>ask_c</th>\n",
       "      <th>bid_c</th>\n",
       "      <th>ENGULFING</th>\n",
       "      <th>direction</th>\n",
       "      <th>EMA_200</th>\n",
       "      <th>RSI_14</th>\n",
       "      <th>SIGNAL</th>\n",
       "      <th>TP</th>\n",
       "      <th>SL</th>\n",
       "    </tr>\n",
       "  </thead>\n",
       "  <tbody>\n",
       "    <tr>\n",
       "      <th>15</th>\n",
       "      <td>2016-01-19 22:00:00+00:00</td>\n",
       "      <td>1.09060</td>\n",
       "      <td>1.09143</td>\n",
       "      <td>1.09052</td>\n",
       "      <td>1.09140</td>\n",
       "      <td>1.09153</td>\n",
       "      <td>1.09127</td>\n",
       "      <td>True</td>\n",
       "      <td>1</td>\n",
       "      <td>1.088541</td>\n",
       "      <td>57.545307</td>\n",
       "      <td>1</td>\n",
       "      <td>1.092600</td>\n",
       "      <td>1.09060</td>\n",
       "    </tr>\n",
       "    <tr>\n",
       "      <th>17</th>\n",
       "      <td>2016-01-20 00:00:00+00:00</td>\n",
       "      <td>1.09112</td>\n",
       "      <td>1.09246</td>\n",
       "      <td>1.09100</td>\n",
       "      <td>1.09214</td>\n",
       "      <td>1.09223</td>\n",
       "      <td>1.09206</td>\n",
       "      <td>True</td>\n",
       "      <td>1</td>\n",
       "      <td>1.088610</td>\n",
       "      <td>59.970073</td>\n",
       "      <td>1</td>\n",
       "      <td>1.093670</td>\n",
       "      <td>1.09112</td>\n",
       "    </tr>\n",
       "    <tr>\n",
       "      <th>23</th>\n",
       "      <td>2016-01-20 06:00:00+00:00</td>\n",
       "      <td>1.09491</td>\n",
       "      <td>1.09635</td>\n",
       "      <td>1.09491</td>\n",
       "      <td>1.09546</td>\n",
       "      <td>1.09554</td>\n",
       "      <td>1.09538</td>\n",
       "      <td>True</td>\n",
       "      <td>1</td>\n",
       "      <td>1.088985</td>\n",
       "      <td>68.866726</td>\n",
       "      <td>1</td>\n",
       "      <td>1.096285</td>\n",
       "      <td>1.09491</td>\n",
       "    </tr>\n",
       "    <tr>\n",
       "      <th>25</th>\n",
       "      <td>2016-01-20 08:00:00+00:00</td>\n",
       "      <td>1.09398</td>\n",
       "      <td>1.09760</td>\n",
       "      <td>1.09397</td>\n",
       "      <td>1.09625</td>\n",
       "      <td>1.09631</td>\n",
       "      <td>1.09619</td>\n",
       "      <td>True</td>\n",
       "      <td>1</td>\n",
       "      <td>1.089121</td>\n",
       "      <td>67.087323</td>\n",
       "      <td>1</td>\n",
       "      <td>1.099655</td>\n",
       "      <td>1.09398</td>\n",
       "    </tr>\n",
       "    <tr>\n",
       "      <th>146</th>\n",
       "      <td>2016-01-27 09:00:00+00:00</td>\n",
       "      <td>1.08673</td>\n",
       "      <td>1.08764</td>\n",
       "      <td>1.08665</td>\n",
       "      <td>1.08726</td>\n",
       "      <td>1.08732</td>\n",
       "      <td>1.08719</td>\n",
       "      <td>True</td>\n",
       "      <td>1</td>\n",
       "      <td>1.085983</td>\n",
       "      <td>60.955020</td>\n",
       "      <td>1</td>\n",
       "      <td>1.088055</td>\n",
       "      <td>1.08673</td>\n",
       "    </tr>\n",
       "  </tbody>\n",
       "</table>\n",
       "</div>"
      ],
      "text/plain": [
       "                         time    mid_o    mid_h    mid_l    mid_c    ask_c  \\\n",
       "15  2016-01-19 22:00:00+00:00  1.09060  1.09143  1.09052  1.09140  1.09153   \n",
       "17  2016-01-20 00:00:00+00:00  1.09112  1.09246  1.09100  1.09214  1.09223   \n",
       "23  2016-01-20 06:00:00+00:00  1.09491  1.09635  1.09491  1.09546  1.09554   \n",
       "25  2016-01-20 08:00:00+00:00  1.09398  1.09760  1.09397  1.09625  1.09631   \n",
       "146 2016-01-27 09:00:00+00:00  1.08673  1.08764  1.08665  1.08726  1.08732   \n",
       "\n",
       "       bid_c  ENGULFING  direction   EMA_200     RSI_14  SIGNAL        TP  \\\n",
       "15   1.09127       True          1  1.088541  57.545307       1  1.092600   \n",
       "17   1.09206       True          1  1.088610  59.970073       1  1.093670   \n",
       "23   1.09538       True          1  1.088985  68.866726       1  1.096285   \n",
       "25   1.09619       True          1  1.089121  67.087323       1  1.099655   \n",
       "146  1.08719       True          1  1.085983  60.955020       1  1.088055   \n",
       "\n",
       "          SL  \n",
       "15   1.09060  \n",
       "17   1.09112  \n",
       "23   1.09491  \n",
       "25   1.09398  \n",
       "146  1.08673  "
      ]
     },
     "execution_count": 103,
     "metadata": {},
     "output_type": "execute_result"
    }
   ],
   "source": [
    "df_slim[df_slim.SIGNAL==BUY].head()"
   ]
  },
  {
   "cell_type": "code",
   "execution_count": 85,
   "id": "310e4530-0284-4909-b537-ae90649e91b4",
   "metadata": {},
   "outputs": [
    {
     "data": {
      "application/vnd.plotly.v1+json": {
       "config": {
        "plotlyServerURL": "https://plot.ly"
       },
       "data": [
        {
         "close": [
          167.988,
          168.086,
          168.058,
          168.67,
          168.787,
          168.486,
          168.914,
          169.342,
          169.142,
          169.932,
          169.84,
          169.366,
          169.414,
          169.844,
          169.6,
          169.674,
          169.425,
          169.426,
          168.996,
          169.176,
          169.56,
          169.826,
          169.834,
          169.84,
          169.718,
          169.875,
          169.27,
          168.83,
          168.83,
          168.632
         ],
         "decreasing": {
          "fillcolor": "#CC2E3C",
          "line": {
           "color": "#FF3A4C"
          }
         },
         "high": [
          168.064,
          168.172,
          168.24,
          168.676,
          169.099,
          168.878,
          168.998,
          169.478,
          169.534,
          169.961,
          170.362,
          169.948,
          169.516,
          169.92,
          169.904,
          169.688,
          169.678,
          169.514,
          169.473,
          169.304,
          169.588,
          169.908,
          170.017,
          169.952,
          169.902,
          169.998,
          169.916,
          169.271,
          169.016,
          168.953
         ],
         "increasing": {
          "fillcolor": "#24A06B",
          "line": {
           "color": "#2EC886"
          }
         },
         "line": {
          "width": 1
         },
         "low": [
          167.514,
          167.788,
          167.856,
          167.892,
          168.439,
          168.34,
          168.482,
          168.837,
          168.884,
          169.036,
          169.796,
          169.299,
          169.216,
          169.39,
          169.52,
          169.506,
          169.355,
          169.272,
          168.996,
          168.934,
          169.04,
          169.516,
          169.794,
          169.7,
          169.618,
          169.664,
          169.158,
          168.544,
          168.311,
          168.616
         ],
         "opacity": 1,
         "open": [
          167.523,
          167.988,
          168.088,
          168.056,
          168.676,
          168.782,
          168.491,
          168.914,
          169.344,
          169.14,
          169.914,
          169.84,
          169.366,
          169.414,
          169.838,
          169.598,
          169.674,
          169.311,
          169.422,
          168.992,
          169.176,
          169.562,
          169.825,
          169.829,
          169.839,
          169.718,
          169.874,
          169.27,
          168.834,
          168.83
         ],
         "type": "candlestick",
         "x": [
          "s16-01-22 05:00",
          "s16-01-22 06:00",
          "s16-01-22 07:00",
          "s16-01-22 08:00",
          "s16-01-22 09:00",
          "s16-01-22 10:00",
          "s16-01-22 11:00",
          "s16-01-22 12:00",
          "s16-01-22 13:00",
          "s16-01-22 14:00",
          "s16-01-22 15:00",
          "s16-01-22 16:00",
          "s16-01-22 17:00",
          "s16-01-22 18:00",
          "s16-01-22 19:00",
          "s16-01-22 20:00",
          "s16-01-22 21:00",
          "s16-01-24 22:00",
          "s16-01-24 23:00",
          "s16-01-25 00:00",
          "s16-01-25 01:00",
          "s16-01-25 02:00",
          "s16-01-25 03:00",
          "s16-01-25 04:00",
          "s16-01-25 05:00",
          "s16-01-25 06:00",
          "s16-01-25 07:00",
          "s16-01-25 08:00",
          "s16-01-25 09:00",
          "s16-01-25 10:00"
         ]
        },
        {
         "marker": {
          "color": "#0000FF",
          "size": 12
         },
         "mode": "markers",
         "type": "scatter",
         "x": [
          "s16-01-22 08:00",
          "s16-01-22 11:00",
          "s16-01-22 14:00",
          "s16-01-25 06:00"
         ],
         "y": [
          168.67,
          168.914,
          169.932,
          169.875
         ]
        },
        {
         "marker": {
          "color": "#00FF00",
          "size": 12
         },
         "mode": "markers",
         "type": "scatter",
         "x": [
          "s16-01-22 08:00",
          "s16-01-22 11:00",
          "s16-01-22 14:00",
          "s16-01-25 06:00"
         ],
         "y": [
          169.59099999999995,
          169.54849999999993,
          171.12,
          170.1105
         ]
        },
        {
         "marker": {
          "color": "#FF0000",
          "size": 12
         },
         "mode": "markers",
         "type": "scatter",
         "x": [
          "s16-01-22 08:00",
          "s16-01-22 11:00",
          "s16-01-22 14:00",
          "s16-01-25 06:00"
         ],
         "y": [
          168.056,
          168.491,
          169.14,
          169.718
         ]
        },
        {
         "line": {
          "shape": "spline",
          "width": 2
         },
         "name": "EMA_200",
         "type": "scatter",
         "x": [
          "s16-01-22 05:00",
          "s16-01-22 06:00",
          "s16-01-22 07:00",
          "s16-01-22 08:00",
          "s16-01-22 09:00",
          "s16-01-22 10:00",
          "s16-01-22 11:00",
          "s16-01-22 12:00",
          "s16-01-22 13:00",
          "s16-01-22 14:00",
          "s16-01-22 15:00",
          "s16-01-22 16:00",
          "s16-01-22 17:00",
          "s16-01-22 18:00",
          "s16-01-22 19:00",
          "s16-01-22 20:00",
          "s16-01-22 21:00",
          "s16-01-24 22:00",
          "s16-01-24 23:00",
          "s16-01-25 00:00",
          "s16-01-25 01:00",
          "s16-01-25 02:00",
          "s16-01-25 03:00",
          "s16-01-25 04:00",
          "s16-01-25 05:00",
          "s16-01-25 06:00",
          "s16-01-25 07:00",
          "s16-01-25 08:00",
          "s16-01-25 09:00",
          "s16-01-25 10:00"
         ],
         "xaxis": "x",
         "y": [
          167.6282286770598,
          167.63310828156617,
          167.63763419664548,
          167.6486231699228,
          167.66073216683873,
          167.66950457554358,
          167.68272429475485,
          167.70033819777402,
          167.715631865677,
          167.73912843415332,
          167.76138608648927,
          167.77837519955813,
          167.79568161410657,
          167.8173410463391,
          167.83617957384178,
          167.85558904528037,
          167.87215368866202,
          167.88854414504553,
          167.90021895314385,
          167.91366029267112,
          167.93099560388885,
          167.950937703089,
          167.97074277598318,
          167.9903915088735,
          168.00854111157932,
          168.02813854025058,
          168.04117066461097,
          168.0494441599161,
          168.0576264774683,
          168.06364424759045
         ],
         "yaxis": "y"
        },
        {
         "line": {
          "shape": "spline",
          "width": 2
         },
         "name": "RSI_14",
         "type": "scatter",
         "x": [
          "s16-01-22 05:00",
          "s16-01-22 06:00",
          "s16-01-22 07:00",
          "s16-01-22 08:00",
          "s16-01-22 09:00",
          "s16-01-22 10:00",
          "s16-01-22 11:00",
          "s16-01-22 12:00",
          "s16-01-22 13:00",
          "s16-01-22 14:00",
          "s16-01-22 15:00",
          "s16-01-22 16:00",
          "s16-01-22 17:00",
          "s16-01-22 18:00",
          "s16-01-22 19:00",
          "s16-01-22 20:00",
          "s16-01-22 21:00",
          "s16-01-24 22:00",
          "s16-01-24 23:00",
          "s16-01-25 00:00",
          "s16-01-25 01:00",
          "s16-01-25 02:00",
          "s16-01-25 03:00",
          "s16-01-25 04:00",
          "s16-01-25 05:00",
          "s16-01-25 06:00",
          "s16-01-25 07:00",
          "s16-01-25 08:00",
          "s16-01-25 09:00",
          "s16-01-25 10:00"
         ],
         "xaxis": "x",
         "y": [
          66.52199740094461,
          67.40735272362372,
          66.86327325675137,
          72.15380166807174,
          73.03999511461201,
          67.12177176649472,
          70.75092055915692,
          73.85843167413577,
          70.1099855244957,
          75.41717671046236,
          73.77435864628248,
          65.81923021026716,
          66.2165076240203,
          69.62272775043147,
          65.58200623443415,
          66.22227867787811,
          62.04008668838728,
          62.05045222491881,
          55.08494661347466,
          57.24840596967976,
          61.5080219938214,
          64.17111610938116,
          64.25122311663483,
          64.31566389766036,
          61.87337693338535,
          63.779533122488736,
          52.82048293240642,
          46.55518634333426,
          46.55518634333426,
          43.84122399552543
         ],
         "yaxis": "y2"
        }
       ],
       "layout": {
        "font": {
         "color": "#e1e1e1",
         "size": 8
        },
        "height": 250,
        "margin": {
         "b": 10,
         "l": 10,
         "r": 10,
         "t": 10
        },
        "paper_bgcolor": "#2c303c",
        "plot_bgcolor": "#2c303c",
        "template": {
         "data": {
          "bar": [
           {
            "error_x": {
             "color": "#2a3f5f"
            },
            "error_y": {
             "color": "#2a3f5f"
            },
            "marker": {
             "line": {
              "color": "#E5ECF6",
              "width": 0.5
             },
             "pattern": {
              "fillmode": "overlay",
              "size": 10,
              "solidity": 0.2
             }
            },
            "type": "bar"
           }
          ],
          "barpolar": [
           {
            "marker": {
             "line": {
              "color": "#E5ECF6",
              "width": 0.5
             },
             "pattern": {
              "fillmode": "overlay",
              "size": 10,
              "solidity": 0.2
             }
            },
            "type": "barpolar"
           }
          ],
          "carpet": [
           {
            "aaxis": {
             "endlinecolor": "#2a3f5f",
             "gridcolor": "white",
             "linecolor": "white",
             "minorgridcolor": "white",
             "startlinecolor": "#2a3f5f"
            },
            "baxis": {
             "endlinecolor": "#2a3f5f",
             "gridcolor": "white",
             "linecolor": "white",
             "minorgridcolor": "white",
             "startlinecolor": "#2a3f5f"
            },
            "type": "carpet"
           }
          ],
          "choropleth": [
           {
            "colorbar": {
             "outlinewidth": 0,
             "ticks": ""
            },
            "type": "choropleth"
           }
          ],
          "contour": [
           {
            "colorbar": {
             "outlinewidth": 0,
             "ticks": ""
            },
            "colorscale": [
             [
              0,
              "#0d0887"
             ],
             [
              0.1111111111111111,
              "#46039f"
             ],
             [
              0.2222222222222222,
              "#7201a8"
             ],
             [
              0.3333333333333333,
              "#9c179e"
             ],
             [
              0.4444444444444444,
              "#bd3786"
             ],
             [
              0.5555555555555556,
              "#d8576b"
             ],
             [
              0.6666666666666666,
              "#ed7953"
             ],
             [
              0.7777777777777778,
              "#fb9f3a"
             ],
             [
              0.8888888888888888,
              "#fdca26"
             ],
             [
              1,
              "#f0f921"
             ]
            ],
            "type": "contour"
           }
          ],
          "contourcarpet": [
           {
            "colorbar": {
             "outlinewidth": 0,
             "ticks": ""
            },
            "type": "contourcarpet"
           }
          ],
          "heatmap": [
           {
            "colorbar": {
             "outlinewidth": 0,
             "ticks": ""
            },
            "colorscale": [
             [
              0,
              "#0d0887"
             ],
             [
              0.1111111111111111,
              "#46039f"
             ],
             [
              0.2222222222222222,
              "#7201a8"
             ],
             [
              0.3333333333333333,
              "#9c179e"
             ],
             [
              0.4444444444444444,
              "#bd3786"
             ],
             [
              0.5555555555555556,
              "#d8576b"
             ],
             [
              0.6666666666666666,
              "#ed7953"
             ],
             [
              0.7777777777777778,
              "#fb9f3a"
             ],
             [
              0.8888888888888888,
              "#fdca26"
             ],
             [
              1,
              "#f0f921"
             ]
            ],
            "type": "heatmap"
           }
          ],
          "heatmapgl": [
           {
            "colorbar": {
             "outlinewidth": 0,
             "ticks": ""
            },
            "colorscale": [
             [
              0,
              "#0d0887"
             ],
             [
              0.1111111111111111,
              "#46039f"
             ],
             [
              0.2222222222222222,
              "#7201a8"
             ],
             [
              0.3333333333333333,
              "#9c179e"
             ],
             [
              0.4444444444444444,
              "#bd3786"
             ],
             [
              0.5555555555555556,
              "#d8576b"
             ],
             [
              0.6666666666666666,
              "#ed7953"
             ],
             [
              0.7777777777777778,
              "#fb9f3a"
             ],
             [
              0.8888888888888888,
              "#fdca26"
             ],
             [
              1,
              "#f0f921"
             ]
            ],
            "type": "heatmapgl"
           }
          ],
          "histogram": [
           {
            "marker": {
             "pattern": {
              "fillmode": "overlay",
              "size": 10,
              "solidity": 0.2
             }
            },
            "type": "histogram"
           }
          ],
          "histogram2d": [
           {
            "colorbar": {
             "outlinewidth": 0,
             "ticks": ""
            },
            "colorscale": [
             [
              0,
              "#0d0887"
             ],
             [
              0.1111111111111111,
              "#46039f"
             ],
             [
              0.2222222222222222,
              "#7201a8"
             ],
             [
              0.3333333333333333,
              "#9c179e"
             ],
             [
              0.4444444444444444,
              "#bd3786"
             ],
             [
              0.5555555555555556,
              "#d8576b"
             ],
             [
              0.6666666666666666,
              "#ed7953"
             ],
             [
              0.7777777777777778,
              "#fb9f3a"
             ],
             [
              0.8888888888888888,
              "#fdca26"
             ],
             [
              1,
              "#f0f921"
             ]
            ],
            "type": "histogram2d"
           }
          ],
          "histogram2dcontour": [
           {
            "colorbar": {
             "outlinewidth": 0,
             "ticks": ""
            },
            "colorscale": [
             [
              0,
              "#0d0887"
             ],
             [
              0.1111111111111111,
              "#46039f"
             ],
             [
              0.2222222222222222,
              "#7201a8"
             ],
             [
              0.3333333333333333,
              "#9c179e"
             ],
             [
              0.4444444444444444,
              "#bd3786"
             ],
             [
              0.5555555555555556,
              "#d8576b"
             ],
             [
              0.6666666666666666,
              "#ed7953"
             ],
             [
              0.7777777777777778,
              "#fb9f3a"
             ],
             [
              0.8888888888888888,
              "#fdca26"
             ],
             [
              1,
              "#f0f921"
             ]
            ],
            "type": "histogram2dcontour"
           }
          ],
          "mesh3d": [
           {
            "colorbar": {
             "outlinewidth": 0,
             "ticks": ""
            },
            "type": "mesh3d"
           }
          ],
          "parcoords": [
           {
            "line": {
             "colorbar": {
              "outlinewidth": 0,
              "ticks": ""
             }
            },
            "type": "parcoords"
           }
          ],
          "pie": [
           {
            "automargin": true,
            "type": "pie"
           }
          ],
          "scatter": [
           {
            "fillpattern": {
             "fillmode": "overlay",
             "size": 10,
             "solidity": 0.2
            },
            "type": "scatter"
           }
          ],
          "scatter3d": [
           {
            "line": {
             "colorbar": {
              "outlinewidth": 0,
              "ticks": ""
             }
            },
            "marker": {
             "colorbar": {
              "outlinewidth": 0,
              "ticks": ""
             }
            },
            "type": "scatter3d"
           }
          ],
          "scattercarpet": [
           {
            "marker": {
             "colorbar": {
              "outlinewidth": 0,
              "ticks": ""
             }
            },
            "type": "scattercarpet"
           }
          ],
          "scattergeo": [
           {
            "marker": {
             "colorbar": {
              "outlinewidth": 0,
              "ticks": ""
             }
            },
            "type": "scattergeo"
           }
          ],
          "scattergl": [
           {
            "marker": {
             "colorbar": {
              "outlinewidth": 0,
              "ticks": ""
             }
            },
            "type": "scattergl"
           }
          ],
          "scattermapbox": [
           {
            "marker": {
             "colorbar": {
              "outlinewidth": 0,
              "ticks": ""
             }
            },
            "type": "scattermapbox"
           }
          ],
          "scatterpolar": [
           {
            "marker": {
             "colorbar": {
              "outlinewidth": 0,
              "ticks": ""
             }
            },
            "type": "scatterpolar"
           }
          ],
          "scatterpolargl": [
           {
            "marker": {
             "colorbar": {
              "outlinewidth": 0,
              "ticks": ""
             }
            },
            "type": "scatterpolargl"
           }
          ],
          "scatterternary": [
           {
            "marker": {
             "colorbar": {
              "outlinewidth": 0,
              "ticks": ""
             }
            },
            "type": "scatterternary"
           }
          ],
          "surface": [
           {
            "colorbar": {
             "outlinewidth": 0,
             "ticks": ""
            },
            "colorscale": [
             [
              0,
              "#0d0887"
             ],
             [
              0.1111111111111111,
              "#46039f"
             ],
             [
              0.2222222222222222,
              "#7201a8"
             ],
             [
              0.3333333333333333,
              "#9c179e"
             ],
             [
              0.4444444444444444,
              "#bd3786"
             ],
             [
              0.5555555555555556,
              "#d8576b"
             ],
             [
              0.6666666666666666,
              "#ed7953"
             ],
             [
              0.7777777777777778,
              "#fb9f3a"
             ],
             [
              0.8888888888888888,
              "#fdca26"
             ],
             [
              1,
              "#f0f921"
             ]
            ],
            "type": "surface"
           }
          ],
          "table": [
           {
            "cells": {
             "fill": {
              "color": "#EBF0F8"
             },
             "line": {
              "color": "white"
             }
            },
            "header": {
             "fill": {
              "color": "#C8D4E3"
             },
             "line": {
              "color": "white"
             }
            },
            "type": "table"
           }
          ]
         },
         "layout": {
          "annotationdefaults": {
           "arrowcolor": "#2a3f5f",
           "arrowhead": 0,
           "arrowwidth": 1
          },
          "autotypenumbers": "strict",
          "coloraxis": {
           "colorbar": {
            "outlinewidth": 0,
            "ticks": ""
           }
          },
          "colorscale": {
           "diverging": [
            [
             0,
             "#8e0152"
            ],
            [
             0.1,
             "#c51b7d"
            ],
            [
             0.2,
             "#de77ae"
            ],
            [
             0.3,
             "#f1b6da"
            ],
            [
             0.4,
             "#fde0ef"
            ],
            [
             0.5,
             "#f7f7f7"
            ],
            [
             0.6,
             "#e6f5d0"
            ],
            [
             0.7,
             "#b8e186"
            ],
            [
             0.8,
             "#7fbc41"
            ],
            [
             0.9,
             "#4d9221"
            ],
            [
             1,
             "#276419"
            ]
           ],
           "sequential": [
            [
             0,
             "#0d0887"
            ],
            [
             0.1111111111111111,
             "#46039f"
            ],
            [
             0.2222222222222222,
             "#7201a8"
            ],
            [
             0.3333333333333333,
             "#9c179e"
            ],
            [
             0.4444444444444444,
             "#bd3786"
            ],
            [
             0.5555555555555556,
             "#d8576b"
            ],
            [
             0.6666666666666666,
             "#ed7953"
            ],
            [
             0.7777777777777778,
             "#fb9f3a"
            ],
            [
             0.8888888888888888,
             "#fdca26"
            ],
            [
             1,
             "#f0f921"
            ]
           ],
           "sequentialminus": [
            [
             0,
             "#0d0887"
            ],
            [
             0.1111111111111111,
             "#46039f"
            ],
            [
             0.2222222222222222,
             "#7201a8"
            ],
            [
             0.3333333333333333,
             "#9c179e"
            ],
            [
             0.4444444444444444,
             "#bd3786"
            ],
            [
             0.5555555555555556,
             "#d8576b"
            ],
            [
             0.6666666666666666,
             "#ed7953"
            ],
            [
             0.7777777777777778,
             "#fb9f3a"
            ],
            [
             0.8888888888888888,
             "#fdca26"
            ],
            [
             1,
             "#f0f921"
            ]
           ]
          },
          "colorway": [
           "#636efa",
           "#EF553B",
           "#00cc96",
           "#ab63fa",
           "#FFA15A",
           "#19d3f3",
           "#FF6692",
           "#B6E880",
           "#FF97FF",
           "#FECB52"
          ],
          "font": {
           "color": "#2a3f5f"
          },
          "geo": {
           "bgcolor": "white",
           "lakecolor": "white",
           "landcolor": "#E5ECF6",
           "showlakes": true,
           "showland": true,
           "subunitcolor": "white"
          },
          "hoverlabel": {
           "align": "left"
          },
          "hovermode": "closest",
          "mapbox": {
           "style": "light"
          },
          "paper_bgcolor": "white",
          "plot_bgcolor": "#E5ECF6",
          "polar": {
           "angularaxis": {
            "gridcolor": "white",
            "linecolor": "white",
            "ticks": ""
           },
           "bgcolor": "#E5ECF6",
           "radialaxis": {
            "gridcolor": "white",
            "linecolor": "white",
            "ticks": ""
           }
          },
          "scene": {
           "xaxis": {
            "backgroundcolor": "#E5ECF6",
            "gridcolor": "white",
            "gridwidth": 2,
            "linecolor": "white",
            "showbackground": true,
            "ticks": "",
            "zerolinecolor": "white"
           },
           "yaxis": {
            "backgroundcolor": "#E5ECF6",
            "gridcolor": "white",
            "gridwidth": 2,
            "linecolor": "white",
            "showbackground": true,
            "ticks": "",
            "zerolinecolor": "white"
           },
           "zaxis": {
            "backgroundcolor": "#E5ECF6",
            "gridcolor": "white",
            "gridwidth": 2,
            "linecolor": "white",
            "showbackground": true,
            "ticks": "",
            "zerolinecolor": "white"
           }
          },
          "shapedefaults": {
           "line": {
            "color": "#2a3f5f"
           }
          },
          "ternary": {
           "aaxis": {
            "gridcolor": "white",
            "linecolor": "white",
            "ticks": ""
           },
           "baxis": {
            "gridcolor": "white",
            "linecolor": "white",
            "ticks": ""
           },
           "bgcolor": "#E5ECF6",
           "caxis": {
            "gridcolor": "white",
            "linecolor": "white",
            "ticks": ""
           }
          },
          "title": {
           "x": 0.05
          },
          "xaxis": {
           "automargin": true,
           "gridcolor": "white",
           "linecolor": "white",
           "ticks": "",
           "title": {
            "standoff": 15
           },
           "zerolinecolor": "white",
           "zerolinewidth": 2
          },
          "yaxis": {
           "automargin": true,
           "gridcolor": "white",
           "linecolor": "white",
           "ticks": "",
           "title": {
            "standoff": 15
           },
           "zerolinecolor": "white",
           "zerolinewidth": 2
          }
         }
        },
        "width": 900,
        "xaxis": {
         "anchor": "y",
         "autorange": true,
         "domain": [
          0,
          0.94
         ],
         "gridcolor": "#1f292f",
         "nticks": 5,
         "range": [
          -0.5,
          29.5
         ],
         "rangeslider": {
          "visible": false,
          "yaxis": {},
          "yaxis2": {}
         },
         "type": "category"
        },
        "yaxis": {
         "anchor": "x",
         "autorange": true,
         "domain": [
          0,
          1
         ],
         "gridcolor": "#1f292f",
         "range": [
          167.30574208860762,
          171.4709003164557
         ],
         "type": "linear"
        },
        "yaxis2": {
         "anchor": "x",
         "autorange": true,
         "gridcolor": "#1f292f",
         "overlaying": "y",
         "range": [
          42.08700440025116,
          77.17139630573664
         ],
         "side": "right",
         "type": "linear"
        }
       }
      },
      "image/png": "[encoded data removed]",
      "text/html": [
       "<div>                            <div id=\"977013f3-1ff7-4d00-81ed-630bc7d3d0e7\" class=\"plotly-graph-div\" style=\"height:250px; width:900px;\"></div>            <script type=\"text/javascript\">                require([\"plotly\"], function(Plotly) {                    window.PLOTLYENV=window.PLOTLYENV || {};                                    if (document.getElementById(\"977013f3-1ff7-4d00-81ed-630bc7d3d0e7\")) {                    Plotly.newPlot(                        \"977013f3-1ff7-4d00-81ed-630bc7d3d0e7\",                        [{\"close\":[167.988,168.086,168.058,168.67,168.787,168.486,168.914,169.342,169.142,169.932,169.84,169.366,169.414,169.844,169.6,169.674,169.425,169.426,168.996,169.176,169.56,169.826,169.834,169.84,169.718,169.875,169.27,168.83,168.83,168.632],\"decreasing\":{\"fillcolor\":\"#CC2E3C\",\"line\":{\"color\":\"#FF3A4C\"}},\"high\":[168.064,168.172,168.24,168.676,169.099,168.878,168.998,169.478,169.534,169.961,170.362,169.948,169.516,169.92,169.904,169.688,169.678,169.514,169.473,169.304,169.588,169.908,170.017,169.952,169.902,169.998,169.916,169.271,169.016,168.953],\"increasing\":{\"fillcolor\":\"#24A06B\",\"line\":{\"color\":\"#2EC886\"}},\"line\":{\"width\":1},\"low\":[167.514,167.788,167.856,167.892,168.439,168.34,168.482,168.837,168.884,169.036,169.796,169.299,169.216,169.39,169.52,169.506,169.355,169.272,168.996,168.934,169.04,169.516,169.794,169.7,169.618,169.664,169.158,168.544,168.311,168.616],\"opacity\":1,\"open\":[167.523,167.988,168.088,168.056,168.676,168.782,168.491,168.914,169.344,169.14,169.914,169.84,169.366,169.414,169.838,169.598,169.674,169.311,169.422,168.992,169.176,169.562,169.825,169.829,169.839,169.718,169.874,169.27,168.834,168.83],\"x\":[\"s16-01-22 05:00\",\"s16-01-22 06:00\",\"s16-01-22 07:00\",\"s16-01-22 08:00\",\"s16-01-22 09:00\",\"s16-01-22 10:00\",\"s16-01-22 11:00\",\"s16-01-22 12:00\",\"s16-01-22 13:00\",\"s16-01-22 14:00\",\"s16-01-22 15:00\",\"s16-01-22 16:00\",\"s16-01-22 17:00\",\"s16-01-22 18:00\",\"s16-01-22 19:00\",\"s16-01-22 20:00\",\"s16-01-22 21:00\",\"s16-01-24 22:00\",\"s16-01-24 23:00\",\"s16-01-25 00:00\",\"s16-01-25 01:00\",\"s16-01-25 02:00\",\"s16-01-25 03:00\",\"s16-01-25 04:00\",\"s16-01-25 05:00\",\"s16-01-25 06:00\",\"s16-01-25 07:00\",\"s16-01-25 08:00\",\"s16-01-25 09:00\",\"s16-01-25 10:00\"],\"type\":\"candlestick\"},{\"marker\":{\"color\":\"#0000FF\",\"size\":12},\"mode\":\"markers\",\"x\":[\"s16-01-22 08:00\",\"s16-01-22 11:00\",\"s16-01-22 14:00\",\"s16-01-25 06:00\"],\"y\":[168.67,168.914,169.932,169.875],\"type\":\"scatter\"},{\"marker\":{\"color\":\"#00FF00\",\"size\":12},\"mode\":\"markers\",\"x\":[\"s16-01-22 08:00\",\"s16-01-22 11:00\",\"s16-01-22 14:00\",\"s16-01-25 06:00\"],\"y\":[169.59099999999995,169.54849999999993,171.12,170.1105],\"type\":\"scatter\"},{\"marker\":{\"color\":\"#FF0000\",\"size\":12},\"mode\":\"markers\",\"x\":[\"s16-01-22 08:00\",\"s16-01-22 11:00\",\"s16-01-22 14:00\",\"s16-01-25 06:00\"],\"y\":[168.056,168.491,169.14,169.718],\"type\":\"scatter\"},{\"line\":{\"shape\":\"spline\",\"width\":2},\"name\":\"EMA_200\",\"x\":[\"s16-01-22 05:00\",\"s16-01-22 06:00\",\"s16-01-22 07:00\",\"s16-01-22 08:00\",\"s16-01-22 09:00\",\"s16-01-22 10:00\",\"s16-01-22 11:00\",\"s16-01-22 12:00\",\"s16-01-22 13:00\",\"s16-01-22 14:00\",\"s16-01-22 15:00\",\"s16-01-22 16:00\",\"s16-01-22 17:00\",\"s16-01-22 18:00\",\"s16-01-22 19:00\",\"s16-01-22 20:00\",\"s16-01-22 21:00\",\"s16-01-24 22:00\",\"s16-01-24 23:00\",\"s16-01-25 00:00\",\"s16-01-25 01:00\",\"s16-01-25 02:00\",\"s16-01-25 03:00\",\"s16-01-25 04:00\",\"s16-01-25 05:00\",\"s16-01-25 06:00\",\"s16-01-25 07:00\",\"s16-01-25 08:00\",\"s16-01-25 09:00\",\"s16-01-25 10:00\"],\"y\":[167.6282286770598,167.63310828156617,167.63763419664548,167.6486231699228,167.66073216683873,167.66950457554358,167.68272429475485,167.70033819777402,167.715631865677,167.73912843415332,167.76138608648927,167.77837519955813,167.79568161410657,167.8173410463391,167.83617957384178,167.85558904528037,167.87215368866202,167.88854414504553,167.90021895314385,167.91366029267112,167.93099560388885,167.950937703089,167.97074277598318,167.9903915088735,168.00854111157932,168.02813854025058,168.04117066461097,168.0494441599161,168.0576264774683,168.06364424759045],\"type\":\"scatter\",\"xaxis\":\"x\",\"yaxis\":\"y\"},{\"line\":{\"shape\":\"spline\",\"width\":2},\"name\":\"RSI_14\",\"x\":[\"s16-01-22 05:00\",\"s16-01-22 06:00\",\"s16-01-22 07:00\",\"s16-01-22 08:00\",\"s16-01-22 09:00\",\"s16-01-22 10:00\",\"s16-01-22 11:00\",\"s16-01-22 12:00\",\"s16-01-22 13:00\",\"s16-01-22 14:00\",\"s16-01-22 15:00\",\"s16-01-22 16:00\",\"s16-01-22 17:00\",\"s16-01-22 18:00\",\"s16-01-22 19:00\",\"s16-01-22 20:00\",\"s16-01-22 21:00\",\"s16-01-24 22:00\",\"s16-01-24 23:00\",\"s16-01-25 00:00\",\"s16-01-25 01:00\",\"s16-01-25 02:00\",\"s16-01-25 03:00\",\"s16-01-25 04:00\",\"s16-01-25 05:00\",\"s16-01-25 06:00\",\"s16-01-25 07:00\",\"s16-01-25 08:00\",\"s16-01-25 09:00\",\"s16-01-25 10:00\"],\"y\":[66.52199740094461,67.40735272362372,66.86327325675137,72.15380166807174,73.03999511461201,67.12177176649472,70.75092055915692,73.85843167413577,70.1099855244957,75.41717671046236,73.77435864628248,65.81923021026716,66.2165076240203,69.62272775043147,65.58200623443415,66.22227867787811,62.04008668838728,62.05045222491881,55.08494661347466,57.24840596967976,61.5080219938214,64.17111610938116,64.25122311663483,64.31566389766036,61.87337693338535,63.779533122488736,52.82048293240642,46.55518634333426,46.55518634333426,43.84122399552543],\"type\":\"scatter\",\"xaxis\":\"x\",\"yaxis\":\"y2\"}],                        {\"template\":{\"data\":{\"histogram2dcontour\":[{\"type\":\"histogram2dcontour\",\"colorbar\":{\"outlinewidth\":0,\"ticks\":\"\"},\"colorscale\":[[0.0,\"#0d0887\"],[0.1111111111111111,\"#46039f\"],[0.2222222222222222,\"#7201a8\"],[0.3333333333333333,\"#9c179e\"],[0.4444444444444444,\"#bd3786\"],[0.5555555555555556,\"#d8576b\"],[0.6666666666666666,\"#ed7953\"],[0.7777777777777778,\"#fb9f3a\"],[0.8888888888888888,\"#fdca26\"],[1.0,\"#f0f921\"]]}],\"choropleth\":[{\"type\":\"choropleth\",\"colorbar\":{\"outlinewidth\":0,\"ticks\":\"\"}}],\"histogram2d\":[{\"type\":\"histogram2d\",\"colorbar\":{\"outlinewidth\":0,\"ticks\":\"\"},\"colorscale\":[[0.0,\"#0d0887\"],[0.1111111111111111,\"#46039f\"],[0.2222222222222222,\"#7201a8\"],[0.3333333333333333,\"#9c179e\"],[0.4444444444444444,\"#bd3786\"],[0.5555555555555556,\"#d8576b\"],[0.6666666666666666,\"#ed7953\"],[0.7777777777777778,\"#fb9f3a\"],[0.8888888888888888,\"#fdca26\"],[1.0,\"#f0f921\"]]}],\"heatmap\":[{\"type\":\"heatmap\",\"colorbar\":{\"outlinewidth\":0,\"ticks\":\"\"},\"colorscale\":[[0.0,\"#0d0887\"],[0.1111111111111111,\"#46039f\"],[0.2222222222222222,\"#7201a8\"],[0.3333333333333333,\"#9c179e\"],[0.4444444444444444,\"#bd3786\"],[0.5555555555555556,\"#d8576b\"],[0.6666666666666666,\"#ed7953\"],[0.7777777777777778,\"#fb9f3a\"],[0.8888888888888888,\"#fdca26\"],[1.0,\"#f0f921\"]]}],\"heatmapgl\":[{\"type\":\"heatmapgl\",\"colorbar\":{\"outlinewidth\":0,\"ticks\":\"\"},\"colorscale\":[[0.0,\"#0d0887\"],[0.1111111111111111,\"#46039f\"],[0.2222222222222222,\"#7201a8\"],[0.3333333333333333,\"#9c179e\"],[0.4444444444444444,\"#bd3786\"],[0.5555555555555556,\"#d8576b\"],[0.6666666666666666,\"#ed7953\"],[0.7777777777777778,\"#fb9f3a\"],[0.8888888888888888,\"#fdca26\"],[1.0,\"#f0f921\"]]}],\"contourcarpet\":[{\"type\":\"contourcarpet\",\"colorbar\":{\"outlinewidth\":0,\"ticks\":\"\"}}],\"contour\":[{\"type\":\"contour\",\"colorbar\":{\"outlinewidth\":0,\"ticks\":\"\"},\"colorscale\":[[0.0,\"#0d0887\"],[0.1111111111111111,\"#46039f\"],[0.2222222222222222,\"#7201a8\"],[0.3333333333333333,\"#9c179e\"],[0.4444444444444444,\"#bd3786\"],[0.5555555555555556,\"#d8576b\"],[0.6666666666666666,\"#ed7953\"],[0.7777777777777778,\"#fb9f3a\"],[0.8888888888888888,\"#fdca26\"],[1.0,\"#f0f921\"]]}],\"surface\":[{\"type\":\"surface\",\"colorbar\":{\"outlinewidth\":0,\"ticks\":\"\"},\"colorscale\":[[0.0,\"#0d0887\"],[0.1111111111111111,\"#46039f\"],[0.2222222222222222,\"#7201a8\"],[0.3333333333333333,\"#9c179e\"],[0.4444444444444444,\"#bd3786\"],[0.5555555555555556,\"#d8576b\"],[0.6666666666666666,\"#ed7953\"],[0.7777777777777778,\"#fb9f3a\"],[0.8888888888888888,\"#fdca26\"],[1.0,\"#f0f921\"]]}],\"mesh3d\":[{\"type\":\"mesh3d\",\"colorbar\":{\"outlinewidth\":0,\"ticks\":\"\"}}],\"scatter\":[{\"fillpattern\":{\"fillmode\":\"overlay\",\"size\":10,\"solidity\":0.2},\"type\":\"scatter\"}],\"parcoords\":[{\"type\":\"parcoords\",\"line\":{\"colorbar\":{\"outlinewidth\":0,\"ticks\":\"\"}}}],\"scatterpolargl\":[{\"type\":\"scatterpolargl\",\"marker\":{\"colorbar\":{\"outlinewidth\":0,\"ticks\":\"\"}}}],\"bar\":[{\"error_x\":{\"color\":\"#2a3f5f\"},\"error_y\":{\"color\":\"#2a3f5f\"},\"marker\":{\"line\":{\"color\":\"#E5ECF6\",\"width\":0.5},\"pattern\":{\"fillmode\":\"overlay\",\"size\":10,\"solidity\":0.2}},\"type\":\"bar\"}],\"scattergeo\":[{\"type\":\"scattergeo\",\"marker\":{\"colorbar\":{\"outlinewidth\":0,\"ticks\":\"\"}}}],\"scatterpolar\":[{\"type\":\"scatterpolar\",\"marker\":{\"colorbar\":{\"outlinewidth\":0,\"ticks\":\"\"}}}],\"histogram\":[{\"marker\":{\"pattern\":{\"fillmode\":\"overlay\",\"size\":10,\"solidity\":0.2}},\"type\":\"histogram\"}],\"scattergl\":[{\"type\":\"scattergl\",\"marker\":{\"colorbar\":{\"outlinewidth\":0,\"ticks\":\"\"}}}],\"scatter3d\":[{\"type\":\"scatter3d\",\"line\":{\"colorbar\":{\"outlinewidth\":0,\"ticks\":\"\"}},\"marker\":{\"colorbar\":{\"outlinewidth\":0,\"ticks\":\"\"}}}],\"scattermapbox\":[{\"type\":\"scattermapbox\",\"marker\":{\"colorbar\":{\"outlinewidth\":0,\"ticks\":\"\"}}}],\"scatterternary\":[{\"type\":\"scatterternary\",\"marker\":{\"colorbar\":{\"outlinewidth\":0,\"ticks\":\"\"}}}],\"scattercarpet\":[{\"type\":\"scattercarpet\",\"marker\":{\"colorbar\":{\"outlinewidth\":0,\"ticks\":\"\"}}}],\"carpet\":[{\"aaxis\":{\"endlinecolor\":\"#2a3f5f\",\"gridcolor\":\"white\",\"linecolor\":\"white\",\"minorgridcolor\":\"white\",\"startlinecolor\":\"#2a3f5f\"},\"baxis\":{\"endlinecolor\":\"#2a3f5f\",\"gridcolor\":\"white\",\"linecolor\":\"white\",\"minorgridcolor\":\"white\",\"startlinecolor\":\"#2a3f5f\"},\"type\":\"carpet\"}],\"table\":[{\"cells\":{\"fill\":{\"color\":\"#EBF0F8\"},\"line\":{\"color\":\"white\"}},\"header\":{\"fill\":{\"color\":\"#C8D4E3\"},\"line\":{\"color\":\"white\"}},\"type\":\"table\"}],\"barpolar\":[{\"marker\":{\"line\":{\"color\":\"#E5ECF6\",\"width\":0.5},\"pattern\":{\"fillmode\":\"overlay\",\"size\":10,\"solidity\":0.2}},\"type\":\"barpolar\"}],\"pie\":[{\"automargin\":true,\"type\":\"pie\"}]},\"layout\":{\"autotypenumbers\":\"strict\",\"colorway\":[\"#636efa\",\"#EF553B\",\"#00cc96\",\"#ab63fa\",\"#FFA15A\",\"#19d3f3\",\"#FF6692\",\"#B6E880\",\"#FF97FF\",\"#FECB52\"],\"font\":{\"color\":\"#2a3f5f\"},\"hovermode\":\"closest\",\"hoverlabel\":{\"align\":\"left\"},\"paper_bgcolor\":\"white\",\"plot_bgcolor\":\"#E5ECF6\",\"polar\":{\"bgcolor\":\"#E5ECF6\",\"angularaxis\":{\"gridcolor\":\"white\",\"linecolor\":\"white\",\"ticks\":\"\"},\"radialaxis\":{\"gridcolor\":\"white\",\"linecolor\":\"white\",\"ticks\":\"\"}},\"ternary\":{\"bgcolor\":\"#E5ECF6\",\"aaxis\":{\"gridcolor\":\"white\",\"linecolor\":\"white\",\"ticks\":\"\"},\"baxis\":{\"gridcolor\":\"white\",\"linecolor\":\"white\",\"ticks\":\"\"},\"caxis\":{\"gridcolor\":\"white\",\"linecolor\":\"white\",\"ticks\":\"\"}},\"coloraxis\":{\"colorbar\":{\"outlinewidth\":0,\"ticks\":\"\"}},\"colorscale\":{\"sequential\":[[0.0,\"#0d0887\"],[0.1111111111111111,\"#46039f\"],[0.2222222222222222,\"#7201a8\"],[0.3333333333333333,\"#9c179e\"],[0.4444444444444444,\"#bd3786\"],[0.5555555555555556,\"#d8576b\"],[0.6666666666666666,\"#ed7953\"],[0.7777777777777778,\"#fb9f3a\"],[0.8888888888888888,\"#fdca26\"],[1.0,\"#f0f921\"]],\"sequentialminus\":[[0.0,\"#0d0887\"],[0.1111111111111111,\"#46039f\"],[0.2222222222222222,\"#7201a8\"],[0.3333333333333333,\"#9c179e\"],[0.4444444444444444,\"#bd3786\"],[0.5555555555555556,\"#d8576b\"],[0.6666666666666666,\"#ed7953\"],[0.7777777777777778,\"#fb9f3a\"],[0.8888888888888888,\"#fdca26\"],[1.0,\"#f0f921\"]],\"diverging\":[[0,\"#8e0152\"],[0.1,\"#c51b7d\"],[0.2,\"#de77ae\"],[0.3,\"#f1b6da\"],[0.4,\"#fde0ef\"],[0.5,\"#f7f7f7\"],[0.6,\"#e6f5d0\"],[0.7,\"#b8e186\"],[0.8,\"#7fbc41\"],[0.9,\"#4d9221\"],[1,\"#276419\"]]},\"xaxis\":{\"gridcolor\":\"white\",\"linecolor\":\"white\",\"ticks\":\"\",\"title\":{\"standoff\":15},\"zerolinecolor\":\"white\",\"automargin\":true,\"zerolinewidth\":2},\"yaxis\":{\"gridcolor\":\"white\",\"linecolor\":\"white\",\"ticks\":\"\",\"title\":{\"standoff\":15},\"zerolinecolor\":\"white\",\"automargin\":true,\"zerolinewidth\":2},\"scene\":{\"xaxis\":{\"backgroundcolor\":\"#E5ECF6\",\"gridcolor\":\"white\",\"linecolor\":\"white\",\"showbackground\":true,\"ticks\":\"\",\"zerolinecolor\":\"white\",\"gridwidth\":2},\"yaxis\":{\"backgroundcolor\":\"#E5ECF6\",\"gridcolor\":\"white\",\"linecolor\":\"white\",\"showbackground\":true,\"ticks\":\"\",\"zerolinecolor\":\"white\",\"gridwidth\":2},\"zaxis\":{\"backgroundcolor\":\"#E5ECF6\",\"gridcolor\":\"white\",\"linecolor\":\"white\",\"showbackground\":true,\"ticks\":\"\",\"zerolinecolor\":\"white\",\"gridwidth\":2}},\"shapedefaults\":{\"line\":{\"color\":\"#2a3f5f\"}},\"annotationdefaults\":{\"arrowcolor\":\"#2a3f5f\",\"arrowhead\":0,\"arrowwidth\":1},\"geo\":{\"bgcolor\":\"white\",\"landcolor\":\"#E5ECF6\",\"subunitcolor\":\"white\",\"showland\":true,\"showlakes\":true,\"lakecolor\":\"white\"},\"title\":{\"x\":0.05},\"mapbox\":{\"style\":\"light\"}}},\"xaxis\":{\"anchor\":\"y\",\"domain\":[0.0,0.94],\"rangeslider\":{\"visible\":false},\"gridcolor\":\"#1f292f\",\"nticks\":5},\"yaxis\":{\"anchor\":\"x\",\"domain\":[0.0,1.0],\"gridcolor\":\"#1f292f\"},\"yaxis2\":{\"anchor\":\"x\",\"overlaying\":\"y\",\"side\":\"right\",\"gridcolor\":\"#1f292f\"},\"margin\":{\"l\":10,\"r\":10,\"b\":10,\"t\":10},\"font\":{\"size\":8,\"color\":\"#e1e1e1\"},\"width\":900,\"height\":250,\"paper_bgcolor\":\"#2c303c\",\"plot_bgcolor\":\"#2c303c\"},                        {\"responsive\": true}                    ).then(function(){\n",
       "                            \n",
       "var gd = document.getElementById('977013f3-1ff7-4d00-81ed-630bc7d3d0e7');\n",
       "var x = new MutationObserver(function (mutations, observer) {{\n",
       "        var display = window.getComputedStyle(gd).display;\n",
       "        if (!display || display === 'none') {{\n",
       "            console.log([gd, 'removed!']);\n",
       "            Plotly.purge(gd);\n",
       "            observer.disconnect();\n",
       "        }}\n",
       "}});\n",
       "\n",
       "// Listen for the removal of the full notebook cells\n",
       "var notebookContainer = gd.closest('#notebook-container');\n",
       "if (notebookContainer) {{\n",
       "    x.observe(notebookContainer, {childList: true});\n",
       "}}\n",
       "\n",
       "// Listen for the clearing of the current output cell\n",
       "var outputEl = gd.closest('.output');\n",
       "if (outputEl) {{\n",
       "    x.observe(outputEl, {childList: true});\n",
       "}}\n",
       "\n",
       "                        })                };                });            </script>        </div>"
      ]
     },
     "metadata": {},
     "output_type": "display_data"
    }
   ],
   "source": [
    "df_plot = df_slim.iloc[70:100]\n",
    "cp = CandlePlot(df_plot, candles=True)\n",
    "\n",
    "trades = cp.df_plot[cp.df_plot.SIGNAL != NONE]\n",
    "\n",
    "markers = ['mid_c', 'TP', 'SL']\n",
    "marker_colors = ['#0000FF', '#00FF00', '#FF0000']\n",
    "\n",
    "for i in range(3):\n",
    "    cp.fig.add_trace(go.Scatter(\n",
    "        x = trades.sTime,\n",
    "        y = trades[markers[i]],\n",
    "        mode = 'markers',\n",
    "        marker=dict(color=marker_colors[i], size=12)\n",
    "    ))\n",
    "\n",
    "cp.show_plot(line_traces=[\"EMA_200\"], sec_traces=['RSI_14'], height=250)"
   ]
  },
  {
   "cell_type": "code",
   "execution_count": 84,
   "id": "5f2b88e7-8d41-4bd0-9857-85aac96f8b23",
   "metadata": {},
   "outputs": [
    {
     "data": {
      "text/html": [
       "<div>\n",
       "<style scoped>\n",
       "    .dataframe tbody tr th:only-of-type {\n",
       "        vertical-align: middle;\n",
       "    }\n",
       "\n",
       "    .dataframe tbody tr th {\n",
       "        vertical-align: top;\n",
       "    }\n",
       "\n",
       "    .dataframe thead th {\n",
       "        text-align: right;\n",
       "    }\n",
       "</style>\n",
       "<table border=\"1\" class=\"dataframe\">\n",
       "  <thead>\n",
       "    <tr style=\"text-align: right;\">\n",
       "      <th></th>\n",
       "      <th>running</th>\n",
       "      <th>start_index</th>\n",
       "      <th>start_price</th>\n",
       "      <th>trigger_price</th>\n",
       "      <th>SIGNAL</th>\n",
       "      <th>TP</th>\n",
       "      <th>SL</th>\n",
       "      <th>result</th>\n",
       "      <th>end_time</th>\n",
       "      <th>start_time</th>\n",
       "      <th>duration</th>\n",
       "    </tr>\n",
       "  </thead>\n",
       "  <tbody>\n",
       "    <tr>\n",
       "      <th>5</th>\n",
       "      <td>False</td>\n",
       "      <td>73</td>\n",
       "      <td>168.670</td>\n",
       "      <td>169.961</td>\n",
       "      <td>1</td>\n",
       "      <td>169.5910</td>\n",
       "      <td>168.056</td>\n",
       "      <td>1.5</td>\n",
       "      <td>2016-01-22 14:00:00+00:00</td>\n",
       "      <td>2016-01-22 08:00:00+00:00</td>\n",
       "      <td>6</td>\n",
       "    </tr>\n",
       "    <tr>\n",
       "      <th>6</th>\n",
       "      <td>False</td>\n",
       "      <td>76</td>\n",
       "      <td>168.914</td>\n",
       "      <td>169.961</td>\n",
       "      <td>1</td>\n",
       "      <td>169.5485</td>\n",
       "      <td>168.491</td>\n",
       "      <td>1.5</td>\n",
       "      <td>2016-01-22 14:00:00+00:00</td>\n",
       "      <td>2016-01-22 11:00:00+00:00</td>\n",
       "      <td>3</td>\n",
       "    </tr>\n",
       "    <tr>\n",
       "      <th>7</th>\n",
       "      <td>False</td>\n",
       "      <td>79</td>\n",
       "      <td>169.932</td>\n",
       "      <td>168.996</td>\n",
       "      <td>1</td>\n",
       "      <td>171.1200</td>\n",
       "      <td>169.140</td>\n",
       "      <td>-1.0</td>\n",
       "      <td>2016-01-24 23:00:00+00:00</td>\n",
       "      <td>2016-01-22 14:00:00+00:00</td>\n",
       "      <td>9</td>\n",
       "    </tr>\n",
       "    <tr>\n",
       "      <th>8</th>\n",
       "      <td>False</td>\n",
       "      <td>95</td>\n",
       "      <td>169.875</td>\n",
       "      <td>169.158</td>\n",
       "      <td>1</td>\n",
       "      <td>170.1105</td>\n",
       "      <td>169.718</td>\n",
       "      <td>-1.0</td>\n",
       "      <td>2016-01-25 07:00:00+00:00</td>\n",
       "      <td>2016-01-25 06:00:00+00:00</td>\n",
       "      <td>1</td>\n",
       "    </tr>\n",
       "    <tr>\n",
       "      <th>9</th>\n",
       "      <td>False</td>\n",
       "      <td>101</td>\n",
       "      <td>169.218</td>\n",
       "      <td>168.538</td>\n",
       "      <td>1</td>\n",
       "      <td>170.1900</td>\n",
       "      <td>168.570</td>\n",
       "      <td>-1.0</td>\n",
       "      <td>2016-01-25 13:00:00+00:00</td>\n",
       "      <td>2016-01-25 12:00:00+00:00</td>\n",
       "      <td>1</td>\n",
       "    </tr>\n",
       "  </tbody>\n",
       "</table>\n",
       "</div>"
      ],
      "text/plain": [
       "   running  start_index  start_price  trigger_price  SIGNAL        TP  \\\n",
       "5    False           73      168.670        169.961       1  169.5910   \n",
       "6    False           76      168.914        169.961       1  169.5485   \n",
       "7    False           79      169.932        168.996       1  171.1200   \n",
       "8    False           95      169.875        169.158       1  170.1105   \n",
       "9    False          101      169.218        168.538       1  170.1900   \n",
       "\n",
       "        SL  result                  end_time                start_time  \\\n",
       "5  168.056     1.5 2016-01-22 14:00:00+00:00 2016-01-22 08:00:00+00:00   \n",
       "6  168.491     1.5 2016-01-22 14:00:00+00:00 2016-01-22 11:00:00+00:00   \n",
       "7  169.140    -1.0 2016-01-24 23:00:00+00:00 2016-01-22 14:00:00+00:00   \n",
       "8  169.718    -1.0 2016-01-25 07:00:00+00:00 2016-01-25 06:00:00+00:00   \n",
       "9  168.570    -1.0 2016-01-25 13:00:00+00:00 2016-01-25 12:00:00+00:00   \n",
       "\n",
       "   duration  \n",
       "5         6  \n",
       "6         3  \n",
       "7         9  \n",
       "8         1  \n",
       "9         1  "
      ]
     },
     "execution_count": 84,
     "metadata": {},
     "output_type": "execute_result"
    }
   ],
   "source": [
    "df_results[df_results.SIGNAL == BUY].head()"
   ]
  },
  {
   "cell_type": "code",
   "execution_count": 76,
   "id": "70b1b248-1a04-4df0-b044-2fa8fcaeb295",
   "metadata": {},
   "outputs": [],
   "source": [
    "class Trade:\n",
    "    def __init__(self, row):\n",
    "        self.running = True\n",
    "        self.start_index = row.name\n",
    "        self.start_price = row.mid_c\n",
    "        self.trigger_price = row.mid_c\n",
    "        self.SIGNAL = row.SIGNAL\n",
    "        self.TP = row.TP\n",
    "        self.SL = row.SL\n",
    "        self.result = 0.0\n",
    "        self.end_time = row.time\n",
    "        self.start_time = row.time\n",
    "        self.duration = 0\n",
    "        \n",
    "\n",
    "    def close_trade(self, row, result, trigger_price):\n",
    "        self.running = False\n",
    "        self.result = result\n",
    "        self.end_time = row.time\n",
    "        self.trigger_price = trigger_price\n",
    "\n",
    "    \n",
    "    def update(self, row):\n",
    "        self.duration += 1\n",
    "        if self.SIGNAL == BUY:\n",
    "            if row.mid_h >= self.TP:\n",
    "                self.close_trade(row, PROFIT_FACTOR, row.mid_h)\n",
    "            elif row.mid_l <= self.SL:\n",
    "                self.close_trade(row, LOSS_FACTOR, row.mid_l)\n",
    "            # if row.mid_l <= self.SL:\n",
    "            #     self.close_trade(row, LOSS_FACTOR, row.mid_l)\n",
    "            # elif row.mid_h >= self.TP:\n",
    "            #     self.close_trade(row, PROFIT_FACTOR, row.mid_h)\n",
    "        if self.SIGNAL == SELL:\n",
    "            if row.mid_l <= self.TP:\n",
    "                self.close_trade(row, PROFIT_FACTOR, row.mid_l)\n",
    "            elif row.mid_h >= self.SL:\n",
    "                self.close_trade(row, LOSS_FACTOR, row.mid_h)\n",
    "            # if row.mid_h >= self.SL:\n",
    "            #     self.close_trade(row, LOSS_FACTOR, row.mid_h)\n",
    "            # elif row.mid_l <= self.TP:\n",
    "            #     self.close_trade(row, PROFIT_FACTOR, row.mid_l)"
   ]
  },
  {
   "cell_type": "code",
   "execution_count": 77,
   "id": "39e79d19-dbcb-46d6-ab46-22283a5de853",
   "metadata": {},
   "outputs": [],
   "source": [
    "open_trades = []\n",
    "closed_trades = []\n",
    "\n",
    "for index, row in df_slim.iterrows():\n",
    "    for ot in open_trades:\n",
    "        ot.update(row)\n",
    "        if ot.running == False:\n",
    "            closed_trades.append(ot)\n",
    "    open_trades = [x for x in open_trades if x.running == True]\n",
    "\n",
    "    if row.SIGNAL != NONE:\n",
    "        open_trades.append(Trade(row))"
   ]
  },
  {
   "cell_type": "code",
   "execution_count": 78,
   "id": "a4739d7d-7614-4fb0-8adb-f191758a7987",
   "metadata": {},
   "outputs": [],
   "source": [
    "df_results = pd.DataFrame.from_dict([vars(x) for x in closed_trades])"
   ]
  },
  {
   "cell_type": "code",
   "execution_count": 79,
   "id": "6d6af753-c4d7-4efb-b89c-c4c0a29864b8",
   "metadata": {},
   "outputs": [
    {
     "data": {
      "text/plain": [
       "np.float64(259.5)"
      ]
     },
     "execution_count": 79,
     "metadata": {},
     "output_type": "execute_result"
    }
   ],
   "source": [
    "df_results.result.sum()"
   ]
  },
  {
   "cell_type": "code",
   "execution_count": 81,
   "id": "21d2669a-009a-4853-9878-87a5d7fbb5c1",
   "metadata": {},
   "outputs": [],
   "source": [
    "df_results.sort_values(by=\"start_index\", inplace=True)"
   ]
  },
  {
   "cell_type": "code",
   "execution_count": null,
   "id": "7bc75907-e06a-4e3c-84d9-a84cff27082a",
   "metadata": {},
   "outputs": [],
   "source": []
  }
 ],
 "metadata": {
  "kernelspec": {
   "display_name": "Python 3 (ipykernel)",
   "language": "python",
   "name": "python3"
  },
  "language_info": {
   "codemirror_mode": {
    "name": "ipython",
    "version": 3
   },
   "file_extension": ".py",
   "mimetype": "text/x-python",
   "name": "python",
   "nbconvert_exporter": "python",
   "pygments_lexer": "ipython3",
   "version": "3.11.6"
  }
 },
 "nbformat": 4,
 "nbformat_minor": 5
}
